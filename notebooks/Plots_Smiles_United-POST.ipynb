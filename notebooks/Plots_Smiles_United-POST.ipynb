{
 "cells": [
  {
   "cell_type": "markdown",
   "metadata": {},
   "source": [
    "# Plots for Smiles United Project - POST\n",
    "This note book is all the plots created from the post-training data"
   ]
  },
  {
   "cell_type": "code",
   "execution_count": null,
   "metadata": {},
   "outputs": [],
   "source": []
  },
  {
   "cell_type": "code",
   "execution_count": null,
   "metadata": {},
   "outputs": [],
   "source": [
    "import pandas as pd\n",
    "import numpy as np\n",
    "import scipy.stats as stats\n",
    "\n",
    "import seaborn as sns\n",
    "sns.set_style('darkgrid', {'axes.facecolor': '0.9', \"grid.color\": \".6\", \"grid.linestyle\": \":\"})\n",
    "sns.set_context(\"talk\")\n",
    "\n",
    "import folium\n",
    "\n",
    "import matplotlib.pyplot as plt\n",
    "from matplotlib import patches as mpatches\n",
    "%matplotlib inline\n",
    "\n",
    "import warnings\n",
    "warnings.filterwarnings('ignore')"
   ]
  },
  {
   "cell_type": "markdown",
   "metadata": {},
   "source": [
    "## Minutes to complete survey"
   ]
  },
  {
   "cell_type": "code",
   "execution_count": null,
   "metadata": {},
   "outputs": [],
   "source": [
    "post_time = pd.read_pickle(\"../saved_data_frames/POST_time_df.pkl\")\n",
    "post_time.head()"
   ]
  },
  {
   "cell_type": "code",
   "execution_count": null,
   "metadata": {},
   "outputs": [],
   "source": [
    "fig, axes = plt.subplots(ncols=2, nrows=1, figsize=(10,5))\n",
    "fig.set_tight_layout(True)\n",
    "fig.suptitle(\"Minutes to complete survey\", fontsize=20)\n",
    "\n",
    "axes[0] = sns.histplot(data=post_time[['mins']], ax=axes[0])\n",
    "axes[0].get_legend().remove()\n",
    "axes[0].set(title='Histogram');\n",
    "\n",
    "axes[1] = sns.boxplot(data=post_time[['mins']], saturation=0.9, color=\"tab:blue\", ax=axes[1], orient=\"h\")\n",
    "axes[1].set(title='Bolxplot')\n",
    "axes[1].tick_params(left=False)\n",
    "axes[1].set(yticklabels=[]);"
   ]
  },
  {
   "cell_type": "code",
   "execution_count": null,
   "metadata": {},
   "outputs": [],
   "source": [
    "import math\n",
    "\n",
    "meanpointprops = dict(marker='D', markeredgecolor='black',\n",
    "                      markerfacecolor='firebrick')\n",
    "trimmed = post_time[(np.abs(stats.zscore(post_time['mins'])) < 2)][['mins']]\n",
    "\n",
    "fig, axes = plt.subplots(ncols=2, nrows=1, figsize=(15,5))\n",
    "fig.set_tight_layout(True)\n",
    "fig.suptitle(\"Minutes to complete POST survey  - with 2 extreme outliers removed\", fontsize=25)\n",
    "\n",
    "\n",
    "axes[0] = sns.histplot(data=trimmed,\n",
    "                       color=\"tab:blue\", \n",
    "                       ax=axes[0])\n",
    "axes[0].axvline(trimmed.mean()[0], \n",
    "                color='firebrick', \n",
    "                lw=2, \n",
    "                ls='--', \n",
    "                label=f\"Average time to complete survey: {math.floor(trimmed.mean()[0])}m:{round((trimmed.mean()[0]*60) % 60)}s\")\n",
    "axes[0].legend(facecolor=\"white\")\n",
    "axes[0].set(title='Histogram');\n",
    "\n",
    "\n",
    "axes[1] = sns.boxplot(data=trimmed, \n",
    "                      #color=\"tab:blue\", \n",
    "                      ax=axes[1], \n",
    "                      orient=\"h\", \n",
    "                      meanprops=meanpointprops,\n",
    "                      showmeans=True)\n",
    "axes[1].set(title='Bolxplot')\n",
    "axes[1].tick_params(left=False)\n",
    "#axes[1].yaxis.grid(True)\n",
    "axes[1].set(yticklabels=[]);\n",
    "plt.savefig(\"../images/post_intervention/mins_to_complete\",bbox_inches='tight')"
   ]
  },
  {
   "cell_type": "code",
   "execution_count": null,
   "metadata": {},
   "outputs": [],
   "source": [
    "# confirm # of surveys removed has been removed\n",
    "print(f\"original: {post_time.shape[0]}\")\n",
    "print(f\"trimmed: {trimmed.shape[0]}\")\n",
    "print(\"-\"*13)\n",
    "difference = post_time.shape[0]-trimmed.shape[0]\n",
    "print(f\"# removed: {difference}\")"
   ]
  },
  {
   "cell_type": "markdown",
   "metadata": {},
   "source": [
    "## Total responses vs. Completed responses"
   ]
  },
  {
   "cell_type": "code",
   "execution_count": null,
   "metadata": {},
   "outputs": [],
   "source": [
    "post_totals = pd.read_pickle(\"../saved_data_frames/post_totals_df.pkl\")\n",
    "post_totals"
   ]
  },
  {
   "cell_type": "code",
   "execution_count": null,
   "metadata": {},
   "outputs": [],
   "source": [
    "colors = ['C10', 'C12']\n",
    "plt.figure(figsize=(6,5))\n",
    "plt.title(\"Total responses vs. Completed POST responses\", fontsize=20)\n",
    "sns.barplot(data = post_totals.T, palette=colors).set(ylabel='count')\n",
    "\n",
    "plt.legend(handles = [mpatches.Patch(color=i) for i in colors],\n",
    "           labels=[f\"{i}: {post_totals['count'][i]}\" for i in post_totals.T.columns],\n",
    "           facecolor=\"white\", \n",
    "           fontsize=13);\n",
    "plt.savefig(\"../images/post_intervention/total_v_complete\", bbox_inches='tight')"
   ]
  },
  {
   "cell_type": "code",
   "execution_count": null,
   "metadata": {},
   "outputs": [],
   "source": [
    "# summary of pre and post tarining survey completion"
   ]
  },
  {
   "cell_type": "code",
   "execution_count": null,
   "metadata": {},
   "outputs": [],
   "source": [
    "post_totals"
   ]
  },
  {
   "cell_type": "code",
   "execution_count": null,
   "metadata": {},
   "outputs": [],
   "source": [
    "totals = pd.read_pickle(\"../saved_data_frames/totals_df.pkl\")\n",
    "totals"
   ]
  },
  {
   "cell_type": "code",
   "execution_count": null,
   "metadata": {},
   "outputs": [],
   "source": [
    "fig, (ax1, ax2) = plt.subplots(ncols=2, figsize=(15,6), sharey=True)\n",
    "fig.set_tight_layout(True)\n",
    "fig.suptitle(\"Total responses vs. Completed responses\", fontsize=25);\n",
    "\n",
    "# pre training\n",
    "sns.barplot(data = totals.T, palette=colors, ax=ax1).set(ylabel='count');\n",
    "\n",
    "ax1.legend(handles = [mpatches.Patch(color=i) for i in colors],\n",
    "           labels=[f\"{i}: {totals['count'][i]}\" for i in totals.T.columns],\n",
    "           facecolor=\"white\", \n",
    "           fontsize=13);\n",
    "ax1.set_title(\"Pre-training Surveys\", fontsize=20);\n",
    "\n",
    "# post training\n",
    "sns.barplot(data = post_totals.T, palette=colors, ax=ax2).set(ylabel='count')\n",
    "\n",
    "ax2.legend(handles = [mpatches.Patch(color=i) for i in colors],\n",
    "           labels=[f\"{i}: {post_totals['count'][i]}\" for i in post_totals.T.columns],\n",
    "           facecolor=\"white\", \n",
    "           fontsize=13);\n",
    "ax2.set_title(\"Post-training Surveys\", fontsize=20);\n",
    "\n",
    "plt.savefig(\"../images/pre_post_survey_completion\", bbox_inches='tight')"
   ]
  },
  {
   "cell_type": "markdown",
   "metadata": {},
   "source": [
    "## Number of respondents by latitude & longitude"
   ]
  },
  {
   "cell_type": "code",
   "execution_count": null,
   "metadata": {},
   "outputs": [],
   "source": [
    "POST_lat_long_df = pd.read_pickle(\"../saved_data_frames/lat_long_POST_df.pkl\")\n",
    "POST_lat_long_df.head()"
   ]
  },
  {
   "cell_type": "code",
   "execution_count": null,
   "metadata": {},
   "outputs": [],
   "source": [
    "#Create a map of the area\n",
    "POST_base_map = folium.Map([POST_lat_long_df['(lat,long)'][0][0], \n",
    "                            POST_lat_long_df['(lat,long)'][0][1]], zoom_start=6)\n",
    "POST_base_map"
   ]
  },
  {
   "cell_type": "code",
   "execution_count": null,
   "metadata": {},
   "outputs": [],
   "source": [
    "for i in POST_lat_long_df.index:\n",
    "    lat = POST_lat_long_df['(lat,long)'][i][0]\n",
    "    long = POST_lat_long_df['(lat,long)'][i][1]\n",
    "    count = str(POST_lat_long_df['count'][i])\n",
    "    popup = folium.Popup(count, parse_html=True)\n",
    "    marker = folium.Marker(location=[lat, long], popup=popup)\n",
    "    marker.add_to(POST_base_map)\n",
    "POST_base_map"
   ]
  },
  {
   "cell_type": "code",
   "execution_count": null,
   "metadata": {},
   "outputs": [],
   "source": [
    "POST_base_map.save('../data/post/Smiles_United.html')"
   ]
  },
  {
   "cell_type": "markdown",
   "metadata": {},
   "source": [
    "## Create a Plotting Function\n"
   ]
  },
  {
   "cell_type": "code",
   "execution_count": null,
   "metadata": {},
   "outputs": [],
   "source": [
    "# make a function for plots\n",
    "def distributions(data, \n",
    "                  title, \n",
    "                  rotate_xlabels=False, \n",
    "                  figsize=(15,8), \n",
    "                  order=None, \n",
    "                  title_fontsize=20,\n",
    "                  legend_outside=False,\n",
    "                  filepath=None):\n",
    "    \n",
    "    df = pd.DataFrame(data.value_counts())\n",
    "    colors = ['C0','C1','C2','C3','C4','C5','C6','C7','C8','C9','C10']\n",
    "    if order != None:\n",
    "        if order == 'agree':\n",
    "            colors = ['#2bdb1f','#c4fa2f','#fae22f','#fa942f','#fa2f2f']\n",
    "            df = df.T[['Strongly Agree',\n",
    "                       'Agree',\n",
    "                       'Neutral',\n",
    "                       'Disagree',\n",
    "                       'Strongly Disagree']].T\n",
    "            \n",
    "        elif order == 'agree_lowercase':\n",
    "            colors = ['#2bdb1f','#c4fa2f','#fae22f','#fa942f','#fa2f2f']\n",
    "            df = df.T[['Strongly agree',\n",
    "                       'Agree',\n",
    "                       'Neutral',\n",
    "                       'Disagree',\n",
    "                       'Strongly disagree']].T\n",
    "        \n",
    "        elif order == 'percent':\n",
    "            colors = ['#C97EFE','#AD70D8','#9963BF','#8053A0','#684382']\n",
    "            df = df.T[['None',\n",
    "                       'Less than 25%',\n",
    "                       '25% to 50%',\n",
    "                       '50% to 75%',\n",
    "                       'Greater than 75%']].T\n",
    "        \n",
    "        elif order == 'frequency_brush':\n",
    "            colors = ['#82C5FE','#6DA5D5','#5782A8','#456886']\n",
    "            df = df.T[['Less than 1 time each month',\n",
    "                       '2 to 3 times each week',\n",
    "                       '1 time each day',\n",
    "                       '2 to 3 times each day']].T\n",
    "        \n",
    "        elif order == 'frequency_floss':\n",
    "            colors = ['#8AC386','#73B06F','#5E9C5A','#498745','#3A7536', \"#2C6329\"]\n",
    "            df = df.T[['Less than 1 time each month',\n",
    "                       '1 time each month',\n",
    "                       '1 time each week',\n",
    "                       '2 to 3 times each week',\n",
    "                       '1 time each day',\n",
    "                       '2 to 3 times each day']].T\n",
    "        \n",
    "        elif order == 'often':\n",
    "            colors = ['#FDC384','#FEAC54','#FD982B','#FD8300']\n",
    "            df = df.T[['Never','Not often','Somewhat often','Very often']].T\n",
    "        \n",
    "        elif order == 'true_false':\n",
    "            colors = ['C24', 'C19']\n",
    "            df = df.T[['True','False']].T\n",
    "        \n",
    "        elif order == 'k_brush':\n",
    "            colors = ['#82C5FE','#70AADB','#6193BD','#527CA0','#456886']\n",
    "            df = df.T[['Less than 1 time each month',\n",
    "                       '1 time each week',\n",
    "                       '2 to 3 times each week',\n",
    "                       '1 time each day',\n",
    "                       '2 to 3 times each day']].T\n",
    "            \n",
    "        elif order == 'frequency_visit_dentist':\n",
    "            colors = ['#83FED7','#72DCBA','#61BDA0','#519F86','#44846F', # gradiant\n",
    "                      'C0','C1','C3'] # random \n",
    "\n",
    "            df = df.T[['Only when they have pain',\n",
    "                       'Less than once every 12 months',\n",
    "                       'Once every 12 months',\n",
    "                       'Once every 6 months',\n",
    "                       'Once every 3 months',\n",
    "                       'Unknown',\n",
    "                       'Varies',\n",
    "                       'Never']].T\n",
    "\n",
    "    df.columns = ['count']\n",
    "    \n",
    "    plt.figure(figsize=figsize)\n",
    "    plt.title(title, fontsize=title_fontsize)\n",
    "    sns.barplot(data = df.T, palette=colors).set(ylabel='count');\n",
    "    if rotate_xlabels != False:\n",
    "        if rotate_xlabels == True:\n",
    "            plt.xticks(rotation=20, ha='right', rotation_mode='anchor')\n",
    "        else:\n",
    "            plt.xticks(rotation=rotate_xlabels, ha='right', rotation_mode='anchor');\n",
    "            \n",
    "    if legend_outside == False:\n",
    "        plt.legend(handles = [mpatches.Patch(color=i) for i in colors],\n",
    "                   labels=[f\"{i}: {df['count'][i]}\" for i in df.T.columns],\n",
    "                   facecolor=\"white\", \n",
    "                   fontsize=15);\n",
    "    else:\n",
    "        plt.legend(handles = [mpatches.Patch(color=i) for i in colors],\n",
    "               labels=[f\"{i}: {df['count'][i]}\" for i in df.T.columns],\n",
    "               facecolor=\"white\", \n",
    "               fontsize=15,\n",
    "               bbox_to_anchor=(1.05, 1), \n",
    "               loc='upper left', \n",
    "               borderaxespad=0.);\n",
    "            \n",
    "    plt.savefig(filepath, bbox_inches='tight')"
   ]
  },
  {
   "cell_type": "markdown",
   "metadata": {},
   "source": [
    "## Load post training data"
   ]
  },
  {
   "cell_type": "code",
   "execution_count": null,
   "metadata": {},
   "outputs": [],
   "source": [
    "post = pd.read_pickle(\"../saved_data_frames/cleaned_post.pkl\")"
   ]
  },
  {
   "cell_type": "code",
   "execution_count": null,
   "metadata": {},
   "outputs": [],
   "source": [
    "post.head()"
   ]
  },
  {
   "cell_type": "markdown",
   "metadata": {},
   "source": [
    "## Plot location sites"
   ]
  },
  {
   "cell_type": "code",
   "execution_count": null,
   "metadata": {},
   "outputs": [],
   "source": [
    "site = pd.DataFrame(post[['Your program site']].value_counts())\n",
    "site.columns = ['count']\n",
    "site.index.names = ['']\n",
    "site.index = ['Anderson Center','Not Specified', 'Mamaroneck (YAI)',]\n",
    "site"
   ]
  },
  {
   "cell_type": "code",
   "execution_count": null,
   "metadata": {},
   "outputs": [],
   "source": [
    "colors = ['C2', 'C4', 'C5']\n",
    "plt.figure(figsize=(10,5))\n",
    "plt.title(\"Post Training Location Sites\", fontsize=20)\n",
    "sns.barplot(data = site.T, palette=colors).set(ylabel='count')\n",
    "\n",
    "plt.legend(handles = [mpatches.Patch(color=i) for i in colors],\n",
    "           labels=[f\"{i}: {site['count'][i]}\" for i in site.index],\n",
    "           facecolor=\"white\", \n",
    "           fontsize=13);\n",
    "\n",
    "plt.savefig(\"../images/post_intervention/location_sites\", bbox_inches='tight')"
   ]
  },
  {
   "cell_type": "markdown",
   "metadata": {},
   "source": [
    "# Plots of PAIRED surveys"
   ]
  },
  {
   "cell_type": "markdown",
   "metadata": {},
   "source": [
    "## Load PRE training with the 50 reliability testing surveys removed"
   ]
  },
  {
   "cell_type": "code",
   "execution_count": null,
   "metadata": {},
   "outputs": [],
   "source": [
    "sig_testing = pd.read_pickle(\"../saved_data_frames/sig_testing_PRE.pkl\")\n",
    "#sig_testing"
   ]
  },
  {
   "cell_type": "code",
   "execution_count": null,
   "metadata": {},
   "outputs": [],
   "source": [
    "# check there are no duplicates in either the random or chosen id's\n",
    "print(sig_testing['ChosenID'].duplicated().sum())\n",
    "print(sig_testing['RandomID'].duplicated().sum())"
   ]
  },
  {
   "cell_type": "code",
   "execution_count": null,
   "metadata": {},
   "outputs": [],
   "source": [
    "# all values in ChosenID and RandomID are unique"
   ]
  },
  {
   "cell_type": "code",
   "execution_count": null,
   "metadata": {},
   "outputs": [],
   "source": [
    "all_pre = pd.read_pickle(\"../saved_data_frames/cleaned_pre.pkl\")\n",
    "all_pre = all_pre.replace(\n",
    "    {'None of the residents under my care experience bleeding when brushing their teeth':\n",
    "     'None'}\n",
    ")\n",
    "#all_pre"
   ]
  },
  {
   "cell_type": "code",
   "execution_count": null,
   "metadata": {},
   "outputs": [],
   "source": [
    "# join\n",
    "pre = all_pre.join(\n",
    "    sig_testing[['ChosenID','RandomID']],\n",
    "    lsuffix='_drop', \n",
    "    rsuffix='',\n",
    "    how='inner'\n",
    ")#.drop(['ChosenID_drop','RandomID_drop'], axis=1)\n",
    "\n",
    "#pre"
   ]
  },
  {
   "cell_type": "code",
   "execution_count": null,
   "metadata": {},
   "outputs": [],
   "source": [
    "(pre['ChosenID'] != pre['ChosenID_drop']).sum()"
   ]
  },
  {
   "cell_type": "code",
   "execution_count": null,
   "metadata": {},
   "outputs": [],
   "source": [
    "(pre['RandomID'] != pre['RandomID_drop']).sum()"
   ]
  },
  {
   "cell_type": "code",
   "execution_count": null,
   "metadata": {},
   "outputs": [],
   "source": [
    "pre = pre.drop(['ChosenID_drop','RandomID_drop'], axis=1)"
   ]
  },
  {
   "cell_type": "markdown",
   "metadata": {},
   "source": [
    "## Extract out additional questions added to the post training survey"
   ]
  },
  {
   "cell_type": "code",
   "execution_count": null,
   "metadata": {},
   "outputs": [],
   "source": [
    "post_DDPC_required = post[[\n",
    "    'I am satisfied with the Smiles United training videos.',\n",
    "    'I have increased my advocacy following the Smiles United training.',\n",
    "    'I am better able to say what I want.',\n",
    "    'I am serving in leadership or advocacy positions (ex. Coalitions, policy boards, advisory boards)'\n",
    "]]"
   ]
  },
  {
   "cell_type": "markdown",
   "metadata": {},
   "source": [
    "## re arrange columns to match pre training data"
   ]
  },
  {
   "cell_type": "code",
   "execution_count": null,
   "metadata": {},
   "outputs": [],
   "source": [
    "post = post[\n",
    "    [\n",
    "        'I would be interested in receiving additional training to help maintain the oral health of residents under my care.',\n",
    "        'Approximately, what percentage of residents under your care require assistance brushing or flossing their teeth?',\n",
    "        'Approximately, what percentage of residents under your care experience bleeding when brushing their teeth?',\n",
    "        'Approximately, what percentage of residents under your care experience bleeding when flossing their teeth?',\n",
    "        'On average, how often do most residents under your care brush their teeth?',\n",
    "        'On average, how often do most residents under your care floss their teeth?',\n",
    "        'Approximately, how often do residents under your care have snacks throughout the day between brushing and flossing their teeth?',\n",
    "        'Approximately, how often do residents under your care go to the dentist?_consolidated',\n",
    "        'What is the biggest obstacle to providing excellent oral care to residents?_consolidated',\n",
    "        'What is your primary source of dental-related information?_consolidated',\n",
    "        'What is the biggest obstacle to receiving proper oral health care training in your facility?_consolidated',\n",
    "        'Which resource would be most useful to help improve your confidence in delivering excellent oral homecare to residents under your care?_consolidated',\n",
    "        'Before today, I have received training on how to provide direct oral health care for individuals with special health care needs_consolidated',\n",
    "        'Which of the following best describes your Race/Ethnicity?',\n",
    "        'Do you identify as:',\n",
    "        'Which of the following best describes the area you live in?',\n",
    "        'What is your primary language?',\n",
    "        'Are you a:',\n",
    "        'Fluoridated products, such as fluoridated toothpaste and fluoridated water, can help improve the oral health of residents.',\n",
    "        'It is normal for healthy gums to bleed when brushing teeth.',\n",
    "        'Dry mouth can have a negative effect on overall oral health.',\n",
    "        'Snacking throughout the day can have a negative impact on oral health.',\n",
    "        'I believe I have effective techniques which I use to brush the teeth of residents under my care.',\n",
    "        'I believe I have previously received adequate training to help provide the best oral care possible to residents under my care.',\n",
    "        'I believe residents under my care have oral health care needs which require further training to adequately understand and help manage.',\n",
    "        'I feel comfortable assisting residents in the safe use of fluoridated dental products (such as fluoridated toothpaste).',\n",
    "        'I am able to confidently recognize non-verbal signs of pain in residents under my care.',\n",
    "        'I feel confident that I have the knowledge to identify when residents under my care experience oral pain.',\n",
    "        'Approximately, what percentage of residents under your care express that they experience pain when brushing their teeth?',\n",
    "        'Approximately, what percentage of residents under your care experience pain when flossing their teeth?',\n",
    "        'Approximately, what percentage of residents under your care express that they experience dental pain throughout the day when they are not brushing or flossing their teeth?',            \n",
    "        'How often should residents brush their teeth each day?',\n",
    "        'How often should residents floss their teeth each day?',     \n",
    "        'EnterChosenID',\n",
    "        'EnterRandomID'\n",
    "    ]\n",
    "]\n"
   ]
  },
  {
   "cell_type": "code",
   "execution_count": null,
   "metadata": {},
   "outputs": [],
   "source": [
    "post.columns = pre.columns"
   ]
  },
  {
   "cell_type": "code",
   "execution_count": null,
   "metadata": {},
   "outputs": [],
   "source": [
    "post[[\"I believe I have previously received adequate training to help provide the best oral care possible to residents under my care.\"]].value_counts()\n"
   ]
  },
  {
   "cell_type": "markdown",
   "metadata": {},
   "source": [
    "## Check duplicated ID numbers from `post`"
   ]
  },
  {
   "cell_type": "code",
   "execution_count": null,
   "metadata": {},
   "outputs": [],
   "source": [
    "dup_chosen = dict(post[\"ChosenID\"].value_counts()[:6])"
   ]
  },
  {
   "cell_type": "code",
   "execution_count": null,
   "metadata": {},
   "outputs": [],
   "source": [
    "dup_random = dict(post[\"RandomID\"].value_counts()[:6])"
   ]
  },
  {
   "cell_type": "code",
   "execution_count": null,
   "metadata": {},
   "outputs": [],
   "source": [
    "[k for k,v in dup_chosen.items()]"
   ]
  },
  {
   "cell_type": "code",
   "execution_count": null,
   "metadata": {},
   "outputs": [],
   "source": [
    "post['ChosenID'] = post['ChosenID'].replace(to_replace='77291959).',\n",
    "                                            value='77291959')"
   ]
  },
  {
   "cell_type": "markdown",
   "metadata": {},
   "source": [
    "## remove duplicated ID number from `post`"
   ]
  },
  {
   "cell_type": "code",
   "execution_count": null,
   "metadata": {},
   "outputs": [],
   "source": [
    "post['DuplicatedID'] = False\n",
    "\n",
    "for i in post.index:\n",
    "    if post['ChosenID'][i] in [k for k,v in dup_chosen.items()]:\n",
    "        post['DuplicatedID'][i] = True\n",
    "    \n",
    "    if post['RandomID'][i] in [k for k,v in dup_random.items()]:\n",
    "        post['DuplicatedID'][i] = True\n",
    "\n",
    "post_trimmed = post[post['DuplicatedID'] == False]   \n",
    "post_trimmed = post_trimmed.drop(['DuplicatedID'], axis=1).reset_index(drop=True)"
   ]
  },
  {
   "cell_type": "code",
   "execution_count": null,
   "metadata": {},
   "outputs": [],
   "source": [
    "post_trimmed['ChosenID'] = post_trimmed['ChosenID'].replace(to_replace=\"5258 1950\",value=\"52581950\")"
   ]
  },
  {
   "cell_type": "markdown",
   "metadata": {},
   "source": [
    "## join "
   ]
  },
  {
   "cell_type": "code",
   "execution_count": null,
   "metadata": {},
   "outputs": [],
   "source": [
    "post_trimmed.shape"
   ]
  },
  {
   "cell_type": "code",
   "execution_count": null,
   "metadata": {},
   "outputs": [],
   "source": [
    "pre.shape"
   ]
  },
  {
   "cell_type": "code",
   "execution_count": null,
   "metadata": {},
   "outputs": [],
   "source": [
    "\n",
    "# set both indices to \"ChosenID\"\n",
    "pre.index = pre['ChosenID']\n",
    "post_trimmed.index = post_trimmed['ChosenID']\n",
    "\n",
    "joined_chosen = pre.join(\n",
    "    post_trimmed,\n",
    "    lsuffix='_PRE', \n",
    "    rsuffix='',\n",
    "    how='inner'\n",
    ")\n",
    "\n",
    "print((joined_chosen['ChosenID'] != joined_chosen['ChosenID_PRE']).sum())\n",
    "print((joined_chosen['RandomID'] != joined_chosen['RandomID_PRE']).sum())"
   ]
  },
  {
   "cell_type": "code",
   "execution_count": null,
   "metadata": {},
   "outputs": [],
   "source": [
    "joined_chosen"
   ]
  },
  {
   "cell_type": "code",
   "execution_count": null,
   "metadata": {},
   "outputs": [],
   "source": [
    "# set both indices to \"RandomID\"\n",
    "pre.index = pre['RandomID']\n",
    "post_trimmed.index = post_trimmed['RandomID']\n",
    "\n",
    "joined_random = pre.join(\n",
    "    post_trimmed,\n",
    "    lsuffix='_PRE', \n",
    "    rsuffix='',\n",
    "    how='inner'\n",
    ")\n",
    "\n",
    "print((joined_random['ChosenID'] != joined_random['ChosenID_PRE']).sum())\n",
    "print((joined_random['RandomID'] != joined_random['RandomID_PRE']).sum())"
   ]
  },
  {
   "cell_type": "code",
   "execution_count": null,
   "metadata": {},
   "outputs": [],
   "source": [
    "joined_random"
   ]
  },
  {
   "cell_type": "code",
   "execution_count": null,
   "metadata": {},
   "outputs": [],
   "source": [
    "c = [n for n in post_trimmed['ChosenID']]\n",
    "r = [n for n in post_trimmed['RandomID']]"
   ]
  },
  {
   "cell_type": "code",
   "execution_count": null,
   "metadata": {},
   "outputs": [],
   "source": [
    "grab = []\n",
    "\n",
    "for n in pre['ChosenID']:\n",
    "    if (n in c) or (n in r):\n",
    "        grab.append(n)\n",
    "        \n",
    "for n in pre['RandomID']:\n",
    "    if (n in c) or (n in r):\n",
    "        grab.append(n)\n",
    "        \n",
    "grab"
   ]
  },
  {
   "cell_type": "markdown",
   "metadata": {},
   "source": [
    "## Differences in instructions "
   ]
  },
  {
   "cell_type": "markdown",
   "metadata": {},
   "source": [
    "### Pre-training instructions"
   ]
  },
  {
   "cell_type": "code",
   "execution_count": null,
   "metadata": {},
   "outputs": [],
   "source": [
    "print(\"\"\"\n",
    "Please make a note of this random ID number assigned to you:\\n\\n\\n\\nYour ID number is\\n\\n\\n\\n[Field-RandomID]\\n\\n\\n\\nAt the end of the survey, you will have the opportunity to save your response as a pdf. The pdf will include your 5-digit ID number. Please save the random ID number as it will be required for the follow-up survey.\\n\\n\\n\\nIn the box below, please enter the last 4 digits of your phone number along with the 4 digits of your birth year (ie. the Last four digits of your ph.no. is 1234 and your birth year is 1994, then the response would look like this: 12341994).  All answers will be kept confidential and will NOT be shared with your employer. Once you finished entering the 4 digits of your phone number along with the 4 digits of your birth year, click the right arrow at the bottom of the screen to continue with the survey.'\n",
    "\n",
    "\"\"\")"
   ]
  },
  {
   "cell_type": "markdown",
   "metadata": {},
   "source": [
    "### Post-training instructions"
   ]
  },
  {
   "cell_type": "code",
   "execution_count": null,
   "metadata": {},
   "outputs": [],
   "source": [
    "print(\"\"\"\n",
    "In the box below, please enter the last 4 digits of your phone number along with the 4 digits of your birth year (ie. the Last four digits of your ph.no. is 1234 and your birth year is 1994, then the response will look like this: 12341994). All answers will be kept confidential and will NOT be shared with your employer. Once you finished entering the 4 digits of your phone number along with the 4 digits of your birth year, click the right arrow at the bottom of the screen to continue with the survey.\n",
    "\"\"\")"
   ]
  },
  {
   "cell_type": "markdown",
   "metadata": {},
   "source": [
    "# Frequency Distribution Plots of all Post Training Data"
   ]
  },
  {
   "cell_type": "code",
   "execution_count": null,
   "metadata": {},
   "outputs": [],
   "source": [
    "plots = post.drop([\"ChosenID\",\"RandomID\",\"DuplicatedID\"], axis=1)"
   ]
  },
  {
   "cell_type": "code",
   "execution_count": null,
   "metadata": {},
   "outputs": [],
   "source": [
    "col = plots.columns[0]\n",
    "distributions(plots[col],\n",
    "              \"Interest in Additional Training (post-training)\",\n",
    "              order=\"agree\",\n",
    "              title_fontsize=18,\n",
    "              figsize=(9,5),\n",
    "              rotate_xlabels=45,\n",
    "              filepath=\"../images/post_intervention/attitude/interest_in_additional_training_POST\")"
   ]
  },
  {
   "cell_type": "code",
   "execution_count": null,
   "metadata": {},
   "outputs": [],
   "source": [
    "col = plots.columns[1]\n",
    "distributions(plots[col], \n",
    "              \"Percentage of Residents Requiring Assistance with Brushing/Flossing (post-training)\",\n",
    "              order=\"percent\",\n",
    "              title_fontsize=18,\n",
    "              figsize=(9, 5),\n",
    "              rotate_xlabels=45,\n",
    "              filepath=\"../images/post_intervention/demographics/assistance_brush_and_floss_POST\")"
   ]
  },
  {
   "cell_type": "code",
   "execution_count": null,
   "metadata": {},
   "outputs": [],
   "source": [
    "col = plots.columns[2]\n",
    "distributions(plots[col], \n",
    "              \"Percentage of Residents Who Experience BLEEDING when BRUSHING (post-training)\",\n",
    "              order=\"percent\",\n",
    "              title_fontsize=18,\n",
    "              figsize=(9, 5),\n",
    "              rotate_xlabels=45,\n",
    "              filepath=\"../images/post_intervention/demographics/bleeding_brushing_POST\")"
   ]
  },
  {
   "cell_type": "code",
   "execution_count": null,
   "metadata": {},
   "outputs": [],
   "source": [
    "col = plots.columns[3]\n",
    "distributions(plots[col], \n",
    "              \"Percentage of Residents Who Experience BLEEDING when FLOSSING (post-training)\",\n",
    "              order=\"percent\",\n",
    "              title_fontsize=18,\n",
    "              figsize=(9, 5),\n",
    "              rotate_xlabels=45,\n",
    "              filepath=\"../images/post_intervention/demographics/bleeding_flossing_POST\")"
   ]
  },
  {
   "cell_type": "code",
   "execution_count": null,
   "metadata": {},
   "outputs": [],
   "source": [
    "#"
   ]
  },
  {
   "cell_type": "code",
   "execution_count": null,
   "metadata": {},
   "outputs": [],
   "source": [
    "temp_df = pd.DataFrame(plots[plots.columns[4]].value_counts()).T\n",
    "temp_df[\"Less than 1 time each month\"] = 0\n",
    "temp_df = temp_df[\n",
    "    [\n",
    "        'Less than 1 time each month',\n",
    "        '2 to 3 times each week',\n",
    "        '1 time each day',\n",
    "        '2 to 3 times each day'\n",
    "    ]\n",
    "].T\n",
    "temp_df.columns= [\"count\"]"
   ]
  },
  {
   "cell_type": "code",
   "execution_count": null,
   "metadata": {},
   "outputs": [],
   "source": [
    "plt.figure(figsize=(9, 5))\n",
    "plt.title(\"Frequency of Residents' BRUSHING (post-training)\", fontsize=20)\n",
    "sns.barplot(data = temp_df.T, \n",
    "            palette=['#82C5FE','#6DA5D5','#5782A8','#456886']).set(ylabel='count');\n",
    "\n",
    "plt.xticks(rotation=45, ha='right', rotation_mode='anchor');\n",
    "\n",
    "\n",
    "plt.legend(handles = [mpatches.Patch(color=i) for i in ['#82C5FE','#6DA5D5','#5782A8','#456886']],\n",
    "           labels=[f\"{i}: {temp_df['count'][i]}\" for i in temp_df.T.columns],\n",
    "           facecolor=\"white\", \n",
    "           fontsize=15);\n",
    "\n",
    "plt.savefig(\"../images/post_intervention/demographics/frequency_brushing_POST\", bbox_inches='tight')"
   ]
  },
  {
   "cell_type": "code",
   "execution_count": null,
   "metadata": {},
   "outputs": [],
   "source": [
    "col = plots.columns[5]\n",
    "distributions(plots[col], \n",
    "              \"Frequency of Residents' FLOSSING (post-training)\",\n",
    "              order='frequency_floss',\n",
    "              figsize=(9,5),\n",
    "              rotate_xlabels=45,\n",
    "              legend_outside = True,\n",
    "              filepath=\"../images/post_intervention/demographics/frequency_flossing_POST\")"
   ]
  },
  {
   "cell_type": "code",
   "execution_count": null,
   "metadata": {},
   "outputs": [],
   "source": [
    "col = plots.columns[6]\n",
    "distributions(plots[col], \n",
    "              \"Frequency of Residents' Snacking Between Brushing and Flossing (post-training)\",\n",
    "              order='often',\n",
    "              title_fontsize=18,\n",
    "              figsize=(9, 5),\n",
    "              rotate_xlabels=45,\n",
    "              filepath=\"../images/post_intervention/demographics/frequency_snacking_POST\")"
   ]
  },
  {
   "cell_type": "code",
   "execution_count": null,
   "metadata": {},
   "outputs": [],
   "source": [
    "col = plots.columns[7]\n",
    "distributions(plots[col], \n",
    "              \"Frequency of Residents' Visits to the Dentist (post-training)\",\n",
    "              order='frequency_visit_dentist',\n",
    "              figsize=(14, 6),\n",
    "              title_fontsize=21,\n",
    "              rotate_xlabels=45,\n",
    "              #legend_outside = True,\n",
    "              filepath=\"../images/post_intervention/demographics/frequency_dentist_POST\")"
   ]
  },
  {
   "cell_type": "code",
   "execution_count": null,
   "metadata": {},
   "outputs": [],
   "source": [
    "col = plots.columns[8]\n",
    "distributions(plots[col], \n",
    "              \"Obstacles to Providing Excellent Oral Care to Residents (post-training)\",\n",
    "              figsize=(9, 5),\n",
    "              rotate_xlabels=45,\n",
    "              filepath=\"../images/post_intervention/attitude/obstacles_providing_oral_care_POST\")"
   ]
  },
  {
   "cell_type": "code",
   "execution_count": null,
   "metadata": {},
   "outputs": [],
   "source": [
    "dental_info_dict = {\n",
    "    \"Dental professionals such as dentist, dental hygienist, dental assistants\":\"Dental professionals\",\n",
    "    \"Internet and social media sites such as Google, YouTube, Twitter, Facebook, etc.\":\"Internet and social media\",\n",
    "    \"Academic sources such as research papers and research journal articles\":\"Academic sources\"\n",
    "}"
   ]
  },
  {
   "cell_type": "code",
   "execution_count": null,
   "metadata": {},
   "outputs": [],
   "source": [
    "col = plots.columns[9]\n",
    "\n",
    "plots[col] = plots[col].replace(dental_info_dict)\n",
    "\n",
    "distributions(plots[col], \n",
    "              \"Sources of Dental-Related Information (post-training)\",\n",
    "              figsize=(9, 5),\n",
    "              rotate_xlabels=45,\n",
    "              filepath=\"../images/post_intervention/demographics/sources_of_information_POST\")"
   ]
  },
  {
   "cell_type": "code",
   "execution_count": null,
   "metadata": {},
   "outputs": [],
   "source": [
    "col = plots.columns[10]\n",
    "distributions(plots[col], \n",
    "              \"Oral Health Care Training Obstacles (post-training)\",\n",
    "              figsize=(15, 7),\n",
    "              rotate_xlabels=45,\n",
    "              #legend_outside = True,\n",
    "              filepath=\"../images/post_intervention/demographics/training_obstacles_POST\")"
   ]
  },
  {
   "cell_type": "code",
   "execution_count": null,
   "metadata": {},
   "outputs": [],
   "source": [
    "col = plots.columns[11]\n",
    "distributions(plots[col], \n",
    "              \"Confidence Building Resources (post-training)\",\n",
    "              figsize=(13, 7),\n",
    "              rotate_xlabels=45,\n",
    "              filepath=\"../images/post_intervention/self_reporting/confidence_building_resources_POST\")"
   ]
  },
  {
   "cell_type": "code",
   "execution_count": null,
   "metadata": {},
   "outputs": [],
   "source": [
    "col = plots.columns[12]\n",
    "distributions(plots[col], \n",
    "              \"Previous Training on How to Provide Oral Health Care \\nfor Individuals with Special Health Care Needs? (post-training)\",\n",
    "              title_fontsize=18,\n",
    "              figsize=(9, 5),\n",
    "              rotate_xlabels=45,\n",
    "              #legend_outside=True, \n",
    "              filepath=\"../images/post_intervention/demographics/previous_training_POST\")\n",
    "\n"
   ]
  },
  {
   "cell_type": "code",
   "execution_count": null,
   "metadata": {},
   "outputs": [],
   "source": [
    "col = plots.columns[13]\n",
    "distributions(plots[col], \n",
    "              \"Distribution of Race/Ethnicity (post-training)\",\n",
    "              figsize=(9, 5),\n",
    "              rotate_xlabels=45,\n",
    "              filepath=\"../images/post_intervention/demographics/race_ethnicity_POST\")"
   ]
  },
  {
   "cell_type": "code",
   "execution_count": null,
   "metadata": {},
   "outputs": [],
   "source": [
    "col = plots.columns[14]\n",
    "distributions(plots[col], \n",
    "              \"Gender (post-training)\", \n",
    "              order='gender',\n",
    "              rotate_xlabels=45,\n",
    "              figsize=(6, 5),\n",
    "              filepath=\"../images/post_intervention/demographics/gender_POST\")"
   ]
  },
  {
   "cell_type": "code",
   "execution_count": null,
   "metadata": {},
   "outputs": [],
   "source": [
    "col = plots.columns[15]\n",
    "distributions(plots[col],\n",
    "              \"Community Types (post-training)\",\n",
    "              figsize=(6, 5),\n",
    "              filepath=\"../images/post_intervention/demographics/community_type_POST\")"
   ]
  },
  {
   "cell_type": "code",
   "execution_count": null,
   "metadata": {},
   "outputs": [],
   "source": [
    "col = plots.columns[16]\n",
    "distributions(plots[col],\n",
    "              \"Primary Languages (post-training)\",\n",
    "              figsize=(6, 5),\n",
    "              rotate_xlabels=45,\n",
    "              filepath=\"../images/post_intervention/demographics/primary_language_POST\")"
   ]
  },
  {
   "cell_type": "code",
   "execution_count": null,
   "metadata": {},
   "outputs": [],
   "source": [
    "col = plots.columns[17]\n",
    "distributions(plots[col],\n",
    "              \"Training Relevance (post-training)\",\n",
    "              rotate_xlabels=45,\n",
    "              figsize=(6, 5),\n",
    "              legend_outside=True, \n",
    "              filepath=\"../images/post_intervention/demographics/training_relevance_POST\")"
   ]
  },
  {
   "cell_type": "code",
   "execution_count": null,
   "metadata": {},
   "outputs": [],
   "source": [
    "col = plots.columns[18]\n",
    "distributions(plots[col], \n",
    "              \"Fluoridated Products Improve Oral Health (post-training)\",\n",
    "              order='true_false',\n",
    "              title_fontsize=18,\n",
    "              figsize=(5,4),\n",
    "              filepath=\"../images/post_intervention/knowledge/floridated_products_POST\")\n"
   ]
  },
  {
   "cell_type": "code",
   "execution_count": null,
   "metadata": {},
   "outputs": [],
   "source": [
    "col = plots.columns[19]\n",
    "distributions(plots[col], \n",
    "              \"Healthy Gums Bleed When Brushing (post-training)\",\n",
    "              figsize=(5,4),\n",
    "              title_fontsize=18,\n",
    "              order='true_false',\n",
    "              filepath=\"../images/post_intervention/knowledge/healthy_gums_POST\")"
   ]
  },
  {
   "cell_type": "code",
   "execution_count": null,
   "metadata": {},
   "outputs": [],
   "source": [
    "col = plots.columns[20]\n",
    "distributions(plots[col], \n",
    "              \"Dry Mouth Can Have a Negative Effect on Oral Health (post-training)\",\n",
    "              figsize=(5,4),\n",
    "              title_fontsize=18,\n",
    "              order='true_false',\n",
    "              filepath=\"../images/post_intervention/knowledge/dry_mouth_POST\")"
   ]
  },
  {
   "cell_type": "code",
   "execution_count": null,
   "metadata": {},
   "outputs": [],
   "source": [
    "col = plots.columns[21]\n",
    "distributions(plots[col], \n",
    "              \"Snacking Can Have a Negative Effect on Oral Health (post-training)\",\n",
    "              figsize=(5,4),\n",
    "              title_fontsize=18,\n",
    "              order='true_false', \n",
    "              filepath=\"../images/post_intervention/knowledge/snacking_bad_POST\")"
   ]
  },
  {
   "cell_type": "code",
   "execution_count": null,
   "metadata": {},
   "outputs": [],
   "source": [
    "temp_df2 = pd.DataFrame(plots[plots.columns[22]].value_counts()).T\n",
    "temp_df2['Disagree'] = 0\n",
    "temp_df2 = temp_df2[[\n",
    "    'Strongly Agree',\n",
    "    'Agree',\n",
    "    'Neutral',\n",
    "    'Disagree',\n",
    "    'Strongly Disagree'\n",
    "]].T\n",
    "temp_df2.columns= [\"count\"]"
   ]
  },
  {
   "cell_type": "code",
   "execution_count": null,
   "metadata": {},
   "outputs": [],
   "source": [
    "plt.figure(figsize=(9, 5))\n",
    "plt.title(\"Respondents' Belief They Have Effective Teeth Brushing \\nTechniques to Aid Residents (post-training)\", fontsize=20)\n",
    "sns.barplot(data = temp_df2.T, \n",
    "            palette=['#2bdb1f','#c4fa2f','#fae22f','#fa942f','#fa2f2f']).set(ylabel='count');\n",
    "\n",
    "plt.xticks(rotation=45, ha='right', rotation_mode='anchor');\n",
    "\n",
    "\n",
    "plt.legend(handles = [mpatches.Patch(color=i) for i in ['#2bdb1f','#c4fa2f','#fae22f','#fa942f','#fa2f2f']],\n",
    "           labels=[f\"{i}: {temp_df2['count'][i]}\" for i in temp_df2.T.columns],\n",
    "           facecolor=\"white\", \n",
    "           fontsize=15);\n",
    "\n",
    "plt.savefig(\"../images/post_intervention/attitude/effective_teeth_brushing_techniques_POST\", bbox_inches='tight')"
   ]
  },
  {
   "cell_type": "code",
   "execution_count": null,
   "metadata": {},
   "outputs": [],
   "source": [
    "col = plots.columns[23]\n",
    "distributions(plots[col], \n",
    "              \"Respondents' Belief They Have Adequate Training (post-training)\",\n",
    "              order=\"agree\",\n",
    "              title_fontsize=18,\n",
    "              figsize=(9,5),\n",
    "              rotate_xlabels=45,\n",
    "              filepath=\"../images/post_intervention/attitude/adequate_training_POST\")"
   ]
  },
  {
   "cell_type": "code",
   "execution_count": null,
   "metadata": {},
   "outputs": [],
   "source": [
    "col = plots.columns[24]\n",
    "distributions(plots[col], \n",
    "              \"Residents Have Oral Health Care Needs \\nWhich Require Further Training (post-training)\",\n",
    "              order=\"agree\",\n",
    "              title_fontsize=18,\n",
    "              figsize=(9,5),\n",
    "              rotate_xlabels=45,\n",
    "              filepath=\"../images/post_intervention/attitude/needed_further_training_POST\")"
   ]
  },
  {
   "cell_type": "code",
   "execution_count": null,
   "metadata": {},
   "outputs": [],
   "source": [
    "col = plots.columns[25]\n",
    "distributions(plots[col], \n",
    "              \"Respondents' Comfort Assisting Residents in the \\nSafe Use of Fluoridated Dental Products (post-training)\", \n",
    "               order=\"agree\",\n",
    "               title_fontsize=18,\n",
    "               figsize=(9,5),\n",
    "               rotate_xlabels=45,\n",
    "               filepath=\"../images/post_intervention/attitude/comfort_assisting_POST\")"
   ]
  },
  {
   "cell_type": "code",
   "execution_count": null,
   "metadata": {},
   "outputs": [],
   "source": [
    "col = plots.columns[26]\n",
    "distributions(plots[col], \n",
    "              \"Respondents' Confidence in Ability to Recognize \\nNon-Verbal Signs of Pain in Residents (post-training)\", \n",
    "              order=\"agree\",\n",
    "              title_fontsize=18,\n",
    "              figsize=(9,5),\n",
    "              rotate_xlabels=45,\n",
    "              filepath=\"../images/post_intervention/attitude/confidence_identify_non_verbal_pain_POST\")"
   ]
  },
  {
   "cell_type": "code",
   "execution_count": null,
   "metadata": {},
   "outputs": [],
   "source": [
    "col = plots.columns[27]\n",
    "distributions(plots[col], \n",
    "              \"Respondents' Confidence They Have Adequate \\nKnowledge to Identify Residents' Oral Pain (post-training)\", \n",
    "              order=\"agree\",\n",
    "              title_fontsize=18,\n",
    "              figsize=(9,5),\n",
    "              rotate_xlabels=45,\n",
    "              filepath=\"../images/post_intervention/attitude/confidence_identify_oral_pain_POST\")"
   ]
  },
  {
   "cell_type": "code",
   "execution_count": null,
   "metadata": {},
   "outputs": [],
   "source": [
    "temp_df3 = pd.DataFrame(plots[plots.columns[28]].value_counts()).T\n",
    "temp_df3['Greater than 75%'] = 0\n",
    "temp_df3 = temp_df3[[\n",
    "    'None',\n",
    "    'Less than 25%',\n",
    "    '25% to 50%',\n",
    "    '50% to 75%',\n",
    "    'Greater than 75%'\n",
    "]].T\n",
    "temp_df3.columns= [\"count\"]"
   ]
  },
  {
   "cell_type": "code",
   "execution_count": null,
   "metadata": {},
   "outputs": [],
   "source": [
    "colors = ['#C97EFE','#AD70D8','#9963BF','#8053A0','#684382']\n",
    "plt.figure(figsize=(9, 5))\n",
    "plt.title(\"Percentage of Residents Who Experience PAIN when BRUSHING (post-training)\", fontsize=20)\n",
    "sns.barplot(data = temp_df3.T, \n",
    "            palette=colors).set(ylabel='count');\n",
    "\n",
    "plt.xticks(rotation=45, ha='right', rotation_mode='anchor');\n",
    "\n",
    "\n",
    "plt.legend(handles = [mpatches.Patch(color=i) for i in colors],\n",
    "           labels=[f\"{i}: {temp_df3['count'][i]}\" for i in temp_df3.T.columns],\n",
    "           facecolor=\"white\", \n",
    "           fontsize=15);\n",
    "\n",
    "plt.savefig(\"../images/post_intervention/demographics/pain_when_brushing_POST\", bbox_inches='tight')"
   ]
  },
  {
   "cell_type": "code",
   "execution_count": null,
   "metadata": {},
   "outputs": [],
   "source": [
    "col = plots.columns[29]\n",
    "distributions(plots[col], \n",
    "              \"Percentage of Residents Who Experience PAIN when FLOSSING (post-training)\",\n",
    "              order=\"percent\",\n",
    "              title_fontsize=18,\n",
    "              figsize=(9,5),\n",
    "              rotate_xlabels=45,\n",
    "              filepath=\"../images/post_intervention/demographics/pain_when_flossing_POST\")"
   ]
  },
  {
   "cell_type": "code",
   "execution_count": null,
   "metadata": {},
   "outputs": [],
   "source": [
    "col = plots.columns[30]\n",
    "distributions(plots[col], \n",
    "              \"Percentage of Residents who Experience Dental Pain Throughout the Day\\n(when they are not brushing or flossing) (post-training)\",\n",
    "              order=\"percent\",\n",
    "              title_fontsize=18,\n",
    "              figsize=(9,5),\n",
    "              rotate_xlabels=45,\n",
    "              filepath=\"../images/post_intervention/demographics/pain_throughout_day_POST\")"
   ]
  },
  {
   "cell_type": "code",
   "execution_count": null,
   "metadata": {},
   "outputs": [],
   "source": [
    "temp_df4 = pd.DataFrame(plots[plots.columns[31]].value_counts()).T\n",
    "temp_df4['Less than 1 time each month'] = 0\n",
    "temp_df4['1 time each week'] = 0\n",
    "temp_df4['2 to 3 times each week'] = 0\n",
    "temp_df4['1 time each day'] = 0\n",
    "\n",
    "temp_df4 = temp_df4[[\n",
    "    'Less than 1 time each month',\n",
    "    '1 time each week',\n",
    "    '2 to 3 times each week',\n",
    "    '1 time each day',\n",
    "    '2 to 3 times each day'\n",
    "]].T\n",
    "temp_df4.columns= [\"count\"]"
   ]
  },
  {
   "cell_type": "code",
   "execution_count": null,
   "metadata": {},
   "outputs": [],
   "source": [
    "colors = ['#82C5FE','#70AADB','#6193BD','#527CA0','#456886']\n",
    "title = \"How often should residents brush their teeth? (post-training)\"\n",
    "\n",
    "plt.figure(figsize=(9, 5))\n",
    "plt.title(title, fontsize=20)\n",
    "sns.barplot(data = temp_df4.T, palette=colors).set(ylabel='count');\n",
    "\n",
    "plt.xticks(rotation=45, ha='right', rotation_mode='anchor');\n",
    "\n",
    "\n",
    "plt.legend(handles = [mpatches.Patch(color=i) for i in colors],\n",
    "           labels=[f\"{i}: {temp_df4['count'][i]}\" for i in temp_df4.T.columns],\n",
    "           facecolor=\"white\", \n",
    "           fontsize=15);\n",
    "\n",
    "plt.savefig(\"../images/post_intervention/knowledge/often_should_brush_POST\", bbox_inches='tight')"
   ]
  },
  {
   "cell_type": "code",
   "execution_count": null,
   "metadata": {},
   "outputs": [],
   "source": [
    "temp_df5 = pd.DataFrame(plots[plots.columns[32]].value_counts()).T\n",
    "temp_df5['1 time each week'] = 0\n",
    "\n",
    "temp_df5 = temp_df5[[\n",
    "    'Less than 1 time each month',\n",
    "    '1 time each month',\n",
    "    '1 time each week',\n",
    "    '2 to 3 times each week',\n",
    "    '1 time each day',\n",
    "    '2 to 3 times each day'\n",
    "]].T\n",
    "temp_df5.columns= [\"count\"]"
   ]
  },
  {
   "cell_type": "code",
   "execution_count": null,
   "metadata": {},
   "outputs": [],
   "source": [
    "colors = ['#8AC386','#73B06F','#5E9C5A','#498745','#3A7536', \"#2C6329\"]\n",
    "title = \"How often should residents floss their teeth (post-training)\"\n",
    "\n",
    "plt.figure(figsize=(9, 5))\n",
    "plt.title(title, fontsize=20)\n",
    "sns.barplot(data = temp_df5.T, palette=colors).set(ylabel='count');\n",
    "\n",
    "plt.xticks(rotation=45, ha='right', rotation_mode='anchor');\n",
    "\n",
    "\n",
    "plt.legend(handles = [mpatches.Patch(color=i) for i in colors],\n",
    "           labels=[f\"{i}: {temp_df5['count'][i]}\" for i in temp_df5.T.columns],\n",
    "           facecolor=\"white\", \n",
    "           fontsize=15);\n",
    "\n",
    "plt.savefig(\"../images/post_intervention/knowledge/often_should_floss_POST\", bbox_inches='tight')"
   ]
  },
  {
   "cell_type": "code",
   "execution_count": null,
   "metadata": {},
   "outputs": [],
   "source": [
    "post_DDPC_required[post_DDPC_required.columns[0]]\n"
   ]
  },
  {
   "cell_type": "code",
   "execution_count": null,
   "metadata": {},
   "outputs": [],
   "source": [
    "col = post_DDPC_required.columns[0]\n",
    "distributions(post_DDPC_required[col], \n",
    "              \"Respondents' Satisfaction with Smiles United Training Videos\", \n",
    "              order=\"agree_lowercase\",\n",
    "              title_fontsize=18,\n",
    "              figsize=(9,5),\n",
    "              rotate_xlabels=45,\n",
    "              filepath=\"../images/post_intervention/added_post_only/Satisfaction_with_Smiles_United_Training_POST\")"
   ]
  },
  {
   "cell_type": "code",
   "execution_count": null,
   "metadata": {},
   "outputs": [],
   "source": [
    "temp_df6 = pd.DataFrame(post_DDPC_required[post_DDPC_required.columns[1]].value_counts()).T\n",
    "temp_df6['Disagree'] = 0\n",
    "temp_df6 = temp_df6[[\n",
    "    'Strongly agree',\n",
    "    'Agree',\n",
    "    'Neutral',\n",
    "    'Disagree',\n",
    "    'Strongly disagree'\n",
    "]].T\n",
    "temp_df6.columns= [\"count\"]\n",
    "\n",
    "plt.figure(figsize=(9, 5))\n",
    "plt.title(\"Increase in Advocacy Following the Smiles United Training\", fontsize=20)\n",
    "sns.barplot(data = temp_df6.T, \n",
    "            palette=['#2bdb1f','#c4fa2f','#fae22f','#fa942f','#fa2f2f']).set(ylabel='count');\n",
    "\n",
    "plt.xticks(rotation=45, ha='right', rotation_mode='anchor');\n",
    "\n",
    "\n",
    "plt.legend(handles = [mpatches.Patch(color=i) for i in ['#2bdb1f','#c4fa2f','#fae22f','#fa942f','#fa2f2f']],\n",
    "           labels=[f\"{i}: {temp_df6['count'][i]}\" for i in temp_df6.T.columns],\n",
    "           facecolor=\"white\", \n",
    "           fontsize=15);\n",
    "\n",
    "plt.savefig(\"../images/post_intervention/added_post_only/advocacy_following_Smiles_United_Training_POST\", bbox_inches='tight')"
   ]
  },
  {
   "cell_type": "code",
   "execution_count": null,
   "metadata": {},
   "outputs": [],
   "source": [
    "temp_df7 = pd.DataFrame(post_DDPC_required[post_DDPC_required.columns[2]].value_counts()).T\n",
    "temp_df7['Disagree'] = 0\n",
    "temp_df7 = temp_df7[[\n",
    "    'Strongly agree',\n",
    "    'Agree',\n",
    "    'Neutral',\n",
    "    'Disagree',\n",
    "    'Strongly disagree',\n",
    "    'Not Specified'\n",
    "]].T\n",
    "temp_df7.columns= [\"count\"]\n",
    "\n",
    "plt.figure(figsize=(9, 5))\n",
    "plt.title(\"Respondents Feel They Are Better Able to Say What They Want\", fontsize=20)\n",
    "sns.barplot(data = temp_df7.T, \n",
    "            palette=['#2bdb1f','#c4fa2f','#fae22f','#fa942f','#fa2f2f', 'C0']).set(ylabel='count');\n",
    "\n",
    "plt.xticks(rotation=45, ha='right', rotation_mode='anchor');\n",
    "\n",
    "\n",
    "plt.legend(handles = [mpatches.Patch(color=i) for i in ['#2bdb1f','#c4fa2f','#fae22f','#fa942f','#fa2f2f', 'C0']],\n",
    "           labels=[f\"{i}: {temp_df7['count'][i]}\" for i in temp_df7.T.columns],\n",
    "           facecolor=\"white\", \n",
    "           fontsize=15);\n",
    "\n",
    "plt.savefig(\"../images/post_intervention/added_post_only/better_ability_to_say_want_POST\", bbox_inches='tight')"
   ]
  },
  {
   "cell_type": "code",
   "execution_count": null,
   "metadata": {},
   "outputs": [],
   "source": [
    "col = post_DDPC_required.columns[3]\n",
    "distributions(post_DDPC_required[col], \n",
    "              \"Serving in Leadership or Advocacy Positions\", \n",
    "              order=\"agree_lowercase\",\n",
    "              title_fontsize=18,\n",
    "              figsize=(9,5),\n",
    "              rotate_xlabels=45,\n",
    "              filepath=\"../images/post_intervention/added_post_only/Serving_in_Leadership_POST\")"
   ]
  },
  {
   "cell_type": "code",
   "execution_count": null,
   "metadata": {},
   "outputs": [],
   "source": [
    "col = post_DDPC_required.columns[3]\n",
    "post_DDPC_required[col].value_counts()"
   ]
  },
  {
   "cell_type": "code",
   "execution_count": null,
   "metadata": {},
   "outputs": [],
   "source": []
  },
  {
   "cell_type": "markdown",
   "metadata": {},
   "source": [
    "# Compare pre- and post- surveys\n",
    "As a reminder: \n",
    "- cleaned post training data df: `plots`\n",
    "- cleaned pre training data df, with 50 reliability surveys removed: `sig_testing`"
   ]
  },
  {
   "cell_type": "code",
   "execution_count": null,
   "metadata": {},
   "outputs": [],
   "source": [
    "plots.head()"
   ]
  },
  {
   "cell_type": "code",
   "execution_count": null,
   "metadata": {},
   "outputs": [],
   "source": [
    "sig_testing.head()"
   ]
  },
  {
   "cell_type": "code",
   "execution_count": null,
   "metadata": {},
   "outputs": [],
   "source": [
    "# checking if there are any spaces that need to be removed to pair more than the 4 that paired\n",
    "#for ID in sig_testing['ChosenID']:\n",
    "#    print(f\"'{ID}'\")\n",
    "\n",
    "# Unfortunatly, there are none"
   ]
  },
  {
   "cell_type": "code",
   "execution_count": null,
   "metadata": {},
   "outputs": [],
   "source": [
    "print(post.shape)\n",
    "print(plots.shape)\n",
    "print(sig_testing.shape)"
   ]
  },
  {
   "cell_type": "markdown",
   "metadata": {},
   "source": [
    "## Extract just the knowledge questions"
   ]
  },
  {
   "cell_type": "code",
   "execution_count": null,
   "metadata": {},
   "outputs": [],
   "source": [
    "post_k = post[\n",
    "    ['Fluoridated products, such as fluoridated toothpaste and fluoridated water, can help improve the oral health of residents.',\n",
    "     'It is normal for healthy gums to bleed when brushing teeth.',\n",
    "     'Dry mouth can have a negative effect on overall oral health.',\n",
    "     'Snacking throughout the day can have a negative impact on oral health.',\n",
    "     'How often should residents brush their teeth each day?',\n",
    "     'How often should residents floss their teeth each day?']\n",
    "]"
   ]
  },
  {
   "cell_type": "code",
   "execution_count": null,
   "metadata": {},
   "outputs": [],
   "source": [
    "pre_k = sig_testing[\n",
    "    ['Fluoridated products, such as fluoridated toothpaste and fluoridated water, can help improve the oral health of residents.',\n",
    "     'It is normal for healthy gums to bleed when brushing teeth.',\n",
    "     'Dry mouth can have a negative effect on overall oral health.',\n",
    "     'Snacking throughout the day can have a negative impact on oral health.',\n",
    "     'How often should residents brush their teeth each day?',\n",
    "     'How often should residents floss their teeth each day?']\n",
    "]"
   ]
  },
  {
   "cell_type": "code",
   "execution_count": null,
   "metadata": {},
   "outputs": [],
   "source": [
    "post_k.columns == pre_k.columns"
   ]
  },
  {
   "cell_type": "code",
   "execution_count": null,
   "metadata": {},
   "outputs": [],
   "source": [
    "post.shape"
   ]
  },
  {
   "cell_type": "markdown",
   "metadata": {},
   "source": [
    "## change string values to numbers"
   ]
  },
  {
   "cell_type": "code",
   "execution_count": null,
   "metadata": {},
   "outputs": [],
   "source": [
    "convert_dict = {\n",
    "    \n",
    "    # true/false (knowledge)\n",
    "    'True':1,\n",
    "    'False':2,\n",
    "    \n",
    "    # frequency (knowledge)\n",
    "    'Less than 1 time each month':1,\n",
    "    '1 time each month': 2,\n",
    "    '1 time each week':3,\n",
    "    '2 to 3 times each week':4,\n",
    "    '1 time each day':5,\n",
    "    '2 to 3 times each day':6,\n",
    "    \n",
    "}"
   ]
  },
  {
   "cell_type": "markdown",
   "metadata": {},
   "source": [
    "## Function to create compare df for plotting"
   ]
  },
  {
   "cell_type": "code",
   "execution_count": null,
   "metadata": {},
   "outputs": [],
   "source": [
    "def scores_df(pre_knowledge_df, post_knowledge_df):\n",
    "    \n",
    "    # replace string values with numbers\n",
    "    pre_as_nums = pre_knowledge_df.replace(convert_dict)\n",
    "    post_as_nums = post_knowledge_df.replace(convert_dict)\n",
    "    \n",
    "    # convert pre training responses to binary\n",
    "    convert_col0 = [1 if answer == 1 else 0 for answer in pre_as_nums[pre_as_nums.columns[0]]] \n",
    "    convert_col1 = [1 if answer == 2 else 0 for answer in pre_as_nums[pre_as_nums.columns[1]]] \n",
    "    convert_col2 = [1 if answer == 1 else 0 for answer in pre_as_nums[pre_as_nums.columns[2]]] \n",
    "    convert_col3 = [1 if answer == 1 else 0 for answer in pre_as_nums[pre_as_nums.columns[3]]] \n",
    "    convert_col4 = [1 if answer == 6 \\\n",
    "                   else 0 for answer in pre_as_nums[pre_as_nums.columns[4]]] \n",
    "    convert_col5 = [1 if answer == 6 \\\n",
    "                   else 0 for answer in pre_as_nums[pre_as_nums.columns[5]]] \n",
    "\n",
    "    # convert post training responses to binary    \n",
    "    convert_c0 = [1 if answer == 1 else 0 for answer in post_as_nums[post_as_nums.columns[0]]] \n",
    "    convert_c1 = [1 if answer == 2 else 0 for answer in post_as_nums[post_as_nums.columns[1]]] \n",
    "    convert_c2 = [1 if answer == 1 else 0 for answer in post_as_nums[post_as_nums.columns[2]]] \n",
    "    convert_c3 = [1 if answer == 1 else 0 for answer in post_as_nums[post_as_nums.columns[3]]] \n",
    "    convert_c4 = [1 if answer == 6 \\\n",
    "                   else 0 for answer in post_as_nums[post_as_nums.columns[4]]] \n",
    "    convert_c5 = [1 if answer == 6 \\\n",
    "                   else 0 for answer in post_as_nums[post_as_nums.columns[5]]] \n",
    "\n",
    "    # replace values in df with binary values\n",
    "    # pre\n",
    "    pre_as_nums[pre_as_nums.columns[0]] = convert_col0\n",
    "    pre_as_nums[pre_as_nums.columns[1]] = convert_col1\n",
    "    pre_as_nums[pre_as_nums.columns[2]] = convert_col2\n",
    "    pre_as_nums[pre_as_nums.columns[3]] = convert_col3\n",
    "    pre_as_nums[pre_as_nums.columns[4]] = convert_col4\n",
    "    pre_as_nums[pre_as_nums.columns[5]] = convert_col5  \n",
    "    # post\n",
    "    post_as_nums[post_as_nums.columns[0]] = convert_c0\n",
    "    post_as_nums[post_as_nums.columns[1]] = convert_c1\n",
    "    post_as_nums[post_as_nums.columns[2]] = convert_c2\n",
    "    post_as_nums[post_as_nums.columns[3]] = convert_c3\n",
    "    post_as_nums[post_as_nums.columns[4]] = convert_c4\n",
    "    post_as_nums[post_as_nums.columns[5]] = convert_c5  \n",
    "    \n",
    "    # build pre df\n",
    "    pre_scores = pd.DataFrame(pre_as_nums.mean())#.T\n",
    "    pre_scores.loc[len(pre_scores)] = np.mean(pre_as_nums.sum(axis=1)/6)\n",
    "    pre_scores['question'] = ['Q1','Q2','Q3','Q4','Q5','Q6','Avg']\n",
    "    pre_scores['group'] = \"pre\"\n",
    "    \n",
    "    # build post df\n",
    "    post_scores = pd.DataFrame(post_as_nums.mean())#.T\n",
    "    post_scores.loc[len(post_scores)] = np.mean(post_as_nums.sum(axis=1)/6)\n",
    "    post_scores['question'] = ['Q1','Q2','Q3','Q4','Q5','Q6','Avg']\n",
    "    post_scores['group'] = \"post\"\n",
    "    \n",
    "    # combine pre and post dfs\n",
    "    compare = pd.concat([pre_scores, post_scores])\n",
    "    compare.columns = ['score', 'question', 'group']\n",
    "    compare.reset_index(drop=True, inplace=True)\n",
    "    \n",
    "    return compare"
   ]
  },
  {
   "cell_type": "markdown",
   "metadata": {},
   "source": [
    "## Create df for comparison"
   ]
  },
  {
   "cell_type": "code",
   "execution_count": null,
   "metadata": {},
   "outputs": [],
   "source": [
    "scores = scores_df(pre_k,post_k)\n",
    "scores"
   ]
  },
  {
   "cell_type": "markdown",
   "metadata": {},
   "source": [
    "## Reminder of the questions"
   ]
  },
  {
   "cell_type": "code",
   "execution_count": null,
   "metadata": {},
   "outputs": [],
   "source": [
    "whole_q = {\n",
    "    \"Q1\":'Fluoridated products, such as fluoridated toothpaste and fluoridated water, can help improve the oral health of residents.',\n",
    "    \"Q2\":'It is normal for healthy gums to bleed when brushing teeth.',\n",
    "    \"Q3\":'Dry mouth can have a negative effect on overall oral health.',\n",
    "    \"Q4\":'Snacking throughout the day can have a negative impact on oral health.',\n",
    "    \"Q5\":'How often should residents brush their teeth each day?',\n",
    "    \"Q6\":'How often should residents floss their teeth each day?'\n",
    "}"
   ]
  },
  {
   "cell_type": "markdown",
   "metadata": {},
   "source": [
    "## Plot scores of pre and post training"
   ]
  },
  {
   "cell_type": "code",
   "execution_count": null,
   "metadata": {},
   "outputs": [],
   "source": [
    "# TODO add save plot \n",
    "fig, ax = plt.subplots(figsize=(10, 7))\n",
    "sns.barplot(data = scores, \n",
    "              x = 'score', \n",
    "              y='question',\n",
    "              hue = 'group', \n",
    "              dodge=True).set(title=\"Comparison of 'Knowledge' Scores Between Pre- & Post- Training\");\n",
    "\n",
    "plt.legend(#handles = [mpatches.Patch(color=i) for i in colors],\n",
    "               #labels=[f\"{i}: {df['count'][i]}\" for i in df.T.columns],\n",
    "               facecolor=\"white\", \n",
    "               fontsize=15,\n",
    "               bbox_to_anchor=(1.05, 1), \n",
    "               loc='upper left', \n",
    "               borderaxespad=0.);\n",
    "\n",
    "plt.savefig(\"../images/post_intervention/compare_knowledge\", bbox_inches='tight');"
   ]
  },
  {
   "cell_type": "markdown",
   "metadata": {},
   "source": [
    "## Attitude scores"
   ]
  },
  {
   "cell_type": "markdown",
   "metadata": {},
   "source": [
    "## convert values"
   ]
  },
  {
   "cell_type": "code",
   "execution_count": null,
   "metadata": {},
   "outputs": [],
   "source": [
    "positive_convert = {\n",
    "\n",
    "    'Strongly Agree':1,\n",
    "    'Agree':.75,\n",
    "    'Neutral':.5,\n",
    "    'Disagree':.25,\n",
    "    'Strongly Disagree':0\n",
    "}\n",
    "\n",
    "negative_convert = {\n",
    "\n",
    "    'Strongly Agree':1,\n",
    "    'Agree':.75,\n",
    "    'Neutral':.5,\n",
    "    'Disagree':.25,\n",
    "    'Strongly Disagree':0\n",
    "}"
   ]
  },
  {
   "cell_type": "code",
   "execution_count": null,
   "metadata": {},
   "outputs": [],
   "source": [
    "def compare_attitude(pre,post):\n",
    "    pre_p_att = pre[\n",
    "        [\n",
    "            'I believe I have effective techniques which I use to brush the teeth of residents under my care.',\n",
    "            'I believe I have previously received adequate training to help provide the best oral care possible to residents under my care.',\n",
    "            'I feel comfortable assisting residents in the safe use of fluoridated dental products (such as fluoridated toothpaste).',\n",
    "            'I am able to confidently recognize non-verbal signs of pain in residents under my care.',\n",
    "            'I feel confident that I have the knowledge to identify when residents under my care experience oral pain.'\n",
    "        ]\n",
    "    ]\n",
    "\n",
    "    pre_n_att = pre[\n",
    "        [\n",
    "            'I believe residents under my care have oral health care needs which require further training to adequately understand and help manage.'    \n",
    "        ]\n",
    "    ]\n",
    "\n",
    "    post_p_att = post[\n",
    "        [\n",
    "            'I believe I have effective techniques which I use to brush the teeth of residents under my care.',\n",
    "            'I believe I have previously received adequate training to help provide the best oral care possible to residents under my care.',\n",
    "            'I feel comfortable assisting residents in the safe use of fluoridated dental products (such as fluoridated toothpaste).',\n",
    "            'I am able to confidently recognize non-verbal signs of pain in residents under my care.',\n",
    "            'I feel confident that I have the knowledge to identify when residents under my care experience oral pain.'\n",
    "        ]\n",
    "    ]\n",
    "\n",
    "    post_n_att = post[\n",
    "        [\n",
    "            'I believe residents under my care have oral health care needs which require further training to adequately understand and help manage.'    \n",
    "        ]\n",
    "    ]\n",
    "    \n",
    "    \n",
    "    pre_p_scored = pre_p_att.replace(positive_convert)\n",
    "    pre_n_scored = pre_n_att.replace(negative_convert)\n",
    "    pre_att_scored = pd.concat([pre_p_scored,pre_n_scored], axis=1)\n",
    "\n",
    "    post_p_scored = post_p_att.replace(positive_convert)\n",
    "    post_n_scored = post_n_att.replace(negative_convert)\n",
    "    post_att_scored = pd.concat([post_p_scored,post_n_scored], axis=1)\n",
    "       \n",
    "    # build pre df\n",
    "    pre_att= pd.DataFrame(pre_att_scored.mean())#.T\n",
    "    pre_att.loc[len(pre_att)] = np.mean(pre_att_scored.sum(axis=1)/6)\n",
    "    pre_att['question'] = ['Q1','Q2','Q3','Q4','Q5','Q6','Avg']\n",
    "    pre_att['group'] = \"pre\"\n",
    "    \n",
    "    # build post df\n",
    "    post_att= pd.DataFrame(post_att_scored.mean())#.T\n",
    "    post_att.loc[len(post_att)] = np.mean(post_att_scored.sum(axis=1)/6)\n",
    "    post_att['question'] = ['Q1','Q2','Q3','Q4','Q5','Q6','Avg']\n",
    "    post_att['group'] = \"post\"\n",
    "\n",
    "    # combine pre and post dfs\n",
    "    compare = pd.concat([pre_att, post_att])\n",
    "    compare.columns = ['score', 'question', 'group']\n",
    "    compare.reset_index(drop=True, inplace=True)\n",
    "    \n",
    "    return compare\n",
    "\n"
   ]
  },
  {
   "cell_type": "code",
   "execution_count": null,
   "metadata": {},
   "outputs": [],
   "source": [
    "att_scores = compare_attitude(sig_testing, post)"
   ]
  },
  {
   "cell_type": "code",
   "execution_count": null,
   "metadata": {},
   "outputs": [],
   "source": [
    "att_scores"
   ]
  },
  {
   "cell_type": "code",
   "execution_count": null,
   "metadata": {},
   "outputs": [],
   "source": [
    "att_questions = {\n",
    "    \"Q1\":'I believe I have effective techniques which I use to brush the teeth of residents under my care.',\n",
    "    \"Q2\":'I believe I have previously received adequate training to help provide the best oral care possible to residents under my care.',\n",
    "    \"Q3\":'I feel comfortable assisting residents in the safe use of fluoridated dental products (such as fluoridated toothpaste).',\n",
    "    \"Q4\":'I am able to confidently recognize non-verbal signs of pain in residents under my care.',\n",
    "    \"Q5\":'I feel confident that I have the knowledge to identify when residents under my care experience oral pain.',\n",
    "    \"Q6\":'I believe residents under my care have oral health care needs which require further training to adequately understand and help manage.'\n",
    "}"
   ]
  },
  {
   "cell_type": "code",
   "execution_count": null,
   "metadata": {},
   "outputs": [],
   "source": [
    "# TODO add save plot \n",
    "fig, ax = plt.subplots(figsize=(10, 7))\n",
    "sns.barplot(data = att_scores, \n",
    "              x = 'score', \n",
    "              y='question',\n",
    "              hue = 'group', \n",
    "              dodge=True).set(title=\"Comparison of 'Attitude' Scores Between Pre- & Post- Training\");\n",
    "\n",
    "plt.legend(#handles = [mpatches.Patch(color=i) for i in colors],\n",
    "               #labels=[f\"{i}: {df['count'][i]}\" for i in df.T.columns],\n",
    "               facecolor=\"white\", \n",
    "               fontsize=15,\n",
    "               bbox_to_anchor=(1.05, 1), \n",
    "               loc='upper left', \n",
    "               borderaxespad=0.);\n",
    "plt.savefig(\"../images/post_intervention/compare_attitude\", bbox_inches='tight');"
   ]
  },
  {
   "cell_type": "markdown",
   "metadata": {},
   "source": [
    "# Sig testing"
   ]
  },
  {
   "cell_type": "markdown",
   "metadata": {},
   "source": [
    "## extract just attitude questions"
   ]
  },
  {
   "cell_type": "code",
   "execution_count": null,
   "metadata": {},
   "outputs": [],
   "source": [
    "att_cols = [\n",
    "    'I believe I have effective techniques which I use to brush the teeth of residents under my care.',\n",
    "    'I believe I have previously received adequate training to help provide the best oral care possible to residents under my care.',\n",
    "    'I feel comfortable assisting residents in the safe use of fluoridated dental products (such as fluoridated toothpaste).',\n",
    "    'I am able to confidently recognize non-verbal signs of pain in residents under my care.',\n",
    "    'I feel confident that I have the knowledge to identify when residents under my care experience oral pain.',\n",
    "    'I believe residents under my care have oral health care needs which require further training to adequately understand and help manage.'\n",
    "]"
   ]
  },
  {
   "cell_type": "code",
   "execution_count": null,
   "metadata": {},
   "outputs": [],
   "source": [
    "# pre data\n",
    "pre_att_strings = sig_testing[att_cols]\n",
    "\n",
    "# post data\n",
    "post_att_strings = post[att_cols]"
   ]
  },
  {
   "cell_type": "markdown",
   "metadata": {},
   "source": [
    "## create convertion dict"
   ]
  },
  {
   "cell_type": "code",
   "execution_count": null,
   "metadata": {},
   "outputs": [],
   "source": [
    "convert_dict = {\n",
    "    # string values: num values\n",
    "    'Strongly Agree':5,\n",
    "    'Agree':4,\n",
    "    'Neutral':3,\n",
    "    'Disagree':2,\n",
    "    'Strongly Disagree':1\n",
    "}"
   ]
  },
  {
   "cell_type": "markdown",
   "metadata": {},
   "source": [
    "## sep by positive and negative"
   ]
  },
  {
   "cell_type": "code",
   "execution_count": null,
   "metadata": {},
   "outputs": [],
   "source": [
    "# not reverse coding anymore after talking to Doctor Rozdolski"
   ]
  },
  {
   "cell_type": "markdown",
   "metadata": {},
   "source": [
    "## convert string values to numbers"
   ]
  },
  {
   "cell_type": "code",
   "execution_count": null,
   "metadata": {},
   "outputs": [],
   "source": [
    "pre_att_nums = pre_att_strings.replace(convert_dict)\n",
    "pre_att_nums"
   ]
  },
  {
   "cell_type": "code",
   "execution_count": null,
   "metadata": {},
   "outputs": [],
   "source": [
    "post_att_nums = post_att_strings.replace(convert_dict)\n",
    "post_att_nums"
   ]
  },
  {
   "cell_type": "code",
   "execution_count": null,
   "metadata": {},
   "outputs": [],
   "source": [
    "from scipy import stats"
   ]
  },
  {
   "cell_type": "code",
   "execution_count": null,
   "metadata": {},
   "outputs": [],
   "source": [
    "# H0: the pre and post respondents will have the same attitude scores\n",
    "# H1: the post respondents will have higher attitude scores"
   ]
  },
  {
   "cell_type": "code",
   "execution_count": null,
   "metadata": {},
   "outputs": [],
   "source": [
    "print(stats.mannwhitneyu(pre_att_nums, post_att_nums, \n",
    "                         alternative=\"less\",\n",
    "                         method=\"asymptotic\")[1])"
   ]
  },
  {
   "cell_type": "code",
   "execution_count": null,
   "metadata": {},
   "outputs": [],
   "source": [
    "q_sigs = stats.mannwhitneyu(pre_att_nums, post_att_nums, \n",
    "                            alternative=\"less\",\n",
    "                            method=\"asymptotic\")[1]\n",
    "for i in q_sigs:\n",
    "    if i <= .05:\n",
    "        print(\"reject null hypothesis, There is a statistically significant improvement in the scores of post training surveys\")\n",
    "    else:\n",
    "        print(\"do not reject null hypothesis\")"
   ]
  },
  {
   "cell_type": "code",
   "execution_count": null,
   "metadata": {},
   "outputs": [],
   "source": [
    "pre_att_nums.shape"
   ]
  },
  {
   "cell_type": "code",
   "execution_count": null,
   "metadata": {},
   "outputs": [],
   "source": [
    "post_att_nums.shape"
   ]
  },
  {
   "cell_type": "code",
   "execution_count": null,
   "metadata": {},
   "outputs": [],
   "source": [
    "# replace string values with numbers\n",
    "convert_dict = {\n",
    "    \n",
    "    # true/false (knowledge)\n",
    "    'True':1,\n",
    "    'False':2,\n",
    "    \n",
    "    # frequency (knowledge)\n",
    "    'Less than 1 time each month':1,\n",
    "    '1 time each month': 2,\n",
    "    '1 time each week':3,\n",
    "    '2 to 3 times each week':4,\n",
    "    '1 time each day':5,\n",
    "    '2 to 3 times each day':6,\n",
    "    \n",
    "}\n",
    "\n",
    "pre_as_nums = pre_k.replace(convert_dict)\n",
    "post_as_nums = post_k.replace(convert_dict)\n",
    "\n",
    "# convert pre training responses to binary\n",
    "convert_col0 = [1 if answer == 1 else 0 for answer in pre_as_nums[pre_as_nums.columns[0]]] \n",
    "convert_col1 = [1 if answer == 2 else 0 for answer in pre_as_nums[pre_as_nums.columns[1]]] \n",
    "convert_col2 = [1 if answer == 1 else 0 for answer in pre_as_nums[pre_as_nums.columns[2]]] \n",
    "convert_col3 = [1 if answer == 1 else 0 for answer in pre_as_nums[pre_as_nums.columns[3]]] \n",
    "convert_col4 = [1 if answer == 6 \\\n",
    "               else 0 for answer in pre_as_nums[pre_as_nums.columns[4]]] \n",
    "convert_col5 = [1 if answer == 6 \\\n",
    "               else 0 for answer in pre_as_nums[pre_as_nums.columns[5]]] \n",
    "\n",
    "# convert post training responses to binary    \n",
    "convert_c0 = [1 if answer == 1 else 0 for answer in post_as_nums[post_as_nums.columns[0]]] \n",
    "convert_c1 = [1 if answer == 2 else 0 for answer in post_as_nums[post_as_nums.columns[1]]] \n",
    "convert_c2 = [1 if answer == 1 else 0 for answer in post_as_nums[post_as_nums.columns[2]]] \n",
    "convert_c3 = [1 if answer == 1 else 0 for answer in post_as_nums[post_as_nums.columns[3]]] \n",
    "convert_c4 = [1 if answer == 6 \\\n",
    "               else 0 for answer in post_as_nums[post_as_nums.columns[4]]] \n",
    "convert_c5 = [1 if answer == 6 \\\n",
    "               else 0 for answer in post_as_nums[post_as_nums.columns[5]]] \n",
    "\n",
    "# replace values in df with binary values\n",
    "# pre\n",
    "pre_as_nums[pre_as_nums.columns[0]] = convert_col0\n",
    "pre_as_nums[pre_as_nums.columns[1]] = convert_col1\n",
    "pre_as_nums[pre_as_nums.columns[2]] = convert_col2\n",
    "pre_as_nums[pre_as_nums.columns[3]] = convert_col3\n",
    "pre_as_nums[pre_as_nums.columns[4]] = convert_col4\n",
    "pre_as_nums[pre_as_nums.columns[5]] = convert_col5  \n",
    "# post\n",
    "post_as_nums[post_as_nums.columns[0]] = convert_c0\n",
    "post_as_nums[post_as_nums.columns[1]] = convert_c1\n",
    "post_as_nums[post_as_nums.columns[2]] = convert_c2\n",
    "post_as_nums[post_as_nums.columns[3]] = convert_c3\n",
    "post_as_nums[post_as_nums.columns[4]] = convert_c4\n",
    "post_as_nums[post_as_nums.columns[5]] = convert_c5  "
   ]
  },
  {
   "cell_type": "code",
   "execution_count": null,
   "metadata": {},
   "outputs": [],
   "source": [
    "post_as_nums"
   ]
  },
  {
   "cell_type": "code",
   "execution_count": null,
   "metadata": {},
   "outputs": [],
   "source": [
    "print(stats.mannwhitneyu(pre_as_nums, post_as_nums)[1])"
   ]
  },
  {
   "cell_type": "code",
   "execution_count": null,
   "metadata": {},
   "outputs": [],
   "source": [
    "q_sigs = stats.mannwhitneyu(pre_as_nums, post_as_nums, \n",
    "                            alternative=\"less\",\n",
    "                            method=\"asymptotic\")[1]\n",
    "for i in q_sigs:\n",
    "    if i <= .05:\n",
    "        print(\"reject null hypothesis, There is a statistically significant improvement in the scores of post training surveys\")\n",
    "    else:\n",
    "        print(\"do not reject null hypothesis\")"
   ]
  },
  {
   "cell_type": "markdown",
   "metadata": {},
   "source": [
    "# Find Mann Whitney U Ranked Order"
   ]
  },
  {
   "cell_type": "code",
   "execution_count": null,
   "metadata": {},
   "outputs": [],
   "source": [
    "rank_convert = {\n",
    "\n",
    "    'Strongly Agree':5,\n",
    "    'Agree':4,\n",
    "    'Neutral':3,\n",
    "    'Disagree':2,\n",
    "    'Strongly Disagree':1\n",
    "}\n"
   ]
  },
  {
   "cell_type": "code",
   "execution_count": null,
   "metadata": {},
   "outputs": [],
   "source": [
    "def sum_of_ranks(question,pre_df,post_df,convert_dict):\n",
    "    \n",
    "    temp_pre = pre_df[[question]].replace(rank_convert)\n",
    "    temp_pre['group'] = 'pre'\n",
    "    \n",
    "    temp_post = post_df[[question]].replace(convert_dict)\n",
    "    temp_post['group'] = 'post'\n",
    "     \n",
    "    temp_concat = pd.concat([temp_pre, temp_post])# combine into one df\n",
    "    \n",
    "    # give original ranks\n",
    "    temp_concat = temp_concat.sort_values(by=[question]).reset_index(drop=True)\n",
    "    temp_concat['original_rank'] = range(1,1+len(temp_concat[question]))\n",
    "    \n",
    "    # deal with ties\n",
    "    new_rank_1 = temp_concat[temp_concat[question]==1].mean()[1]\n",
    "    new_rank_2 = temp_concat[temp_concat[question]==2].mean()[1]\n",
    "    new_rank_3 = temp_concat[temp_concat[question]==3].mean()[1]\n",
    "    new_rank_4 = temp_concat[temp_concat[question]==4].mean()[1]\n",
    "    new_rank_5 = temp_concat[temp_concat[question]==5].mean()[1]\n",
    "    \n",
    "    temp_concat['new_ranks'] = 0.0\n",
    "    for i,response in enumerate(temp_concat[question]):\n",
    "        if response == 1:\n",
    "            temp_concat['new_ranks'][i] = new_rank_1\n",
    "        elif response == 2:\n",
    "            temp_concat['new_ranks'][i] = new_rank_2\n",
    "        elif response == 3:\n",
    "            temp_concat['new_ranks'][i] = new_rank_3\n",
    "        elif response == 4:\n",
    "            temp_concat['new_ranks'][i] = new_rank_4\n",
    "        else:\n",
    "            temp_concat['new_ranks'][i] = new_rank_5\n",
    "            \n",
    "    # calculate sum of ranks\n",
    "    R_pre = temp_concat[temp_concat['group']=='pre']['new_ranks'].sum()\n",
    "    R_post = temp_concat[temp_concat['group']=='post']['new_ranks'].sum()\n",
    "    \n",
    "    return R_pre, R_post\n",
    "\n",
    "def U_values(R_pre,R_post,pre_df,post_df):\n",
    "    \n",
    "    n_pre = pre_df.shape[0]\n",
    "    n_post = post_df.shape[0]\n",
    "    \n",
    "    U_pre = ( (n_pre*n_post) + ((n_pre * (n_pre+1))/2) ) - R_pre\n",
    "    U_post =( (n_pre*n_post) + ((n_post * (n_post+1))/2) ) - R_post\n",
    "    \n",
    "    return U_pre, U_post"
   ]
  },
  {
   "cell_type": "code",
   "execution_count": null,
   "metadata": {},
   "outputs": [],
   "source": [
    "r_pre, r_post = sum_of_ranks(att_questions['Q1'], sig_testing, post, rank_convert)\n",
    "U_pre, U_post = U_values(r_pre, r_post, sig_testing, post)\n",
    "\n",
    "print(f\"\"\"\n",
    "question: {att_questions['Q1']}\n",
    "R1 = {r_pre}\n",
    "R2 = {r_post}\n",
    "U1 = {U_pre}\n",
    "U2 = {U_post}\n",
    "\"\"\")"
   ]
  },
  {
   "cell_type": "code",
   "execution_count": null,
   "metadata": {},
   "outputs": [],
   "source": [
    "r_pre, r_post = sum_of_ranks(att_questions['Q2'], sig_testing, post, rank_convert)\n",
    "U_pre, U_post = U_values(r_pre, r_post, sig_testing, post)\n",
    "\n",
    "print(f\"\"\"\n",
    "question: {att_questions['Q2']}\n",
    "R1 = {r_pre}\n",
    "R2 = {r_post}\n",
    "U1 = {U_pre}\n",
    "U2 = {U_post}\n",
    "\"\"\")"
   ]
  },
  {
   "cell_type": "code",
   "execution_count": null,
   "metadata": {},
   "outputs": [],
   "source": [
    "r_pre, r_post = sum_of_ranks(att_questions['Q3'], sig_testing, post, rank_convert)\n",
    "U_pre, U_post = U_values(r_pre, r_post, sig_testing, post)\n",
    "\n",
    "print(f\"\"\"\n",
    "question: {att_questions['Q3']}\n",
    "R1 = {r_pre}\n",
    "R2 = {r_post}\n",
    "U1 = {U_pre}\n",
    "U2 = {U_post}\n",
    "\"\"\")"
   ]
  },
  {
   "cell_type": "code",
   "execution_count": null,
   "metadata": {},
   "outputs": [],
   "source": [
    "r_pre, r_post = sum_of_ranks(att_questions['Q4'], sig_testing, post, rank_convert)\n",
    "U_pre, U_post = U_values(r_pre, r_post, sig_testing, post)\n",
    "\n",
    "print(f\"\"\"\n",
    "question: {att_questions['Q4']}\n",
    "R1 = {r_pre}\n",
    "R2 = {r_post}\n",
    "U1 = {U_pre}\n",
    "U2 = {U_post}\n",
    "\"\"\")"
   ]
  },
  {
   "cell_type": "code",
   "execution_count": null,
   "metadata": {},
   "outputs": [],
   "source": [
    "r_pre, r_post = sum_of_ranks(att_questions['Q5'], sig_testing, post, rank_convert)\n",
    "U_pre, U_post = U_values(r_pre, r_post, sig_testing, post)\n",
    "\n",
    "print(f\"\"\"\n",
    "question: {att_questions['Q5']}\n",
    "R1 = {r_pre}\n",
    "R2 = {r_post}\n",
    "U1 = {U_pre}\n",
    "U2 = {U_post}\n",
    "\"\"\")"
   ]
  },
  {
   "cell_type": "code",
   "execution_count": null,
   "metadata": {},
   "outputs": [],
   "source": [
    "r_pre, r_post = sum_of_ranks(att_questions['Q6'], sig_testing, post, rank_convert)\n",
    "U_pre, U_post = U_values(r_pre, r_post, sig_testing, post)\n",
    "\n",
    "print(f\"\"\"\n",
    "question: {att_questions['Q6']}\n",
    "R1 = {r_pre}\n",
    "R2 = {r_post}\n",
    "U1 = {U_pre}\n",
    "U2 = {U_post}\n",
    "\"\"\")"
   ]
  },
  {
   "cell_type": "code",
   "execution_count": null,
   "metadata": {},
   "outputs": [],
   "source": [
    "pre_att_strings.tail()"
   ]
  },
  {
   "cell_type": "code",
   "execution_count": null,
   "metadata": {},
   "outputs": [],
   "source": [
    "col = pre_att_strings.columns[0]\n",
    "distributions(pre_att_strings[col], \n",
    "              \"Respondents' Belief They Have Effective Teeth Brushing \\nTechniques to Aid Residents (Sig Testing)\",\n",
    "              order=\"agree\",\n",
    "              title_fontsize=18,\n",
    "              figsize=(9,5),\n",
    "              rotate_xlabels=45,\n",
    "              filepath=\"../images/post_intervention/sig_testing/effective_teeth_brushing_techniques_SIG\")\n"
   ]
  },
  {
   "cell_type": "code",
   "execution_count": null,
   "metadata": {},
   "outputs": [],
   "source": [
    "col = pre_att_strings.columns[1]\n",
    "distributions(pre_att_strings[col], \n",
    "              \"Respondents' Belief They Have Adequate Training (Sig Testing)\",\n",
    "              order=\"agree\",\n",
    "              title_fontsize=18,\n",
    "              figsize=(9,5),\n",
    "              rotate_xlabels=45,\n",
    "              filepath=\"../images/post_intervention/sig_testing/adequate_training_SIG\")\n"
   ]
  },
  {
   "cell_type": "code",
   "execution_count": null,
   "metadata": {},
   "outputs": [],
   "source": [
    "col = pre_att_strings.columns[2]\n",
    "distributions(pre_att_strings[col], \n",
    "              \"Respondents' Comfort Assisting Residents in the \\nSafe Use of Fluoridated Dental Products (Sig Testing)\",\n",
    "              order=\"agree\",\n",
    "              title_fontsize=18,\n",
    "              figsize=(9,5),\n",
    "              rotate_xlabels=45,\n",
    "              filepath=\"../images/post_intervention/sig_testing/comfort_assisting_SIG\")\n"
   ]
  },
  {
   "cell_type": "code",
   "execution_count": null,
   "metadata": {},
   "outputs": [],
   "source": [
    "col = pre_att_strings.columns[3]\n",
    "distributions(pre_att_strings[col], \n",
    "              \"Respondents' Confidence in Ability to Recognize \\nNon-Verbal Signs of Pain in Residents (Sig Testing)\",\n",
    "              order=\"agree\",\n",
    "              title_fontsize=18,\n",
    "              figsize=(9,5),\n",
    "              rotate_xlabels=45,\n",
    "              filepath=\"../images/post_intervention/sig_testing/confidence_identify_non_verbal_pain_SIG\")\n"
   ]
  },
  {
   "cell_type": "code",
   "execution_count": null,
   "metadata": {},
   "outputs": [],
   "source": [
    "col = pre_att_strings.columns[4]\n",
    "distributions(pre_att_strings[col], \n",
    "              \"Respondents' Confidence They Have Adequate \\nKnowledge to Identify Residents' Oral Pain  (Sig Testing)\",\n",
    "              order=\"agree\",\n",
    "              title_fontsize=18,\n",
    "              figsize=(9,5),\n",
    "              rotate_xlabels=45,\n",
    "              filepath=\"../images/post_intervention/sig_testing/confidence_identify_oral_pain_SIG\")\n"
   ]
  },
  {
   "cell_type": "code",
   "execution_count": null,
   "metadata": {},
   "outputs": [],
   "source": [
    "col = pre_att_strings.columns[5]\n",
    "distributions(pre_att_strings[col], \n",
    "              \"Residents Have Oral Health Care Needs \\nWhich Require Further Training  (Sig Testing)\",\n",
    "              order=\"agree\",\n",
    "              title_fontsize=18,\n",
    "              figsize=(9,5),\n",
    "              rotate_xlabels=45,\n",
    "              filepath=\"../images/post_intervention/sig_testing/needed_further_training_SIG\")\n"
   ]
  },
  {
   "cell_type": "code",
   "execution_count": null,
   "metadata": {},
   "outputs": [],
   "source": [
    "\n",
    "col = pre_att_strings.columns[5]\n",
    "pre_att_strings[col].value_counts()"
   ]
  },
  {
   "cell_type": "code",
   "execution_count": null,
   "metadata": {},
   "outputs": [],
   "source": [
    "def print_percentage_of_responses(pre_SA, pre_A, pre_N, pre_D, pre_SD, post_SA, post_A, post_N, post_D, post_SD):\n",
    "    pre2_SA, pre2_A, pre2_N, pre2_D, pre2_SD = pre_SA/115, pre_A/115, pre_N/115, pre_D/115, pre_SD/115\n",
    "    post2_SA, post2_A, post2_N, post2_D, post2_SD = post_SA/63, post_A/63, post_N/63, post_D/63, post_SD/63\n",
    "    \n",
    "    print(f\"\"\"\n",
    "         PRE       POST\n",
    "    SA  {pre2_SA}  {post2_SA}\n",
    "    A   {pre2_A}  {post2_A}\n",
    "    N   {pre2_N}  {post2_N}  \n",
    "    D   {pre2_D}  {post2_D}\n",
    "    SD  {pre2_SD}  {post2_SD}\n",
    "    \"\"\")"
   ]
  },
  {
   "cell_type": "code",
   "execution_count": null,
   "metadata": {},
   "outputs": [],
   "source": [
    "print_percentage_of_responses(11,53,32,8,11,12,27,19,4,1) #Q6"
   ]
  },
  {
   "cell_type": "code",
   "execution_count": null,
   "metadata": {},
   "outputs": [],
   "source": [
    "print_percentage_of_responses(14,60,33,7,1,6,34,21,1,1) #Q5"
   ]
  },
  {
   "cell_type": "code",
   "execution_count": null,
   "metadata": {},
   "outputs": [],
   "source": [
    "print_percentage_of_responses(19,69,24,2,1,16,33,11,2,1) #Q4"
   ]
  },
  {
   "cell_type": "code",
   "execution_count": null,
   "metadata": {},
   "outputs": [],
   "source": [
    "print_percentage_of_responses(20,60,28,6,1,17,28,15,1,2) #Q3"
   ]
  },
  {
   "cell_type": "code",
   "execution_count": null,
   "metadata": {},
   "outputs": [],
   "source": [
    "print_percentage_of_responses(9,24,57,19,6,9,21,26,3,4) #Q2"
   ]
  },
  {
   "cell_type": "code",
   "execution_count": null,
   "metadata": {},
   "outputs": [],
   "source": [
    "print_percentage_of_responses(14,49,41,8,3,12,30,20,0,1) #Q1"
   ]
  },
  {
   "cell_type": "code",
   "execution_count": null,
   "metadata": {},
   "outputs": [],
   "source": [
    "# decrease in N,D,SD and increase in SA,A"
   ]
  }
 ],
 "metadata": {
  "kernelspec": {
   "display_name": "Python (learn-env)",
   "language": "python",
   "name": "learn-env"
  },
  "language_info": {
   "codemirror_mode": {
    "name": "ipython",
    "version": 3
   },
   "file_extension": ".py",
   "mimetype": "text/x-python",
   "name": "python",
   "nbconvert_exporter": "python",
   "pygments_lexer": "ipython3",
   "version": "3.8.5"
  },
  "toc": {
   "base_numbering": 1,
   "nav_menu": {},
   "number_sections": true,
   "sideBar": true,
   "skip_h1_title": false,
   "title_cell": "Table of Contents",
   "title_sidebar": "Contents",
   "toc_cell": false,
   "toc_position": {},
   "toc_section_display": true,
   "toc_window_display": false
  }
 },
 "nbformat": 4,
 "nbformat_minor": 4
}
