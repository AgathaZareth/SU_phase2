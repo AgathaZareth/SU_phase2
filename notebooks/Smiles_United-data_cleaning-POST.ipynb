{
 "cells": [
  {
   "cell_type": "markdown",
   "metadata": {},
   "source": [
    "# Imports"
   ]
  },
  {
   "cell_type": "code",
   "execution_count": null,
   "metadata": {},
   "outputs": [],
   "source": [
    "import pandas as pd\n",
    "import numpy as np\n",
    "import scipy.stats as stats\n",
    "\n",
    "import seaborn as sns\n",
    "sns.set_style('darkgrid', {'axes.facecolor': '0.9', \"grid.color\": \".6\", \"grid.linestyle\": \":\"})\n",
    "sns.set_context(\"talk\")\n",
    "\n",
    "import matplotlib.pyplot as plt\n",
    "%matplotlib inline\n",
    "\n",
    "import warnings\n",
    "warnings.filterwarnings('ignore')"
   ]
  },
  {
   "cell_type": "markdown",
   "metadata": {},
   "source": [
    "# Load data"
   ]
  },
  {
   "cell_type": "code",
   "execution_count": null,
   "metadata": {},
   "outputs": [],
   "source": [
    "post_df = pd.read_csv(\"../data/post/POST_DATA.csv\",header=1)\n",
    "post_df"
   ]
  },
  {
   "cell_type": "markdown",
   "metadata": {},
   "source": [
    "# Rename columns"
   ]
  },
  {
   "cell_type": "code",
   "execution_count": null,
   "metadata": {},
   "outputs": [],
   "source": [
    "post_df.columns"
   ]
  },
  {
   "cell_type": "code",
   "execution_count": null,
   "metadata": {},
   "outputs": [],
   "source": [
    "post_df.columns = [\n",
    "    'Start Date', \n",
    "    'End Date', \n",
    "    'Response Type', \n",
    "    'IP Address', \n",
    "    'Progress',\n",
    "    'Duration (seconds)', \n",
    "    'Finished', \n",
    "    'Recorded Date', \n",
    "    'Response ID',\n",
    "    'Recipient Last Name', \n",
    "    'Recipient First Name', \n",
    "    'Recipient Email',\n",
    "    'External Data Reference', \n",
    "    'Location Latitude', \n",
    "    'Location Longitude',\n",
    "    'Distribution Channel', \n",
    "    'User Language',\n",
    "    'EnterChosenID',\n",
    "    'EnterRandomID',\n",
    "    'What is your primary language?',\n",
    "    'What is your primary language? - Other',\n",
    "    'Are you a:',\n",
    "    'Are you a: - Other',\n",
    "    'Which of the following best describes your Race/Ethnicity?',\n",
    "    'Do you identify as:',\n",
    "    'Which of the following best describes the area you live in?',\n",
    "    'Before today, I have received training on how to provide direct oral health care for individuals with special health care needs',\n",
    "    'Before today, I have received training on how to provide direct oral health care for individuals with special health care needs - Yes. If you answered YES to a previous training, please describe here:',\n",
    "    'Your program site',\n",
    "    'Fluoridated products, such as fluoridated toothpaste and fluoridated water, can help improve the oral health of residents.',\n",
    "    'It is normal for healthy gums to bleed when brushing teeth.',\n",
    "    'Dry mouth can have a negative effect on overall oral health.',\n",
    "    'Snacking throughout the day can have a negative impact on oral health.',\n",
    "    'I believe I have previously received adequate training to help provide the best oral care possible to residents under my care.',\n",
    "    'I believe residents under my care have oral health care needs which require further training to adequately understand and help manage.',\n",
    "    'I believe I have effective techniques which I use to brush the teeth of residents under my care.',\n",
    "    'I feel comfortable assisting residents in the safe use of fluoridated dental products (such as fluoridated toothpaste).',\n",
    "    'I am able to confidently recognize non-verbal signs of pain in residents under my care.',\n",
    "    'I would be interested in receiving additional training to help maintain the oral health of residents under my care.',\n",
    "    'I feel confident that I have the knowledge to identify when residents under my care experience oral pain.',\n",
    "    'Approximately, what percentage of residents under your care require assistance brushing or flossing their teeth?',\n",
    "    'Approximately, what percentage of residents under your care experience bleeding when brushing their teeth?',\n",
    "    'Approximately, what percentage of residents under your care experience bleeding when flossing their teeth?',\n",
    "    'Approximately, what percentage of residents under your care express that they experience pain when brushing their teeth?',\n",
    "    'Approximately, what percentage of residents under your care experience pain when flossing their teeth?',\n",
    "    'Approximately, what percentage of residents under your care express that they experience dental pain throughout the day when they are not brushing or flossing their teeth?',\n",
    "    'Approximately, how often do residents under your care go to the dentist?',\n",
    "    'Approximately, how often do residents under your care go to the dentist? - Other',\n",
    "    'On average, how often do most residents under your care brush their teeth?',\n",
    "    'On average, how often do most residents under your care floss their teeth?',\n",
    "    'How often should residents brush their teeth each day?',\n",
    "    'How often should residents floss their teeth each day?',\n",
    "    'Approximately, how often do residents under your care have snacks throughout the day between brushing and flossing their teeth?',\n",
    "    'What is the biggest obstacle to providing excellent oral care to residents?',\n",
    "    'What is the biggest obstacle to providing excellent oral care to residents? - Other',\n",
    "    'What is your primary source of dental-related information?',\n",
    "    'What is your primary source of dental-related information? - Other',\n",
    "    'What is the biggest obstacle to receiving proper oral health care training in your facility?',\n",
    "    'What is the biggest obstacle to receiving proper oral health care training in your facility? - Other',\n",
    "    'Which resource would be most useful to help improve your confidence in delivering excellent oral homecare to residents under your care?',\n",
    "    'Which resource would be most useful to help improve your confidence in delivering excellent oral homecare to residents under your care? - Other',\n",
    "    'I am satisfied with the Smiles United training videos.',\n",
    "    'I have increased my advocacy following the Smiles United training.',\n",
    "    'I am better able to say what I want.',\n",
    "    'I am serving in leadership or advocacy positions (ex. Coalitions, policy boards, advisory boards)',\n",
    "    'RandomID']\n",
    "\n",
    "post_df.columns"
   ]
  },
  {
   "cell_type": "markdown",
   "metadata": {},
   "source": [
    "# Check `Response Type`\n",
    "(There should be only \"IP Address\")"
   ]
  },
  {
   "cell_type": "code",
   "execution_count": null,
   "metadata": {},
   "outputs": [],
   "source": [
    "post_df['Response Type'].value_counts()"
   ]
  },
  {
   "cell_type": "markdown",
   "metadata": {},
   "source": [
    "## Check the 10 \"Spam\" responses"
   ]
  },
  {
   "cell_type": "code",
   "execution_count": null,
   "metadata": {},
   "outputs": [],
   "source": [
    "post_df[(post_df['Response Type']=='Spam')]"
   ]
  },
  {
   "cell_type": "markdown",
   "metadata": {},
   "source": [
    "### NOTES: On \"Spam\" responses\n",
    "All 10 responses are incomplete and will be dropped "
   ]
  },
  {
   "cell_type": "markdown",
   "metadata": {},
   "source": [
    "# Drop unnecessary columns"
   ]
  },
  {
   "cell_type": "code",
   "execution_count": null,
   "metadata": {},
   "outputs": [],
   "source": [
    "# drop unnecessary columns\n",
    "keep = post_df.drop([\n",
    "    'Start Date',\n",
    "    'End Date', \n",
    "    'Response Type', \n",
    "    'IP Address', \n",
    "    'Progress', \n",
    "    #'Duration (seconds)', \n",
    "    #'Finished', \n",
    "    'Recorded Date',\n",
    "    'Response ID',\n",
    "    'Recipient Last Name',\n",
    "    'Recipient First Name', \n",
    "    'Recipient Email', \n",
    "    'External Data Reference',\n",
    "    'Distribution Channel', \n",
    "    'User Language'], axis=1)\n",
    "\n",
    "keep.head()"
   ]
  },
  {
   "cell_type": "code",
   "execution_count": null,
   "metadata": {},
   "outputs": [],
   "source": [
    "post_respondents = keep[1:].reset_index(drop=True)\n",
    "post_respondents.head()"
   ]
  },
  {
   "cell_type": "code",
   "execution_count": null,
   "metadata": {},
   "outputs": [],
   "source": [
    "post_respondents.shape # this is the total number of responses initiated"
   ]
  },
  {
   "cell_type": "markdown",
   "metadata": {},
   "source": [
    "## Drop incomplete responses"
   ]
  },
  {
   "cell_type": "code",
   "execution_count": null,
   "metadata": {},
   "outputs": [],
   "source": [
    "# filter out incomplete responses\n",
    "post_completed = post_respondents[post_respondents['Finished']=='True'].reset_index(drop=True)\n",
    "post_completed"
   ]
  },
  {
   "cell_type": "code",
   "execution_count": null,
   "metadata": {},
   "outputs": [],
   "source": [
    "post_completed.shape # this is the total number of completed responses "
   ]
  },
  {
   "cell_type": "markdown",
   "metadata": {},
   "source": [
    "# View distribution of values in each question"
   ]
  },
  {
   "cell_type": "code",
   "execution_count": null,
   "metadata": {
    "scrolled": true
   },
   "outputs": [],
   "source": [
    "for column in post_completed.drop(['Location Latitude', \n",
    "                                   'Location Longitude',\n",
    "                                   'Duration (seconds)',\n",
    "                                   'Finished'], axis=1).columns:\n",
    "    print(\"-\"*60)\n",
    "    print(f\"COLUMN: '{column}'\")\n",
    "    print(f\"UNIQUE VALUES: {len(post_completed[column].unique())}\")\n",
    "    print(\"- \"*30)\n",
    "    print(post_completed[column].value_counts())\n",
    "    print(\"-\"*60)"
   ]
  },
  {
   "cell_type": "code",
   "execution_count": null,
   "metadata": {
    "scrolled": false
   },
   "outputs": [],
   "source": [
    "post_completed[post_completed['EnterRandomID'] == '90911970'].T"
   ]
  },
  {
   "cell_type": "markdown",
   "metadata": {},
   "source": [
    "## Check `Are you a:` responses\n",
    "Per the exclusion criteria: \"DSPs who do not provide direct care to individuals with IDD,\" I will delete any respondents who do not fit this criteria. "
   ]
  },
  {
   "cell_type": "code",
   "execution_count": null,
   "metadata": {},
   "outputs": [],
   "source": [
    "post_completed['Are you a:'].value_counts()"
   ]
  },
  {
   "cell_type": "code",
   "execution_count": null,
   "metadata": {
    "scrolled": true
   },
   "outputs": [],
   "source": [
    "post_completed[post_completed['Are you a:'] == \"Person with a disability\"].T[6:]"
   ]
  },
  {
   "cell_type": "markdown",
   "metadata": {},
   "source": [
    "# Minutes to complete survey"
   ]
  },
  {
   "cell_type": "code",
   "execution_count": null,
   "metadata": {},
   "outputs": [],
   "source": [
    "post_completed['Duration (seconds)'] = post_completed['Duration (seconds)'].astype(int)\n",
    "\n",
    "post_time = post_completed[['Duration (seconds)']]\n",
    "post_time['mins'] = post_time.loc[:,'Duration (seconds)']/60\n",
    "post_time"
   ]
  },
  {
   "cell_type": "code",
   "execution_count": null,
   "metadata": {},
   "outputs": [],
   "source": [
    "# pickle time df\n",
    "pd.to_pickle(post_time, \"../saved_data_frames/POST_time_df.pkl\")"
   ]
  },
  {
   "cell_type": "markdown",
   "metadata": {},
   "source": [
    "# Set up visualization of completed surveys"
   ]
  },
  {
   "cell_type": "code",
   "execution_count": null,
   "metadata": {},
   "outputs": [],
   "source": [
    "print(f'Total: {len(post_respondents)}')\n",
    "print(f'Completed: {len(post_completed)}')"
   ]
  },
  {
   "cell_type": "code",
   "execution_count": null,
   "metadata": {},
   "outputs": [],
   "source": [
    "post_totals = pd.DataFrame([len(post_respondents),len(post_completed)], \n",
    "                           columns=['count'], index=['Total', 'Completed'])\n",
    "post_totals"
   ]
  },
  {
   "cell_type": "code",
   "execution_count": null,
   "metadata": {},
   "outputs": [],
   "source": [
    "# pickle post_totals df\n",
    "pd.to_pickle(post_totals, \"../saved_data_frames/POST_totals_df.pkl\")"
   ]
  },
  {
   "cell_type": "markdown",
   "metadata": {},
   "source": [
    "## Set up Lat Long df"
   ]
  },
  {
   "cell_type": "code",
   "execution_count": null,
   "metadata": {},
   "outputs": [],
   "source": [
    "d = post_completed[['Location Latitude','Location Longitude']]"
   ]
  },
  {
   "cell_type": "code",
   "execution_count": null,
   "metadata": {},
   "outputs": [],
   "source": [
    "d = d[['Location Latitude','Location Longitude']]\n",
    "d['lat,long'] = list(zip(d['Location Latitude'], d['Location Longitude']))\n",
    "\n",
    "lat_long_POST = pd.DataFrame(d['lat,long'].value_counts()).reset_index()\n",
    "lat_long_POST.columns = ['(lat,long)','count']\n",
    "pd.to_pickle(lat_long_POST, \"../saved_data_frames/lat_long_POST_df.pkl\")"
   ]
  },
  {
   "cell_type": "code",
   "execution_count": null,
   "metadata": {},
   "outputs": [],
   "source": [
    "lat_long_POST"
   ]
  },
  {
   "cell_type": "markdown",
   "metadata": {},
   "source": [
    "## Drop remaining unnessesary columns:\n",
    "Drop:\n",
    "- `Finished`\n",
    "- `Duration (seconds)`\n",
    "- `Location Latitude`\n",
    "- `Location Longitude`\n",
    "- `RandomID`"
   ]
  },
  {
   "cell_type": "code",
   "execution_count": null,
   "metadata": {},
   "outputs": [],
   "source": [
    "post_completed.drop(['Finished', \n",
    "                     'Duration (seconds)', \n",
    "                     'Location Latitude', \n",
    "                     'Location Longitude', \n",
    "                     'RandomID'], \n",
    "                    axis=1, \n",
    "                    inplace=True)\n",
    "#post_completed"
   ]
  },
  {
   "cell_type": "markdown",
   "metadata": {},
   "source": [
    "# Clean each questions responses"
   ]
  },
  {
   "cell_type": "markdown",
   "metadata": {},
   "source": [
    "## Questions that need to be consolidated:"
   ]
  },
  {
   "cell_type": "code",
   "execution_count": null,
   "metadata": {},
   "outputs": [],
   "source": [
    "# extract out the questions with non null responses and their paired OTHER/YES questions\n",
    "\n",
    "for question in enumerate(post_completed.columns):\n",
    "\n",
    "    if (\"Other\" in question[1]) or (\"Yes\" in question[1]): # if an OTHER or YES question\n",
    "        i = question[0]\n",
    "        col = post_completed.columns[i]\n",
    "        \n",
    "        if post_completed[col].value_counts().sum() > 0: # if any NON NULL responses\n",
    "            prior_q = i-1\n",
    "            print(f\"({prior_q}, '{post_completed.columns[prior_q]}')\")\n",
    "            print(question)\n",
    "            print()\n"
   ]
  },
  {
   "cell_type": "code",
   "execution_count": null,
   "metadata": {},
   "outputs": [],
   "source": [
    "def view_values(col_num, df=post_completed):\n",
    "    return df[df.columns[col_num]].value_counts()"
   ]
  },
  {
   "cell_type": "code",
   "execution_count": null,
   "metadata": {},
   "outputs": [],
   "source": [
    "view_values(9)"
   ]
  },
  {
   "cell_type": "code",
   "execution_count": null,
   "metadata": {},
   "outputs": [],
   "source": [
    "view_values(10)"
   ]
  },
  {
   "cell_type": "code",
   "execution_count": null,
   "metadata": {},
   "outputs": [],
   "source": [
    "def consolidate(df, col_num1, col_num2, Other_string, convert_dict):\n",
    "    col1 = df.columns[col_num1]\n",
    "    col2 = df.columns[col_num2]\n",
    "    \n",
    "    # fill null values\n",
    "    df[col2] = df[col2].fillna(\"Not specified\")\n",
    "    \n",
    "    # empty list to hold new column values\n",
    "    new_col_values = []\n",
    "    \n",
    "    # consolidate into the list\n",
    "    for i in df.index:\n",
    "        response = df[col1][i]\n",
    "        if response == Other_string:\n",
    "            new_col_values.append(df[col2][i])\n",
    "        else: \n",
    "            new_col_values.append(response)\n",
    "        \n",
    "    # add new column\n",
    "    new_col_name = col1+\"_consolidated\"\n",
    "    #new_row = df.columns[-1] + 1\n",
    "    df[new_col_name]= new_col_values\n",
    "    \n",
    "    # convert with dict\n",
    "    df[new_col_name] = df[new_col_name].replace(convert_dict)\n",
    "    \n",
    "    # drop original rows\n",
    "    #df = df.drop([col1, col2], axis=1)\n",
    "    \n",
    "    return df"
   ]
  },
  {
   "cell_type": "code",
   "execution_count": null,
   "metadata": {},
   "outputs": [],
   "source": [
    "nine_ten_convert_dict = {\n",
    "    \"Not specified\": \"Yes - Not specified\",\n",
    "    \"Yes\": \"Yes - Not specified\",\n",
    "    \"relias\": \"Yes - Unknown\",\n",
    "    \"YES,Iwas trained by the nurse\": \"Yes - Current or previous employment\",\n",
    "    \"dental hygienist\": \"Yes - Dental professionals\",\n",
    "    \"Taking care and brushing of individual teeth \": \"Yes - Current or previous employment\",\n",
    "    \"Trainings at work.\": \"Yes - Current or previous employment\",\n",
    "    \"Anderson Center for Autism \": \"Yes - Current or previous employment\",\n",
    "    \"Smiles Post Training \": \"Yes - Smiles United Training\",\n",
    "    \"Another staff assisted\" : \"Yes - Current or previous employment\"\n",
    "    }"
   ]
  },
  {
   "cell_type": "code",
   "execution_count": null,
   "metadata": {},
   "outputs": [],
   "source": [
    "post_completed = consolidate(\n",
    "    post_completed, 9, 10, \n",
    "    \"Yes. If you answered YES to a previous training, please describe here:\", \n",
    "    nine_ten_convert_dict\n",
    ")\n"
   ]
  },
  {
   "cell_type": "code",
   "execution_count": null,
   "metadata": {},
   "outputs": [],
   "source": [
    "view_values(len(post_completed.columns)-1)"
   ]
  },
  {
   "cell_type": "code",
   "execution_count": null,
   "metadata": {},
   "outputs": [],
   "source": [
    "view_values(29)"
   ]
  },
  {
   "cell_type": "code",
   "execution_count": null,
   "metadata": {},
   "outputs": [],
   "source": [
    "view_values(30)"
   ]
  },
  {
   "cell_type": "code",
   "execution_count": null,
   "metadata": {},
   "outputs": [],
   "source": [
    "twntynine_thirty_convert_dict = {\n",
    "    \"i dont work in the residents\": \"Unknown\",\n",
    "    \"i have seen any appointment so far\": \"Unknown\",\n",
    "    \"varies\" : \"Varies\",\n",
    "    \"As needed\": \"Varies\",\n",
    "    \"i have not seen yet\": \"Unknown\", \n",
    "    \"never\": \"Never\"\n",
    "}"
   ]
  },
  {
   "cell_type": "code",
   "execution_count": null,
   "metadata": {},
   "outputs": [],
   "source": [
    "post_completed = consolidate(\n",
    "    post_completed, 29, 30, \n",
    "    \"Other (please describe):\", \n",
    "    twntynine_thirty_convert_dict\n",
    ")\n"
   ]
  },
  {
   "cell_type": "code",
   "execution_count": null,
   "metadata": {},
   "outputs": [],
   "source": [
    "view_values(len(post_completed.columns)-1)"
   ]
  },
  {
   "cell_type": "code",
   "execution_count": null,
   "metadata": {},
   "outputs": [],
   "source": [
    "view_values(36)"
   ]
  },
  {
   "cell_type": "code",
   "execution_count": null,
   "metadata": {},
   "outputs": [],
   "source": [
    "view_values(37)"
   ]
  },
  {
   "cell_type": "code",
   "execution_count": null,
   "metadata": {},
   "outputs": [],
   "source": [
    "thrtysix_thrtyseven_convert_dict = {\n",
    "    \"none\": \"Not Specifed\",\n",
    "    \"all of the above\": \"All of the above\",\n",
    "    \"nothing\" : \"Not Specifed\" \n",
    "}"
   ]
  },
  {
   "cell_type": "code",
   "execution_count": null,
   "metadata": {},
   "outputs": [],
   "source": [
    "post_completed = consolidate(\n",
    "    post_completed, 36, 37, \n",
    "    \"Other (please describe):\", \n",
    "    thrtysix_thrtyseven_convert_dict\n",
    ")"
   ]
  },
  {
   "cell_type": "code",
   "execution_count": null,
   "metadata": {},
   "outputs": [],
   "source": [
    "view_values(len(post_completed.columns)-1)"
   ]
  },
  {
   "cell_type": "code",
   "execution_count": null,
   "metadata": {},
   "outputs": [],
   "source": [
    "view_values(38)"
   ]
  },
  {
   "cell_type": "code",
   "execution_count": null,
   "metadata": {},
   "outputs": [],
   "source": [
    "view_values(39)"
   ]
  },
  {
   "cell_type": "code",
   "execution_count": null,
   "metadata": {},
   "outputs": [],
   "source": [
    "thrtyeight_thrtynine_convert_dict = {\n",
    "    \"above all\": \"All of the above\",\n",
    "    \"All above\": \"All of the above\" \n",
    "}"
   ]
  },
  {
   "cell_type": "code",
   "execution_count": null,
   "metadata": {},
   "outputs": [],
   "source": [
    "post_completed = consolidate(\n",
    "    post_completed, 38, 39, \n",
    "    \"Other (please describe):\", \n",
    "    thrtyeight_thrtynine_convert_dict\n",
    ")"
   ]
  },
  {
   "cell_type": "code",
   "execution_count": null,
   "metadata": {},
   "outputs": [],
   "source": [
    "view_values(len(post_completed.columns)-1)"
   ]
  },
  {
   "cell_type": "code",
   "execution_count": null,
   "metadata": {},
   "outputs": [],
   "source": [
    "view_values(40)"
   ]
  },
  {
   "cell_type": "code",
   "execution_count": null,
   "metadata": {
    "scrolled": true
   },
   "outputs": [],
   "source": [
    "view_values(41)"
   ]
  },
  {
   "cell_type": "code",
   "execution_count": null,
   "metadata": {},
   "outputs": [],
   "source": [
    "forty_fortyone_convert_dict = {\n",
    "    \"havent fac nothing like that.\": \"Unknown\",\n",
    "    \"staffing, behaviors, knowledge\": \"Staffing, Behaviors, Knowledge\",\n",
    "    \"all of the above\" : \"All of the above\",\n",
    "    \"na\": \"Not Specified\",\n",
    "    \"none\": \"There are no obstacles to receiving proper oral health care training in my facility\"\n",
    "}"
   ]
  },
  {
   "cell_type": "code",
   "execution_count": null,
   "metadata": {},
   "outputs": [],
   "source": [
    "post_completed = consolidate(\n",
    "    post_completed, 40, 41, \n",
    "    \"Other (please describe):\", \n",
    "    forty_fortyone_convert_dict\n",
    ")"
   ]
  },
  {
   "cell_type": "code",
   "execution_count": null,
   "metadata": {},
   "outputs": [],
   "source": [
    "view_values(len(post_completed.columns)-1)"
   ]
  },
  {
   "cell_type": "code",
   "execution_count": null,
   "metadata": {},
   "outputs": [],
   "source": [
    "view_values(42)"
   ]
  },
  {
   "cell_type": "code",
   "execution_count": null,
   "metadata": {},
   "outputs": [],
   "source": [
    "view_values(43)"
   ]
  },
  {
   "cell_type": "code",
   "execution_count": null,
   "metadata": {},
   "outputs": [],
   "source": [
    "post_completed = consolidate(\n",
    "    post_completed, 42, 43, \n",
    "    \"Other (please explain):\", \n",
    "    {\"all of the above\": \"All of the above\"}\n",
    ")"
   ]
  },
  {
   "cell_type": "code",
   "execution_count": null,
   "metadata": {},
   "outputs": [],
   "source": [
    "view_values(len(post_completed.columns)-1)"
   ]
  },
  {
   "cell_type": "code",
   "execution_count": null,
   "metadata": {
    "scrolled": false
   },
   "outputs": [],
   "source": [
    "# drop the original consolidated columns\n",
    "post_completed = post_completed.drop(\n",
    "    [\n",
    "    post_completed.columns[9],\n",
    "    post_completed.columns[10],\n",
    "    post_completed.columns[29],\n",
    "    post_completed.columns[30],\n",
    "    post_completed.columns[36],\n",
    "    post_completed.columns[37],\n",
    "    post_completed.columns[38],\n",
    "    post_completed.columns[39],\n",
    "    post_completed.columns[40],\n",
    "    post_completed.columns[41],\n",
    "    post_completed.columns[42],\n",
    "    post_completed.columns[43]\n",
    "                    ], \n",
    "    axis=1)"
   ]
  },
  {
   "cell_type": "code",
   "execution_count": null,
   "metadata": {},
   "outputs": [],
   "source": [
    "post_completed"
   ]
  },
  {
   "cell_type": "code",
   "execution_count": null,
   "metadata": {},
   "outputs": [],
   "source": [
    "need_to_drop = []\n",
    "for col in post_completed.columns:\n",
    "    if len(post_completed[col].value_counts()) == 0:\n",
    "        need_to_drop.append(col)\n",
    "        \n",
    "post_completed = post_completed.drop(need_to_drop, axis=1)"
   ]
  },
  {
   "cell_type": "code",
   "execution_count": null,
   "metadata": {},
   "outputs": [],
   "source": [
    "#replace remaining nulls\n",
    "post_completed = post_completed.fillna(\"Not Specified\") \n",
    "# replace none string with just \"None\"\n",
    "post_completed = post_completed.replace(\n",
    "    to_replace=\"None of the residents under my care experience bleeding when brushing their teeth\",\n",
    "    value=\"None\"\n",
    ")\n",
    "\n",
    "post_completed.info()"
   ]
  },
  {
   "cell_type": "code",
   "execution_count": null,
   "metadata": {},
   "outputs": [],
   "source": [
    "for column in post_completed.columns:\n",
    "    print(\"-\"*60)\n",
    "    print(f\"COLUMN: '{column}'\")\n",
    "    print(f\"UNIQUE VALUES: {len(post_completed[column].unique())}\")\n",
    "    print(\"- \"*30)\n",
    "    print(post_completed[column].value_counts())\n",
    "    print(\"-\"*60)"
   ]
  },
  {
   "cell_type": "code",
   "execution_count": null,
   "metadata": {},
   "outputs": [],
   "source": [
    "# bam the data frame has been cleaned. Now I need to save it. \n",
    "pd.to_pickle(post_completed, \"../saved_data_frames/cleaned_post.pkl\")"
   ]
  },
  {
   "cell_type": "code",
   "execution_count": null,
   "metadata": {},
   "outputs": [],
   "source": []
  },
  {
   "cell_type": "code",
   "execution_count": null,
   "metadata": {},
   "outputs": [],
   "source": [
    "# use this find the exact response (shows hidden spaces)\n",
    "for response in post_completed[post_completed.columns[-1]]:\n",
    "    if \"Smiles\" in response:\n",
    "        print(f'\"{response}\"')"
   ]
  }
 ],
 "metadata": {
  "kernelspec": {
   "display_name": "Python (learn-env)",
   "language": "python",
   "name": "learn-env"
  },
  "language_info": {
   "codemirror_mode": {
    "name": "ipython",
    "version": 3
   },
   "file_extension": ".py",
   "mimetype": "text/x-python",
   "name": "python",
   "nbconvert_exporter": "python",
   "pygments_lexer": "ipython3",
   "version": "3.8.5"
  },
  "toc": {
   "base_numbering": 1,
   "nav_menu": {},
   "number_sections": true,
   "sideBar": true,
   "skip_h1_title": false,
   "title_cell": "Table of Contents",
   "title_sidebar": "Contents",
   "toc_cell": false,
   "toc_position": {},
   "toc_section_display": true,
   "toc_window_display": false
  }
 },
 "nbformat": 4,
 "nbformat_minor": 4
}
