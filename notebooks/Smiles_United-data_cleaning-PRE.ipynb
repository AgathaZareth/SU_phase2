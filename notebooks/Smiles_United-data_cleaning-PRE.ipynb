{
 "cells": [
  {
   "cell_type": "markdown",
   "metadata": {},
   "source": [
    "# Smiles United - Data Cleaning - Pre"
   ]
  },
  {
   "cell_type": "markdown",
   "metadata": {},
   "source": [
    "## Overview\n",
    " \n",
    "* ALWAYS RESTART AND CLEAR OUTPUT BEFORE PUSHING.YES EVEN DATA FILE AND THIS NOTEBOOK ARE IGNORED"
   ]
  },
  {
   "cell_type": "markdown",
   "metadata": {},
   "source": [
    "## Imports"
   ]
  },
  {
   "cell_type": "code",
   "execution_count": null,
   "metadata": {},
   "outputs": [],
   "source": [
    "import pandas as pd\n",
    "import numpy as np\n",
    "import scipy.stats as stats\n",
    "\n",
    "import seaborn as sns\n",
    "sns.set_style('darkgrid', {'axes.facecolor': '0.9', \"grid.color\": \".6\", \"grid.linestyle\": \":\"})\n",
    "sns.set_context(\"talk\")\n",
    "\n",
    "import matplotlib.pyplot as plt\n",
    "%matplotlib inline\n",
    "\n",
    "import warnings\n",
    "warnings.filterwarnings('ignore')"
   ]
  },
  {
   "cell_type": "markdown",
   "metadata": {},
   "source": [
    "## Load data"
   ]
  },
  {
   "cell_type": "code",
   "execution_count": null,
   "metadata": {},
   "outputs": [],
   "source": [
    "df = pd.read_csv(\"../data/pre_intervention/Smiles United Survey_August 22, 2023_14.25.csv\",header=1)\n",
    "df"
   ]
  },
  {
   "cell_type": "markdown",
   "metadata": {},
   "source": [
    "## Rename columns"
   ]
  },
  {
   "cell_type": "code",
   "execution_count": null,
   "metadata": {},
   "outputs": [],
   "source": [
    "df.columns"
   ]
  },
  {
   "cell_type": "code",
   "execution_count": null,
   "metadata": {},
   "outputs": [],
   "source": [
    "df.columns = ['Start Date', \n",
    "              'End Date', \n",
    "              'Response Type', \n",
    "              'IP Address', \n",
    "              'Progress',\n",
    "              'Duration (seconds)', \n",
    "              'Finished', \n",
    "              'Recorded Date', \n",
    "              'Response ID',\n",
    "              'Recipient Last Name', \n",
    "              'Recipient First Name', \n",
    "              'Recipient Email',\n",
    "              'External Data Reference', \n",
    "              'Location Latitude', \n",
    "              'Location Longitude',\n",
    "              'Distribution Channel', \n",
    "              'User Language',\n",
    "              'ChosenID',\n",
    "              'What is your primary language?',\n",
    "              'What is your primary language? - Other',\n",
    "              'Are you a:',\n",
    "              'Are you a: - Other',\n",
    "              'Which of the following best describes your Race/Ethnicity?',\n",
    "              'Do you identify as:',\n",
    "              'Which of the following best describes the area you live in?',\n",
    "              'Before today, I have received training on how to provide direct oral health care for individuals with special health care needs',\n",
    "              'Before today, I have received training on how to provide direct oral health care for individuals with special health care needs - Yes. If you answered YES to a previous training, please describe here:',\n",
    "              'Fluoridated products, such as fluoridated toothpaste and fluoridated water, can help improve the oral health of residents.',\n",
    "              'It is normal for healthy gums to bleed when brushing teeth.',\n",
    "              'Dry mouth can have a negative effect on overall oral health.',\n",
    "              'Snacking throughout the day can have a negative impact on oral health.',\n",
    "              'I believe I have previously received adequate training to help provide the best oral care possible to residents under my care.',\n",
    "              'I believe residents under my care have oral health care needs which require further training to adequately understand and help manage.',\n",
    "              'I believe I have effective techniques which I use to brush the teeth of residents under my care.',\n",
    "              'I feel comfortable assisting residents in the safe use of fluoridated dental products (such as fluoridated toothpaste).',\n",
    "              'I am able to confidently recognize non-verbal signs of pain in residents under my care.',\n",
    "              'I would be interested in receiving additional training to help maintain the oral health of residents under my care.',\n",
    "              'I feel confident that I have the knowledge to identify when residents under my care experience oral pain.',\n",
    "              'Approximately, what percentage of residents under your care require assistance brushing or flossing their teeth?',\n",
    "              'Approximately, what percentage of residents under your care experience bleeding when brushing their teeth?',\n",
    "              'Approximately, what percentage of residents under your care experience bleeding when flossing their teeth?',\n",
    "              'Approximately, what percentage of residents under your care express that they experience pain when brushing their teeth?',\n",
    "              'Approximately, what percentage of residents under your care experience pain when flossing their teeth?',\n",
    "              'Approximately, what percentage of residents under your care express that they experience dental pain throughout the day when they are not brushing or flossing their teeth?',\n",
    "              'Approximately, how often do residents under your care go to the dentist?',\n",
    "              'Approximately, how often do residents under your care go to the dentist? - Other',\n",
    "              'On average, how often do most residents under your care brush their teeth?',\n",
    "              'On average, how often do most residents under your care floss their teeth?',\n",
    "              'How often should residents brush their teeth each day?',\n",
    "              'How often should residents floss their teeth each day?',\n",
    "              'Approximately, how often do residents under your care have snacks throughout the day between brushing and flossing their teeth?',\n",
    "              'What is the biggest obstacle to providing excellent oral care to residents?',\n",
    "              'What is the biggest obstacle to providing excellent oral care to residents? - Other',\n",
    "              'What is your primary source of dental-related information?',\n",
    "              'What is your primary source of dental-related information? - Other',\n",
    "              'What is the biggest obstacle to receiving proper oral health care training in your facility?',\n",
    "              'What is the biggest obstacle to receiving proper oral health care training in your facility? - Other',\n",
    "              'Which resource would be most useful to help improve your confidence in delivering excellent oral homecare to residents under your care?',\n",
    "              'Which resource would be most useful to help improve your confidence in delivering excellent oral homecare to residents under your care? - Other',\n",
    "              'RandomID']\n",
    "\n",
    "df.columns"
   ]
  },
  {
   "cell_type": "markdown",
   "metadata": {},
   "source": [
    "## Drop unnecessary columns"
   ]
  },
  {
   "cell_type": "code",
   "execution_count": null,
   "metadata": {},
   "outputs": [],
   "source": [
    "# drop unnecessary columns\n",
    "show = df.drop(['Start Date',\n",
    "                'End Date', \n",
    "                #'Response Type', \n",
    "                'IP Address', \n",
    "                'Progress', \n",
    "                #'Duration (seconds)', \n",
    "                #'Finished', \n",
    "                'Recorded Date',\n",
    "                'Response ID',\n",
    "                'Recipient Last Name',\n",
    "                'Recipient First Name', \n",
    "                'Recipient Email', \n",
    "                'External Data Reference',\n",
    "                'Distribution Channel', \n",
    "                'User Language'], axis=1)\n",
    "show.head()"
   ]
  },
  {
   "cell_type": "markdown",
   "metadata": {},
   "source": [
    "## Drop test responses"
   ]
  },
  {
   "cell_type": "code",
   "execution_count": null,
   "metadata": {},
   "outputs": [],
   "source": [
    "# identify the test responses\n",
    "show[(show['Response Type']=='Survey Preview') | (show['Response Type']=='Survey Test')]"
   ]
  },
  {
   "cell_type": "code",
   "execution_count": null,
   "metadata": {},
   "outputs": [],
   "source": [
    "# first 7 rows are test responses and need to be dropped from data\n",
    "# drop first 7 rows and reset the index\n",
    "respondents = show[8:].reset_index(drop=True)\n",
    "respondents.head()"
   ]
  },
  {
   "cell_type": "code",
   "execution_count": null,
   "metadata": {},
   "outputs": [],
   "source": [
    "# drop `Response Type`\n",
    "respondents = respondents.drop(['Response Type'], axis=1)\n",
    "respondents.head()"
   ]
  },
  {
   "cell_type": "markdown",
   "metadata": {},
   "source": [
    "## Drop incomplete responses"
   ]
  },
  {
   "cell_type": "code",
   "execution_count": null,
   "metadata": {},
   "outputs": [],
   "source": [
    "# filter out incomplete responses\n",
    "completed = respondents[respondents['Finished']=='True'].reset_index(drop=True)\n",
    "completed"
   ]
  },
  {
   "cell_type": "code",
   "execution_count": null,
   "metadata": {},
   "outputs": [],
   "source": [
    "respondents.shape"
   ]
  },
  {
   "cell_type": "code",
   "execution_count": null,
   "metadata": {},
   "outputs": [],
   "source": [
    "show.shape"
   ]
  },
  {
   "cell_type": "code",
   "execution_count": null,
   "metadata": {},
   "outputs": [],
   "source": []
  },
  {
   "cell_type": "markdown",
   "metadata": {},
   "source": [
    "## View distribution of values in each question"
   ]
  },
  {
   "cell_type": "code",
   "execution_count": null,
   "metadata": {},
   "outputs": [],
   "source": [
    "# drop\n",
    "# view counts in each column\n",
    "for column in completed.drop(['Location Latitude', \n",
    "                              'Location Longitude',\n",
    "                              'Duration (seconds)',\n",
    "                              'Finished'], axis=1).columns:\n",
    "    print(\"-\"*60)\n",
    "    print(f\"COLUMN: '{column}'\")\n",
    "    print(f\"UNIQUE VALUES: {len(completed[column].unique())}\")\n",
    "    print(\"- \"*30)\n",
    "    print(completed[column].value_counts())\n",
    "    print(\"-\"*60)"
   ]
  },
  {
   "cell_type": "markdown",
   "metadata": {},
   "source": [
    "### Distribute columns into new categories\n",
    "1. **DEMOGRAPHICS** - these questions are about the respondents and will not change after training.\n",
    "2. **SELF REPORTING** - these questions offer insights into the respondents' wants, needs, and personal experiences, but *they will not be impacted by the training.*\n",
    "3. **HYPOTHESIS** - _**these questions will measure the impact of the training material and support or reject the hypothesis.**_"
   ]
  },
  {
   "cell_type": "code",
   "execution_count": null,
   "metadata": {},
   "outputs": [],
   "source": [
    "#distribute columns into new categories: ['demographics', 'hypothesis', 'self_reporting']\n",
    "\n",
    "demographics = ['ChosenID', \n",
    "                'RandomID',\n",
    "                'Location Latitude', \n",
    "                'Location Longitude', \n",
    "                'What is your primary language?', \n",
    "                'What is your primary language? - Other', \n",
    "                'Are you a:', # position/relevant need for training\n",
    "                'Are you a: - Other',\n",
    "                'Which of the following best describes your Race/Ethnicity?',\n",
    "                'Do you identify as:', #gender\n",
    "                'Which of the following best describes the area you live in?']\n",
    "\n",
    "hypothesis = ['ChosenID', \n",
    "              'RandomID',\n",
    "              'Fluoridated products, such as fluoridated toothpaste and fluoridated water, can help improve the oral health of residents.',\n",
    "              'It is normal for healthy gums to bleed when brushing teeth.',\n",
    "              'Dry mouth can have a negative effect on overall oral health.',\n",
    "              'Snacking throughout the day can have a negative impact on oral health.',\n",
    "              'I believe I have effective techniques which I use to brush the teeth of residents under my care.',\n",
    "              'I believe I have previously received adequate training to help provide the best oral care possible to residents under my care.',\n",
    "              'I believe residents under my care have oral health care needs which require further training to adequately understand and help manage.',\n",
    "              'I feel comfortable assisting residents in the safe use of fluoridated dental products (such as fluoridated toothpaste).',\n",
    "              'I am able to confidently recognize non-verbal signs of pain in residents under my care.',\n",
    "              'I feel confident that I have the knowledge to identify when residents under my care experience oral pain.',\n",
    "              'Approximately, what percentage of residents under your care express that they experience pain when brushing their teeth?',\n",
    "              'Approximately, what percentage of residents under your care experience pain when flossing their teeth?',\n",
    "              'Approximately, what percentage of residents under your care express that they experience dental pain throughout the day when they are not brushing or flossing their teeth?',\n",
    "              'How often should residents brush their teeth each day?', \n",
    "              'How often should residents floss their teeth each day?']\n",
    "\n",
    "self_reporting = ['ChosenID', \n",
    "                  'RandomID',\n",
    "                  'I would be interested in receiving additional training to help maintain the oral health of residents under my care.', \n",
    "                  'Approximately, what percentage of residents under your care require assistance brushing or flossing their teeth?', \n",
    "                  'Approximately, what percentage of residents under your care experience bleeding when brushing their teeth?',\n",
    "                  'Approximately, what percentage of residents under your care experience bleeding when flossing their teeth?', \n",
    "                  'Approximately, how often do residents under your care go to the dentist?', \n",
    "                  'Approximately, how often do residents under your care go to the dentist? - Other',\n",
    "                  'On average, how often do most residents under your care brush their teeth?', \n",
    "                  'On average, how often do most residents under your care floss their teeth?',\n",
    "                  'Approximately, how often do residents under your care have snacks throughout the day between brushing and flossing their teeth?',\n",
    "                  'What is the biggest obstacle to providing excellent oral care to residents?',\n",
    "                  'What is the biggest obstacle to providing excellent oral care to residents? - Other',\n",
    "                  'What is your primary source of dental-related information?',\n",
    "                  'What is your primary source of dental-related information? - Other',\n",
    "                  'What is the biggest obstacle to receiving proper oral health care training in your facility?',\n",
    "                  'What is the biggest obstacle to receiving proper oral health care training in your facility? - Other',\n",
    "                  'Which resource would be most useful to help improve your confidence in delivering excellent oral homecare to residents under your care?',\n",
    "                  'Which resource would be most useful to help improve your confidence in delivering excellent oral homecare to residents under your care? - Other',\n",
    "                  'Before today, I have received training on how to provide direct oral health care for individuals with special health care needs',\n",
    "                  'Before today, I have received training on how to provide direct oral health care for individuals with special health care needs - Yes. If you answered YES to a previous training, please describe here:']"
   ]
  },
  {
   "cell_type": "code",
   "execution_count": null,
   "metadata": {
    "scrolled": true
   },
   "outputs": [],
   "source": [
    "# make sure I have all the columns:\n",
    "for i in completed.columns:\n",
    "    if i not in demographics:\n",
    "        if i not in hypothesis:\n",
    "            if i not in self_reporting:\n",
    "                print(i) # should only output 'Finished' and 'Duration (seconds)'"
   ]
  },
  {
   "cell_type": "code",
   "execution_count": null,
   "metadata": {},
   "outputs": [],
   "source": [
    "for i in completed.columns:\n",
    "    if (\n",
    "        i not in demographics and \n",
    "        i not in hypothesis and\n",
    "        i not in self_reporting\n",
    "    ):\n",
    "        print(i) # should only output 'Finished' and 'Duration (seconds)'"
   ]
  },
  {
   "cell_type": "markdown",
   "metadata": {},
   "source": [
    "## Minutes to complete survey"
   ]
  },
  {
   "cell_type": "code",
   "execution_count": null,
   "metadata": {},
   "outputs": [],
   "source": [
    "completed['Duration (seconds)'] = completed['Duration (seconds)'].astype(int)\n",
    "\n",
    "time = completed[['Duration (seconds)']]\n",
    "time['mins'] = time.loc[:,'Duration (seconds)']/60\n",
    "time"
   ]
  },
  {
   "cell_type": "code",
   "execution_count": null,
   "metadata": {},
   "outputs": [],
   "source": [
    "# pickle time df\n",
    "pd.to_pickle(time, \"../saved_data_frames/time_df.pkl\")"
   ]
  },
  {
   "cell_type": "markdown",
   "metadata": {},
   "source": [
    "# Set up visualization of completed surveys"
   ]
  },
  {
   "cell_type": "code",
   "execution_count": null,
   "metadata": {},
   "outputs": [],
   "source": [
    "print(f'Total: {len(respondents)}')\n",
    "print(f'Completed: {len(completed)}')"
   ]
  },
  {
   "cell_type": "code",
   "execution_count": null,
   "metadata": {
    "scrolled": true
   },
   "outputs": [],
   "source": [
    "totals = pd.DataFrame([len(respondents),len(completed)], columns=['count'], index=['Total', 'Completed'])\n",
    "totals"
   ]
  },
  {
   "cell_type": "code",
   "execution_count": null,
   "metadata": {},
   "outputs": [],
   "source": [
    "# pickle totals df\n",
    "pd.to_pickle(totals, \"../saved_data_frames/totals_df.pkl\")"
   ]
  },
  {
   "cell_type": "markdown",
   "metadata": {},
   "source": [
    "## DEMOGRAPHICS subdivision"
   ]
  },
  {
   "cell_type": "markdown",
   "metadata": {},
   "source": [
    "### Create new demographics df"
   ]
  },
  {
   "cell_type": "code",
   "execution_count": null,
   "metadata": {},
   "outputs": [],
   "source": [
    "demo_df = completed[demographics]\n",
    "demo_df"
   ]
  },
  {
   "cell_type": "markdown",
   "metadata": {},
   "source": [
    "### Simplify column names"
   ]
  },
  {
   "cell_type": "code",
   "execution_count": null,
   "metadata": {},
   "outputs": [],
   "source": [
    "demo_df = demo_df.rename(columns={'Which of the following best describes the area you live in?': 'Community Type',\n",
    "                                  'Location Latitude':'Lat',\n",
    "                                  'Location Longitude':'Long',\n",
    "                                  'Which of the following best describes your Race/Ethnicity?':'Race/Ethnicity',\n",
    "                                  'Do you identify as:':'Gender'})"
   ]
  },
  {
   "cell_type": "code",
   "execution_count": null,
   "metadata": {},
   "outputs": [],
   "source": [
    "demo_df"
   ]
  },
  {
   "cell_type": "markdown",
   "metadata": {},
   "source": [
    "### Questions with paried Other responses"
   ]
  },
  {
   "cell_type": "code",
   "execution_count": null,
   "metadata": {},
   "outputs": [],
   "source": [
    "demo_df[['What is your primary language?',\n",
    "          'What is your primary language? - Other',\n",
    "          'Are you a:',\n",
    "          'Are you a: - Other',]]"
   ]
  },
  {
   "cell_type": "markdown",
   "metadata": {},
   "source": [
    "#### Create `Primary Language` column"
   ]
  },
  {
   "cell_type": "code",
   "execution_count": null,
   "metadata": {},
   "outputs": [],
   "source": [
    "demo_df['What is your primary language? - Other'].value_counts()"
   ]
  },
  {
   "cell_type": "code",
   "execution_count": null,
   "metadata": {},
   "outputs": [],
   "source": [
    "demo_df['What is your primary language?'].value_counts()"
   ]
  },
  {
   "cell_type": "code",
   "execution_count": null,
   "metadata": {},
   "outputs": [],
   "source": [
    "primary_language = []\n",
    "for i in enumerate(completed['What is your primary language?']):\n",
    "    #print(i)# i is tuple (index, value)\n",
    "    if i[1] == 'Other (please specify):':\n",
    "        primary_language.append(completed['What is your primary language? - Other'][i[0]].capitalize())\n",
    "    else: \n",
    "        primary_language.append(i[1].capitalize())\n",
    "        \n",
    "set(primary_language)"
   ]
  },
  {
   "cell_type": "code",
   "execution_count": null,
   "metadata": {},
   "outputs": [],
   "source": [
    "demo_df['Primary Language'] = primary_language\n",
    "demo_df.drop(['What is your primary language? - Other',\n",
    "              'What is your primary language?'], \n",
    "             axis=1, \n",
    "             inplace=True)\n",
    "demo_df"
   ]
  },
  {
   "cell_type": "code",
   "execution_count": null,
   "metadata": {},
   "outputs": [],
   "source": []
  },
  {
   "cell_type": "code",
   "execution_count": null,
   "metadata": {},
   "outputs": [],
   "source": []
  },
  {
   "cell_type": "markdown",
   "metadata": {},
   "source": [
    "#### Create `Training Relevance` column"
   ]
  },
  {
   "cell_type": "code",
   "execution_count": null,
   "metadata": {
    "scrolled": true
   },
   "outputs": [],
   "source": [
    "demo_df['Are you a:'].value_counts()"
   ]
  },
  {
   "cell_type": "code",
   "execution_count": null,
   "metadata": {},
   "outputs": [],
   "source": [
    "demo_df['Are you a: - Other'].value_counts()"
   ]
  },
  {
   "cell_type": "code",
   "execution_count": null,
   "metadata": {},
   "outputs": [],
   "source": [
    "positions = []\n",
    "for i in enumerate(demo_df['Are you a:']):\n",
    "    #print(i)# i is tuple (index, value)\n",
    "    if i[1] == 'Other (please specify):':\n",
    "        positions.append(demo_df['Are you a: - Other'][i[0]])\n",
    "    else: \n",
    "        positions.append(i[1])\n",
    "        \n",
    "set(positions)"
   ]
  },
  {
   "cell_type": "code",
   "execution_count": null,
   "metadata": {},
   "outputs": [],
   "source": [
    "for i in enumerate(positions):\n",
    "    if i[1] == 'None':\n",
    "        positions[i[0]] = 'Not Specified'\n",
    "    elif i[1] == 'none':\n",
    "        positions[i[0]] = 'Not Specified'\n",
    "    elif i[1] == 'no':\n",
    "        positions[i[0]] = 'Not Specified'\n",
    "    elif i[1] == np.nan:\n",
    "        positions[i[0]] = 'Not Specified'\n",
    "set(positions)"
   ]
  },
  {
   "cell_type": "code",
   "execution_count": null,
   "metadata": {},
   "outputs": [],
   "source": [
    "demo_df['Training Relevance'] = positions\n",
    "demo_df.drop(['Are you a: - Other',\n",
    "              'Are you a:'], \n",
    "             axis=1, \n",
    "             inplace=True)\n",
    "\n",
    "demo_df"
   ]
  },
  {
   "cell_type": "code",
   "execution_count": null,
   "metadata": {},
   "outputs": [],
   "source": [
    "demo_df['Training Relevance'].isnull().sum()"
   ]
  },
  {
   "cell_type": "code",
   "execution_count": null,
   "metadata": {},
   "outputs": [],
   "source": [
    "demo_df['Training Relevance'] = demo_df['Training Relevance'].fillna(\"Not Specified\")"
   ]
  },
  {
   "cell_type": "code",
   "execution_count": null,
   "metadata": {
    "scrolled": true
   },
   "outputs": [],
   "source": [
    "demo_df"
   ]
  },
  {
   "cell_type": "code",
   "execution_count": null,
   "metadata": {},
   "outputs": [],
   "source": [
    "demo_df['Training Relevance'].value_counts()"
   ]
  },
  {
   "cell_type": "code",
   "execution_count": null,
   "metadata": {},
   "outputs": [],
   "source": [
    "demo_df['Training Relevance'] = [i.capitalize() for i in demo_df['Training Relevance']]"
   ]
  },
  {
   "cell_type": "code",
   "execution_count": null,
   "metadata": {},
   "outputs": [],
   "source": [
    "demo_df['Training Relevance'].isnull().sum()"
   ]
  },
  {
   "cell_type": "markdown",
   "metadata": {},
   "source": [
    "### Save demographics data"
   ]
  },
  {
   "cell_type": "code",
   "execution_count": null,
   "metadata": {},
   "outputs": [],
   "source": [
    "# create seperate lat long data, not associated with responses\n",
    "demo_df['lat,long'] = list(zip(demo_df['Lat'], demo_df['Long']))\n",
    "\n",
    "lat_long = pd.DataFrame(demo_df['lat,long'].value_counts()).reset_index()\n",
    "lat_long.columns = ['(lat,long)','count']\n",
    "pd.to_pickle(lat_long, \"../saved_data_frames/lat_long_df.pkl\")"
   ]
  },
  {
   "cell_type": "code",
   "execution_count": null,
   "metadata": {},
   "outputs": [],
   "source": [
    "# finalize demographics df and pickle\n",
    "demographics_df = demo_df.drop(['Lat', 'Long', 'lat,long'], axis=1)\n",
    "pd.to_pickle(demographics_df, \"../saved_data_frames/demographics_df.pkl\")"
   ]
  },
  {
   "cell_type": "markdown",
   "metadata": {},
   "source": [
    "## SELF_REPORTING subdivision"
   ]
  },
  {
   "cell_type": "markdown",
   "metadata": {},
   "source": [
    "### Create new self-reporting df"
   ]
  },
  {
   "cell_type": "code",
   "execution_count": null,
   "metadata": {
    "scrolled": true
   },
   "outputs": [],
   "source": [
    "sr_df = completed[self_reporting]\n",
    "sr_df.columns"
   ]
  },
  {
   "cell_type": "code",
   "execution_count": null,
   "metadata": {},
   "outputs": [],
   "source": [
    "# move questions from columns names to make this easier\n",
    "sr_easy = sr_df.T.reset_index().T\n",
    "sr_easy.head(3)"
   ]
  },
  {
   "cell_type": "markdown",
   "metadata": {},
   "source": [
    "View the question in this section"
   ]
  },
  {
   "cell_type": "code",
   "execution_count": null,
   "metadata": {
    "scrolled": false
   },
   "outputs": [],
   "source": [
    "for question in enumerate(sr_easy.loc['index']):\n",
    "    print(question)"
   ]
  },
  {
   "cell_type": "markdown",
   "metadata": {},
   "source": [
    "### Questions with paried Other responses"
   ]
  },
  {
   "cell_type": "markdown",
   "metadata": {},
   "source": [
    "Extract just the questioins with a paired \"Other\" response. \n",
    "\n",
    "Pairs columns are listed below:\n",
    "- 6 & 7: Approximately, how often do residents under your care go to the dentist?\n",
    "- 11 & 12: What is the biggest obstacle to providing excellent oral care to residents?\n",
    "- 13 & 14: What is your primary source of dental-related information\n",
    "- 15 & 16: What is the biggest obstacle to receiving proper oral health care training in your facility?\n",
    "- 17 & 18: Which resource would be most useful to help improve your confidence in delivering excellent oral homecare to residents under your care?\n",
    "- 19 & 20: Before today, I have received training on how to provide direct oral health care for individuals with special health care needs. (20, if Yes please describe)"
   ]
  },
  {
   "cell_type": "markdown",
   "metadata": {},
   "source": [
    "#### Consolidate Function"
   ]
  },
  {
   "cell_type": "code",
   "execution_count": null,
   "metadata": {},
   "outputs": [],
   "source": [
    "def consolidate(df, col1, col2, Other_string,  convert_dict):\n",
    "    # fill null values\n",
    "    df[col2] = df[col2].fillna(\"Not Specified\")\n",
    "    \n",
    "    # empty list to hold new column values\n",
    "    new_col_values = []\n",
    "    \n",
    "    # consolidate into the list\n",
    "    for i in df.index:\n",
    "        response = df[col1][i]\n",
    "        if response == Other_string:\n",
    "            new_col_values.append(df[col2][i])\n",
    "        else: \n",
    "            new_col_values.append(response)\n",
    "        \n",
    "    # add new column\n",
    "    new_row = df.columns[-1] + 1\n",
    "    df[new_row]= new_col_values\n",
    "    \n",
    "    # convert with dict\n",
    "    df[new_row] = df[new_row].replace(convert_dict)\n",
    "    \n",
    "    # drop original rows\n",
    "    df = df.drop([col1, col2], axis=1)\n",
    "    \n",
    "    return df"
   ]
  },
  {
   "cell_type": "markdown",
   "metadata": {},
   "source": [
    "#### Consolidate 6 & 7 responses: \"Approximately, how often do residents under your care go to the dentist?\"  "
   ]
  },
  {
   "cell_type": "code",
   "execution_count": null,
   "metadata": {},
   "outputs": [],
   "source": [
    "sr_easy[6].value_counts()"
   ]
  },
  {
   "cell_type": "code",
   "execution_count": null,
   "metadata": {},
   "outputs": [],
   "source": [
    "sr_easy[7].value_counts()"
   ]
  },
  {
   "cell_type": "code",
   "execution_count": null,
   "metadata": {},
   "outputs": [],
   "source": [
    "convert = {\"not sure\": \"Unknown\", \n",
    "           \"unknown\": \"Unknown\",\n",
    "           \"individuals under my care are often very non-compliant\": \"Difficult due to non-compliance\",\n",
    "           'scheduled dental van visits':\"Scheduled dental van visits\",\n",
    "           \"depends on how much dental work needs to done so 3 to 6 months \": \"Once every 6 months\",\n",
    "           \"Never, kids are under 5 years old. Parents have not taken them or have not found a dentist for them.\":\"N/A, children are too young\",\n",
    "           \"it is supposed to be 4-6 months but it onthe dental van hard to get a spot \":\"Scheduled dental van visits\",\n",
    "           \"i dont remember once a year at least\":\"Once every 12 months\",\n",
    "           \"dental care for the students in my care don't happen nearly as often as it should. More than 2 years will go by without them being seen even if it's just for a cleaning\":\"Less than once every 12 months\",\n",
    "           \"Due to lack of providers, some residents have not seen the dentist in over a year despite needing to\":\"Less than once every 12 months\",\n",
    "           \"Not certain. Between every 6 months and 1x a year\":\"Once every 12 months\",\n",
    "           \"Don't know.\": \"Unknown\",\n",
    "           \"I don't have this information\":\"Unknown\",\n",
    "           \"I am not sure, I work per diem\":\"Unknown\",\n",
    "           \"Not aware of that\":\"Unknown\"}"
   ]
  },
  {
   "cell_type": "code",
   "execution_count": null,
   "metadata": {},
   "outputs": [],
   "source": [
    "sr_easy = consolidate(sr_easy, 6, 7, 'Other (please describe):', convert)"
   ]
  },
  {
   "cell_type": "code",
   "execution_count": null,
   "metadata": {},
   "outputs": [],
   "source": [
    "sr_easy[21].value_counts()"
   ]
  },
  {
   "cell_type": "markdown",
   "metadata": {},
   "source": [
    "#### Consolidate 11 & 12 responses: \"What is the biggest obstacle to providing excellent oral care to residents?\"  "
   ]
  },
  {
   "cell_type": "markdown",
   "metadata": {},
   "source": [
    "Combine the paired responses in the Other column in new column"
   ]
  },
  {
   "cell_type": "code",
   "execution_count": null,
   "metadata": {},
   "outputs": [],
   "source": [
    "sr_easy[11].value_counts()"
   ]
  },
  {
   "cell_type": "code",
   "execution_count": null,
   "metadata": {},
   "outputs": [],
   "source": [
    "sr_easy[12].value_counts()"
   ]
  },
  {
   "cell_type": "code",
   "execution_count": null,
   "metadata": {},
   "outputs": [],
   "source": [
    "convert_2 = {\" ?\":\"Not Specified\",\n",
    "             \"non-compliance\":\"Residents' specific behavioral needs\",\n",
    "             \"none\":\"Not Specified\",\n",
    "             \"student not wanting to brush there teeth sometimes you can and sometimes you cant and also the student not knowing how to spit out the toothpaste \":\"Other\",\n",
    "             \"some staff just lazy and dirty, if they dont brush there own teeth do you think they are going to brush our individuals teeth?\":\"Other\",\n",
    "             \"Financial restrictions which limit access to proper oral health care\":\"Financial restrictions\"\n",
    "            }"
   ]
  },
  {
   "cell_type": "code",
   "execution_count": null,
   "metadata": {},
   "outputs": [],
   "source": [
    "# save Other responses\n",
    "other_barriers = [\n",
    "    \n",
    "    \"Student's not wanting to brush their teeth. Sometimes you can and sometimes you can't. Also, the student not knowing how to spit out the toothpaste.\",\n",
    "    \"Some staff are just lazy and dirty. If they don't brush their own teeth, do you think they are going to brush our individuals' teeth?\"\n",
    "]"
   ]
  },
  {
   "cell_type": "code",
   "execution_count": null,
   "metadata": {},
   "outputs": [],
   "source": [
    "sr_easy = consolidate(sr_easy, 11, 12, 'Other (please describe):', convert_2)"
   ]
  },
  {
   "cell_type": "code",
   "execution_count": null,
   "metadata": {},
   "outputs": [],
   "source": [
    "sr_easy[sr_easy.columns[-1]].value_counts()"
   ]
  },
  {
   "cell_type": "markdown",
   "metadata": {},
   "source": [
    "#### Consolidate 13 & 14 responses: \"What is your primary source of dental-related information\"  "
   ]
  },
  {
   "cell_type": "code",
   "execution_count": null,
   "metadata": {},
   "outputs": [],
   "source": [
    "sr_easy[13].value_counts()"
   ]
  },
  {
   "cell_type": "code",
   "execution_count": null,
   "metadata": {},
   "outputs": [],
   "source": [
    "sr_easy[14].value_counts()"
   ]
  },
  {
   "cell_type": "code",
   "execution_count": null,
   "metadata": {},
   "outputs": [],
   "source": [
    "convert_3 = {\"none\":\"Not Specified\",\n",
    "             \"individuals's plan of care\":\"Individuals's plan of care\",\n",
    "             \"Previous healthcare training p\":\"Previous healthcare training\",\n",
    "             \"agency and nursing support\":\"Agency and nursing support\",\n",
    "             \"Dental professionals such as dentist, dental hygienist, dental assistants\" : \"Dental professionals\",\n",
    "             \"Internet and social media sites such as Google, YouTube, Twitter, Facebook, etc.\":\"Internet and social media\",\n",
    "             \"Academic sources such as research papers and research journal articles\":\"Academic sources\"}"
   ]
  },
  {
   "cell_type": "code",
   "execution_count": null,
   "metadata": {},
   "outputs": [],
   "source": [
    "sr_easy = consolidate(sr_easy, 13, 14, 'Other (please describe):', convert_3)"
   ]
  },
  {
   "cell_type": "code",
   "execution_count": null,
   "metadata": {},
   "outputs": [],
   "source": [
    "sr_easy[sr_easy.columns[-1]].value_counts()"
   ]
  },
  {
   "cell_type": "markdown",
   "metadata": {},
   "source": [
    "#### Consolidate 15 & 16 responses: \"What is the biggest obstacle to receiving proper oral health care training in your facility?\"  "
   ]
  },
  {
   "cell_type": "code",
   "execution_count": null,
   "metadata": {},
   "outputs": [],
   "source": [
    "sr_easy[15].value_counts()"
   ]
  },
  {
   "cell_type": "code",
   "execution_count": null,
   "metadata": {},
   "outputs": [],
   "source": [
    "sr_easy[16].value_counts()"
   ]
  },
  {
   "cell_type": "code",
   "execution_count": null,
   "metadata": {},
   "outputs": [],
   "source": [
    "convert_4 = {\"not residential staff\": \"N/A - Not a residential staff\",\n",
    "             \"not sure\":\"Not Specified\",\n",
    "             \"none\":\"There are no obstacles to receiving proper oral health care training in my facility\",\n",
    "             \"uncertain if any is provided\":\"Lack of resources for teaching proper oral health care training\",\n",
    "             \"na\":\"Not Specified\",\n",
    "             \"individual's non-compliance\":\"The individual's non-compliance\"}"
   ]
  },
  {
   "cell_type": "code",
   "execution_count": null,
   "metadata": {},
   "outputs": [],
   "source": [
    "sr_easy = consolidate(sr_easy, 15, 16, 'Other (please describe):', convert_4)"
   ]
  },
  {
   "cell_type": "code",
   "execution_count": null,
   "metadata": {},
   "outputs": [],
   "source": [
    "sr_easy[sr_easy.columns[-1]].value_counts()"
   ]
  },
  {
   "cell_type": "markdown",
   "metadata": {},
   "source": [
    "#### Consolidate 17 &  18 responses: \" Which resource would be most useful to help improve your confidence in delivering excellent oral homecare to residents under your care?\""
   ]
  },
  {
   "cell_type": "code",
   "execution_count": null,
   "metadata": {},
   "outputs": [],
   "source": [
    "sr_easy[17].value_counts()"
   ]
  },
  {
   "cell_type": "code",
   "execution_count": null,
   "metadata": {},
   "outputs": [],
   "source": [
    "sr_easy[18].value_counts()"
   ]
  },
  {
   "cell_type": "code",
   "execution_count": null,
   "metadata": {},
   "outputs": [],
   "source": [
    "convert_5 = {\"not sure\":\"Not Specified\"}"
   ]
  },
  {
   "cell_type": "code",
   "execution_count": null,
   "metadata": {},
   "outputs": [],
   "source": [
    "sr_easy = consolidate(sr_easy, 17, 18, 'Other (please explain):', convert_5)"
   ]
  },
  {
   "cell_type": "code",
   "execution_count": null,
   "metadata": {},
   "outputs": [],
   "source": [
    "sr_easy[sr_easy.columns[-1]].value_counts()"
   ]
  },
  {
   "cell_type": "markdown",
   "metadata": {},
   "source": [
    "#### Consolidate 19 &  20 responses: \"Before today, I have received training on how to provide direct oral health care for individuals with special health care needs.\""
   ]
  },
  {
   "cell_type": "code",
   "execution_count": null,
   "metadata": {},
   "outputs": [],
   "source": [
    "sr_easy[19].value_counts()"
   ]
  },
  {
   "cell_type": "code",
   "execution_count": null,
   "metadata": {},
   "outputs": [],
   "source": [
    "sr_easy[20].fillna(\"Yes - Not Specified\", inplace=True)"
   ]
  },
  {
   "cell_type": "code",
   "execution_count": null,
   "metadata": {},
   "outputs": [],
   "source": [
    "sr_easy[20].value_counts()"
   ]
  },
  {
   "cell_type": "code",
   "execution_count": null,
   "metadata": {},
   "outputs": [],
   "source": [
    "convert_6 = {\"Yes\": \"Yes - Not Specified\" ,\n",
    "             \n",
    "             \"1998 at a former employer\": \"Yes - Current or previous employment\" ,\n",
    "             \n",
    "             \"very good \": \"Yes - Not Specified\" ,\n",
    "             \n",
    "             \"training with anderson\": \"Yes - Current or previous employment\",\n",
    "             \n",
    "             \"Nursing at AEC\": \"Yes - Current or previous employment\",\n",
    "             \n",
    "             \"on site training\": \"Yes - Current or previous employment\",\n",
    "             \n",
    "             \"staff\":\"Yes - Current or previous employment\",\n",
    "             \n",
    "             \"N/a\": \"Yes - Not Specified\",\n",
    "             \n",
    "             \"Worked in healthcare\": \"Yes - Current or previous employment\",\n",
    "             \n",
    "             \"ACA\":\"Yes - Not Specified\",\n",
    "             \n",
    "             \"past employment\":\"Yes - Current or previous employment\",\n",
    "             \n",
    "             \"training from nursing \" : \"Yes - Current or previous employment\",\n",
    "             \n",
    "             \"at on-the-job training \":\"Yes - Current or previous employment\",\n",
    "             \n",
    "             \"no\":\"No\",\n",
    "             \n",
    "             \"activities of daily living\":\"Yes - Not Specified\",\n",
    "             \n",
    "             \"Yes I have\": \"Yes - Not Specified\" ,\n",
    "             \n",
    "             \"In person/Task Analysis \":\"Yes - Current or previous employment\"}"
   ]
  },
  {
   "cell_type": "code",
   "execution_count": null,
   "metadata": {},
   "outputs": [],
   "source": [
    "sr_easy = consolidate(sr_easy, 19, 20, \n",
    "                      'Yes. If you answered YES to a previous training, please describe here:', \n",
    "                      convert_6)"
   ]
  },
  {
   "cell_type": "code",
   "execution_count": null,
   "metadata": {},
   "outputs": [],
   "source": [
    "sr_easy[sr_easy.columns[-1]].value_counts()"
   ]
  },
  {
   "cell_type": "markdown",
   "metadata": {},
   "source": [
    "### Reset columns names"
   ]
  },
  {
   "cell_type": "code",
   "execution_count": null,
   "metadata": {},
   "outputs": [],
   "source": [
    "new_header = sr_easy.iloc[0] #grab the first row for the header\n",
    "self_reporting = sr_easy[1:] #take the data less the header row\n",
    "self_reporting.columns = new_header #set the header row as the df header"
   ]
  },
  {
   "cell_type": "code",
   "execution_count": null,
   "metadata": {},
   "outputs": [],
   "source": [
    "self_reporting.head()"
   ]
  },
  {
   "cell_type": "markdown",
   "metadata": {},
   "source": [
    "### Save demographics data"
   ]
  },
  {
   "cell_type": "code",
   "execution_count": null,
   "metadata": {},
   "outputs": [],
   "source": [
    "pd.to_pickle(self_reporting, \"../saved_data_frames/self_reporting_df.pkl\")"
   ]
  },
  {
   "cell_type": "markdown",
   "metadata": {},
   "source": [
    "## HYPOTHESIS subdivision"
   ]
  },
  {
   "cell_type": "markdown",
   "metadata": {},
   "source": [
    "### Create new evaluations df"
   ]
  },
  {
   "cell_type": "code",
   "execution_count": null,
   "metadata": {},
   "outputs": [],
   "source": [
    "hypothesis"
   ]
  },
  {
   "cell_type": "code",
   "execution_count": null,
   "metadata": {},
   "outputs": [],
   "source": [
    "hypo_df = completed[hypothesis]"
   ]
  },
  {
   "cell_type": "code",
   "execution_count": null,
   "metadata": {},
   "outputs": [],
   "source": [
    "list(enumerate(hypo_df.columns))"
   ]
  },
  {
   "cell_type": "markdown",
   "metadata": {},
   "source": [
    "#### Divide into KNOWLEDGE and ATTITUDE\n",
    "\n",
    "\n",
    "\n",
    "**KNOWLEDGE** - \n",
    "[2,3,4,5,15,16,12,13,14]\n",
    "\n",
    "\n",
    "These questions have correct responses\n",
    "- Fluoridated products, such as fluoridated toothpaste and fluoridated water, can help improve the oral health of residents.\n",
    "- It is normal for healthy gums to bleed when brushing teeth.\n",
    "- Dry mouth can have a negative effect on overall oral health.\n",
    "- Snacking throughout the day can have a negative impact on oral health.\n",
    "- How often should residents brush their teeth each day?\n",
    "- How often should residents floss their teeth each day?\n",
    "\n",
    "These questions are ordinal with no correct response\n",
    "- Approximately, what percentage of residents under your care express that they experience pain when brushing their teeth?\n",
    "- Approximately, what percentage of residents under your care experience pain when flossing their teeth?\n",
    "- Approximately, what percentage of residents under your care express that they experience dental pain throughout the day when they are not brushing or flossing their teeth?\n",
    "\n",
    "**ATTITUDE** - \n",
    "[6,7,8,9,11,10]\n",
    "- I believe I have previously received adequate training to help provide the best oral care possible to residents under my care.\n",
    "- I believe residents under my care have oral health care needs which require further training to adequately understand and help manage.\n",
    "- I believe I have effective techniques which I use to brush the teeth of residents under my care.\n",
    "- I feel comfortable assisting residents in the safe use of fluoridated dental products (such as fluoridated toothpaste).\n",
    "- I feel confident that I have the knowledge to identify when residents under my care experience oral pain.\n",
    "- I am able to confidently recognize non-verbal signs of pain in residents under my care."
   ]
  },
  {
   "cell_type": "markdown",
   "metadata": {},
   "source": [
    "### Save HYPOTHESIS data"
   ]
  },
  {
   "cell_type": "code",
   "execution_count": null,
   "metadata": {},
   "outputs": [],
   "source": [
    "pd.to_pickle(hypo_df, \"../saved_data_frames/hypothesis_df.pkl\")"
   ]
  },
  {
   "cell_type": "markdown",
   "metadata": {},
   "source": [
    "# END"
   ]
  },
  {
   "cell_type": "code",
   "execution_count": null,
   "metadata": {},
   "outputs": [],
   "source": [
    "# save the cleaned pre training data"
   ]
  },
  {
   "cell_type": "code",
   "execution_count": null,
   "metadata": {},
   "outputs": [],
   "source": [
    "# load all pre-training data\n",
    "demo_df = pd.read_pickle(\"../saved_data_frames/demographics_df.pkl\").drop([\"ChosenID\",\"RandomID\"], axis=1)\n",
    "self_reporting = pd.read_pickle(\"../saved_data_frames/self_reporting_df.pkl\")\n",
    "eval_df = pd.read_pickle(\"../saved_data_frames/hypothesis_df.pkl\").drop([\"ChosenID\",\"RandomID\"], axis=1)\n",
    "\n",
    "cleaned_pre = pd.concat([self_reporting,demo_df,eval_df], axis=1)\n",
    "pd.to_pickle(cleaned_pre, \"../saved_data_frames/cleaned_pre.pkl\")"
   ]
  },
  {
   "cell_type": "code",
   "execution_count": null,
   "metadata": {},
   "outputs": [],
   "source": []
  },
  {
   "cell_type": "code",
   "execution_count": null,
   "metadata": {},
   "outputs": [],
   "source": []
  }
 ],
 "metadata": {
  "kernelspec": {
   "display_name": "Python (learn-env)",
   "language": "python",
   "name": "learn-env"
  },
  "language_info": {
   "codemirror_mode": {
    "name": "ipython",
    "version": 3
   },
   "file_extension": ".py",
   "mimetype": "text/x-python",
   "name": "python",
   "nbconvert_exporter": "python",
   "pygments_lexer": "ipython3",
   "version": "3.8.5"
  },
  "toc": {
   "base_numbering": 1,
   "nav_menu": {},
   "number_sections": true,
   "sideBar": true,
   "skip_h1_title": false,
   "title_cell": "Table of Contents",
   "title_sidebar": "Contents",
   "toc_cell": false,
   "toc_position": {
    "height": "calc(100% - 180px)",
    "left": "10px",
    "top": "150px",
    "width": "274px"
   },
   "toc_section_display": true,
   "toc_window_display": false
  }
 },
 "nbformat": 4,
 "nbformat_minor": 4
}
