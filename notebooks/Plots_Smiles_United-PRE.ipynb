{
 "cells": [
  {
   "cell_type": "markdown",
   "metadata": {},
   "source": [
    "# Plots for Smiles United Project - PRE\n",
    "This note book is all the plots created from the pre-training data"
   ]
  },
  {
   "cell_type": "code",
   "execution_count": null,
   "metadata": {},
   "outputs": [],
   "source": [
    "import pandas as pd\n",
    "import numpy as np\n",
    "import scipy.stats as stats\n",
    "\n",
    "import seaborn as sns\n",
    "sns.set_style('darkgrid', {'axes.facecolor': '0.9', \"grid.color\": \".6\", \"grid.linestyle\": \":\"})\n",
    "sns.set_context(\"talk\")\n",
    "\n",
    "import folium\n",
    "\n",
    "import matplotlib.pyplot as plt\n",
    "from matplotlib import patches as mpatches\n",
    "%matplotlib inline\n",
    "\n",
    "import warnings\n",
    "warnings.filterwarnings('ignore')"
   ]
  },
  {
   "cell_type": "markdown",
   "metadata": {},
   "source": [
    "## Minutes to complete survey"
   ]
  },
  {
   "cell_type": "code",
   "execution_count": null,
   "metadata": {},
   "outputs": [],
   "source": [
    "time = pd.read_pickle(\"../saved_data_frames/time_df.pkl\")\n",
    "time.head()"
   ]
  },
  {
   "cell_type": "code",
   "execution_count": null,
   "metadata": {},
   "outputs": [],
   "source": [
    "fig, axes = plt.subplots(ncols=2, nrows=1, figsize=(10,5))\n",
    "fig.set_tight_layout(True)\n",
    "fig.suptitle(\"Minutes to complete survey\", fontsize=20)\n",
    "\n",
    "axes[0] = sns.histplot(data=time[['mins']], ax=axes[0])\n",
    "axes[0].get_legend().remove()\n",
    "axes[0].set(title='Histogram');\n",
    "\n",
    "axes[1] = sns.boxplot(data=time[['mins']], saturation=0.9, color=\"tab:blue\", ax=axes[1], orient=\"h\")\n",
    "axes[1].set(title='Bolxplot')\n",
    "axes[1].tick_params(left=False)\n",
    "axes[1].set(yticklabels=[]);"
   ]
  },
  {
   "cell_type": "code",
   "execution_count": null,
   "metadata": {},
   "outputs": [],
   "source": [
    "import math\n",
    "\n",
    "meanpointprops = dict(marker='D', markeredgecolor='black',\n",
    "                      markerfacecolor='firebrick')\n",
    "trimmed = time[(np.abs(stats.zscore(time['mins'])) < 3)][['mins']]\n",
    "\n",
    "fig, axes = plt.subplots(ncols=2, nrows=1, figsize=(15,5))\n",
    "fig.set_tight_layout(True)\n",
    "fig.suptitle(\"Minutes to complete - with 1 extreme outlier removed\", fontsize=25)\n",
    "\n",
    "\n",
    "axes[0] = sns.histplot(data=trimmed,\n",
    "                       color=\"tab:blue\", \n",
    "                       ax=axes[0])\n",
    "axes[0].axvline(trimmed.mean()[0], \n",
    "                color='firebrick', \n",
    "                lw=2, \n",
    "                ls='--', \n",
    "                label=f\"Average time to complete survey: {math.floor(trimmed.mean()[0])}m:{round((trimmed.mean()[0]*60) % 60)}s\")\n",
    "axes[0].legend(facecolor=\"white\")\n",
    "axes[0].set(title='Histogram');\n",
    "\n",
    "\n",
    "axes[1] = sns.boxplot(data=trimmed, \n",
    "                      #color=\"tab:blue\", \n",
    "                      ax=axes[1], \n",
    "                      orient=\"h\", \n",
    "                      meanprops=meanpointprops,\n",
    "                      showmeans=True)\n",
    "axes[1].set(title='Bolxplot')\n",
    "axes[1].tick_params(left=False)\n",
    "#axes[1].yaxis.grid(True)\n",
    "axes[1].set(yticklabels=[]);\n",
    "plt.savefig(\"../images/pre_intervention/mins_to_complete\",bbox_inches='tight')"
   ]
  },
  {
   "cell_type": "code",
   "execution_count": null,
   "metadata": {},
   "outputs": [],
   "source": [
    "# confirm only 1 has been removed\n",
    "print(f\"original: {time.shape[0]}\")\n",
    "print(f\"trimmed: {trimmed.shape[0]}\")\n",
    "print(\"-\"*13)\n",
    "difference = time.shape[0]-trimmed.shape[0]\n",
    "print(f\"# removed: {difference}\")"
   ]
  },
  {
   "cell_type": "markdown",
   "metadata": {},
   "source": [
    "## Completed Surveys"
   ]
  },
  {
   "cell_type": "code",
   "execution_count": null,
   "metadata": {},
   "outputs": [],
   "source": [
    "totals = pd.read_pickle(\"../saved_data_frames/totals_df.pkl\")\n",
    "totals"
   ]
  },
  {
   "cell_type": "code",
   "execution_count": null,
   "metadata": {},
   "outputs": [],
   "source": [
    "colors = ['C10', 'C12']\n",
    "plt.figure(figsize=(6,5))\n",
    "plt.title(\"Total responses vs. Completed responses\", fontsize=20)\n",
    "sns.barplot(data = totals.T, palette=colors).set(ylabel='count')\n",
    "\n",
    "plt.legend(handles = [mpatches.Patch(color=i) for i in colors],\n",
    "           labels=[f\"{i}: {totals['count'][i]}\" for i in totals.T.columns],\n",
    "           facecolor=\"white\", \n",
    "           fontsize=13);\n",
    "plt.savefig(\"../images/pre_intervention/total_v_complete\", bbox_inches='tight')"
   ]
  },
  {
   "cell_type": "markdown",
   "metadata": {},
   "source": [
    "## Plotting Function"
   ]
  },
  {
   "cell_type": "code",
   "execution_count": null,
   "metadata": {},
   "outputs": [],
   "source": [
    "# make a function for plots\n",
    "def distributions(data, \n",
    "                  title, \n",
    "                  rotate_xlabels=False, \n",
    "                  figsize=(15,8), \n",
    "                  order=None, \n",
    "                  title_fontsize=20,\n",
    "                  legend_outside=False,\n",
    "                  filepath=None):\n",
    "    \n",
    "    df = pd.DataFrame(data.value_counts())\n",
    "    colors = ['C0','C1','C2','C3','C4','C5','C6','C7','C8','C9','C10']\n",
    "    if order != None:\n",
    "        if order == 'agree':\n",
    "            colors = ['#2bdb1f','#c4fa2f','#fae22f','#fa942f','#fa2f2f']\n",
    "            df = df.T[['Strongly Agree',\n",
    "                       'Agree',\n",
    "                       'Neutral',\n",
    "                       'Disagree',\n",
    "                       'Strongly Disagree']].T\n",
    "        \n",
    "        elif order == 'percent':\n",
    "            colors = ['#C97EFE','#AD70D8','#9963BF','#8053A0','#684382']\n",
    "            df = df.T[['None',\n",
    "                       'Less than 25%',\n",
    "                       '25% to 50%',\n",
    "                       '50% to 75%',\n",
    "                       'Greater than 75%']].T\n",
    "        \n",
    "        elif order == 'frequency_brush':\n",
    "            colors = ['#82C5FE','#6DA5D5','#5782A8','#456886']\n",
    "            df = df.T[['Less than 1 time each month',\n",
    "                       '2 to 3 times each week',\n",
    "                       '1 time each day',\n",
    "                       '2 to 3 times each day']].T\n",
    "        \n",
    "        elif order == 'frequency_floss':\n",
    "            colors = ['#8AC386','#73B06F','#5E9C5A','#498745','#3A7536', \"#2C6329\"]\n",
    "            df = df.T[['Less than 1 time each month',\n",
    "                       '1 time each month',\n",
    "                       '1 time each week',\n",
    "                       '2 to 3 times each week',\n",
    "                       '1 time each day',\n",
    "                       '2 to 3 times each day']].T\n",
    "        \n",
    "        elif order == 'often':\n",
    "            colors = ['#FDC384','#FEAC54','#FD982B','#FD8300']\n",
    "            df = df.T[['Never','Not often','Somewhat often','Very often']].T\n",
    "        \n",
    "        elif order == 'true_false':\n",
    "            colors = ['C24', 'C19']\n",
    "            df = df.T[['True','False']].T\n",
    "        \n",
    "        elif order == 'k_brush':\n",
    "            colors = ['#82C5FE','#70AADB','#6193BD','#527CA0','#456886']\n",
    "            df = df.T[['Less than 1 time each month',\n",
    "                       '1 time each week',\n",
    "                       '2 to 3 times each week',\n",
    "                       '1 time each day',\n",
    "                       '2 to 3 times each day']].T\n",
    "            \n",
    "        elif order == 'frequency_visit_dentist':\n",
    "            colors = ['#83FED7','#72DCBA','#61BDA0','#519F86','#44846F', # gradiant\n",
    "                      'C0','C1','C3','C4','C5'] # random \n",
    "\n",
    "            df = df.T[['Only when they have pain',\n",
    "                       'Less than once every 12 months',\n",
    "                       'Once every 12 months',\n",
    "                       'Once every 6 months',\n",
    "                       'Once every 3 months',\n",
    "                       'Unknown',\n",
    "                       'Not Specified',\n",
    "                       'N/A, children are too young',\n",
    "                       'Difficult due to non-compliance',\n",
    "                       'Scheduled dental van visits']].T\n",
    "\n",
    "    df.columns = ['count']\n",
    "    \n",
    "    plt.figure(figsize=figsize)\n",
    "    plt.title(title, fontsize=title_fontsize)\n",
    "    sns.barplot(data = df.T, palette=colors).set(ylabel='count');\n",
    "    if rotate_xlabels != False:\n",
    "        if rotate_xlabels == True:\n",
    "            plt.xticks(rotation=20, ha='right', rotation_mode='anchor')\n",
    "        else:\n",
    "            plt.xticks(rotation=rotate_xlabels, ha='right', rotation_mode='anchor');\n",
    "            \n",
    "    if legend_outside == False:\n",
    "        plt.legend(handles = [mpatches.Patch(color=i) for i in colors],\n",
    "                   labels=[f\"{i}: {df['count'][i]}\" for i in df.T.columns],\n",
    "                   facecolor=\"white\", \n",
    "                   fontsize=15);\n",
    "    else:\n",
    "        plt.legend(handles = [mpatches.Patch(color=i) for i in colors],\n",
    "               labels=[f\"{i}: {df['count'][i]}\" for i in df.T.columns],\n",
    "               facecolor=\"white\", \n",
    "               fontsize=15,\n",
    "               bbox_to_anchor=(1.05, 1), \n",
    "               loc='upper left', \n",
    "               borderaxespad=0.);\n",
    "            \n",
    "    plt.savefig(filepath, bbox_inches='tight')"
   ]
  },
  {
   "cell_type": "markdown",
   "metadata": {},
   "source": [
    "## DEMOGRAPHICS"
   ]
  },
  {
   "cell_type": "code",
   "execution_count": null,
   "metadata": {},
   "outputs": [],
   "source": [
    "lat_long_df = pd.read_pickle(\"../saved_data_frames/lat_long_df.pkl\")\n",
    "lat_long_df.head()"
   ]
  },
  {
   "cell_type": "code",
   "execution_count": null,
   "metadata": {},
   "outputs": [],
   "source": [
    "#Create a map of the area\n",
    "base_map = folium.Map([lat_long_df['(lat,long)'][0][0], \n",
    "                       lat_long_df['(lat,long)'][0][1]], zoom_start=6)\n",
    "base_map"
   ]
  },
  {
   "cell_type": "code",
   "execution_count": null,
   "metadata": {},
   "outputs": [],
   "source": [
    "for i in lat_long_df.index:\n",
    "    lat = lat_long_df['(lat,long)'][i][0]\n",
    "    long = lat_long_df['(lat,long)'][i][1]\n",
    "    count = str(lat_long_df['count'][i])\n",
    "    popup = folium.Popup(count, parse_html=True)\n",
    "    marker = folium.Marker(location=[lat, long], popup=popup)\n",
    "    marker.add_to(base_map)\n",
    "base_map"
   ]
  },
  {
   "cell_type": "code",
   "execution_count": null,
   "metadata": {},
   "outputs": [],
   "source": [
    "base_map.save('../data/pre_intervention/Smiles_United.html')"
   ]
  },
  {
   "cell_type": "code",
   "execution_count": null,
   "metadata": {},
   "outputs": [],
   "source": [
    "demo_df = pd.read_pickle(\"../saved_data_frames/demographics_df.pkl\")\n",
    "demo_df.head()"
   ]
  },
  {
   "cell_type": "code",
   "execution_count": null,
   "metadata": {},
   "outputs": [],
   "source": [
    "distributions(demo_df['Primary Language'],\n",
    "              \"Primary Languages\",\n",
    "              figsize=(10, 5),\n",
    "              rotate_xlabels=45,\n",
    "              filepath=\"../images/pre_intervention/demographics/primary_language\")"
   ]
  },
  {
   "cell_type": "code",
   "execution_count": null,
   "metadata": {},
   "outputs": [],
   "source": [
    "distributions(demo_df['Training Relevance'],\n",
    "              \"Training Relevance\",\n",
    "              rotate_xlabels=45,\n",
    "              figsize=(10.1, 5),\n",
    "              filepath=\"../images/pre_intervention/demographics/training_relevance\")"
   ]
  },
  {
   "cell_type": "code",
   "execution_count": null,
   "metadata": {},
   "outputs": [],
   "source": [
    "distributions(demo_df['Community Type'],\n",
    "              \"Community Types\",\n",
    "              figsize=(6, 5),\n",
    "              filepath=\"../images/pre_intervention/demographics/community_type\")"
   ]
  },
  {
   "cell_type": "code",
   "execution_count": null,
   "metadata": {},
   "outputs": [],
   "source": [
    "distributions(demo_df['Gender'], \n",
    "              \"Gender\", \n",
    "              order='gender',\n",
    "              rotate_xlabels=45,\n",
    "              figsize=(8, 5),\n",
    "              filepath=\"../images/pre_intervention/demographics/gender\")"
   ]
  },
  {
   "cell_type": "code",
   "execution_count": null,
   "metadata": {},
   "outputs": [],
   "source": [
    "distributions(demo_df['Race/Ethnicity'], \n",
    "              \"Distribution of Race/Ethnicity\",\n",
    "              figsize=(10, 5),\n",
    "              rotate_xlabels=45,\n",
    "              filepath=\"../images/pre_intervention/demographics/race_ethnicity\")"
   ]
  },
  {
   "cell_type": "markdown",
   "metadata": {},
   "source": [
    "## SELF-REPORTING"
   ]
  },
  {
   "cell_type": "code",
   "execution_count": null,
   "metadata": {},
   "outputs": [],
   "source": [
    "self_reporting = pd.read_pickle(\"../saved_data_frames/self_reporting_df.pkl\")\n",
    "self_reporting.head()"
   ]
  },
  {
   "cell_type": "code",
   "execution_count": null,
   "metadata": {},
   "outputs": [],
   "source": [
    "col = self_reporting.columns[2]\n",
    "\n",
    "distributions(self_reporting[col], \n",
    "              \"Interest in Additional Training\",\n",
    "              order='agree',\n",
    "              figsize=(9, 5),\n",
    "              rotate_xlabels=45,\n",
    "              filepath=\"../images/pre_intervention/attitude/interest_in_additional_training\")"
   ]
  },
  {
   "cell_type": "code",
   "execution_count": null,
   "metadata": {},
   "outputs": [],
   "source": [
    "# convertion dict to adjust to 'None'\n",
    "none_dict = {\"None of the residents under my care experience bleeding when brushing their teeth\":\"None\"}\n"
   ]
  },
  {
   "cell_type": "code",
   "execution_count": null,
   "metadata": {},
   "outputs": [],
   "source": [
    "col = self_reporting.columns[3] # grab the column\n",
    "self_reporting[col] = self_reporting[col].replace(none_dict)# convert with dict\n",
    "\n",
    "# plot\n",
    "distributions(self_reporting[col], \n",
    "              \"Percentage of Residents Requiring Assistance with Brushing/Flossing\",\n",
    "              order=\"percent\",\n",
    "              title_fontsize=18,\n",
    "              figsize=(9, 5),\n",
    "              rotate_xlabels=45,\n",
    "              filepath=\"../images/pre_intervention/demographics/assistance_brush_and_floss\")"
   ]
  },
  {
   "cell_type": "code",
   "execution_count": null,
   "metadata": {},
   "outputs": [],
   "source": [
    "col = self_reporting.columns[4]\n",
    "\n",
    "self_reporting[col] = self_reporting[col].replace(none_dict)\n",
    "\n",
    "distributions(self_reporting[col], \n",
    "              \"Percentage of Residents Who Experience BLEEDING when BRUSHING\",\n",
    "              order=\"percent\",\n",
    "              title_fontsize=18,\n",
    "              figsize=(9, 5),\n",
    "              rotate_xlabels=45,\n",
    "              filepath=\"../images/pre_intervention/demographics/bleeding_brushing\")"
   ]
  },
  {
   "cell_type": "code",
   "execution_count": null,
   "metadata": {},
   "outputs": [],
   "source": [
    "col = self_reporting.columns[5]\n",
    "\n",
    "self_reporting[col] = self_reporting[col].replace(none_dict)\n",
    "\n",
    "distributions(self_reporting[col], \n",
    "              \"Percentage of Residents Who Experience BLEEDING when FLOSSING\",\n",
    "              order=\"percent\",\n",
    "              title_fontsize=18,\n",
    "              figsize=(9, 5),\n",
    "              rotate_xlabels=45,\n",
    "              filepath=\"../images/pre_intervention/demographics/bleeding_flossing\")"
   ]
  },
  {
   "cell_type": "code",
   "execution_count": null,
   "metadata": {},
   "outputs": [],
   "source": [
    "col = self_reporting.columns[6]\n",
    "len(self_reporting[col].value_counts())"
   ]
  },
  {
   "cell_type": "code",
   "execution_count": null,
   "metadata": {},
   "outputs": [],
   "source": [
    "col = self_reporting.columns[6]\n",
    "\n",
    "distributions(self_reporting[col], \n",
    "              \"Frequency of Residents' BRUSHING\",\n",
    "              order='frequency_brush',\n",
    "              figsize=(9, 5),\n",
    "              rotate_xlabels=45,\n",
    "              filepath=\"../images/pre_intervention/demographics/frequency_brushing\")"
   ]
  },
  {
   "cell_type": "code",
   "execution_count": null,
   "metadata": {},
   "outputs": [],
   "source": [
    "col = self_reporting.columns[7]\n",
    "\n",
    "distributions(self_reporting[col], \n",
    "              \"Frequency of Residents' FLOSSING\",\n",
    "              order='frequency_floss',\n",
    "              figsize=(9,5),\n",
    "              rotate_xlabels=45,\n",
    "              legend_outside = True,\n",
    "              filepath=\"../images/pre_intervention/demographics/frequency_flossing\")"
   ]
  },
  {
   "cell_type": "code",
   "execution_count": null,
   "metadata": {},
   "outputs": [],
   "source": [
    "col = self_reporting.columns[8]\n",
    "\n",
    "distributions(self_reporting[col], \n",
    "              \"Frequency of Residents' Snacking Between Brushing and Flossing\",\n",
    "              order='often',\n",
    "              title_fontsize=18,\n",
    "              figsize=(9, 5),\n",
    "              rotate_xlabels=45,\n",
    "              filepath=\"../images/pre_intervention/demographics/frequency_snacking\")"
   ]
  },
  {
   "cell_type": "code",
   "execution_count": null,
   "metadata": {},
   "outputs": [],
   "source": [
    "col = self_reporting.columns[9]\n",
    "\n",
    "distributions(self_reporting[col], \n",
    "              \"Frequency of Residents' Visits to the Dentist\",\n",
    "              order='frequency_visit_dentist',\n",
    "              figsize=(12, 6),\n",
    "              rotate_xlabels=45,\n",
    "              #legend_outside = True,\n",
    "              filepath=\"../images/pre_intervention/demographics/frequency_dentist\")"
   ]
  },
  {
   "cell_type": "code",
   "execution_count": null,
   "metadata": {},
   "outputs": [],
   "source": [
    "col = self_reporting.columns[10]\n",
    "\n",
    "distributions(self_reporting[col], \n",
    "              \"Obstacles to Providing Excellent Oral Care to Residents\",\n",
    "              figsize=(9, 5),\n",
    "              rotate_xlabels=45,\n",
    "              filepath=\"../images/pre_intervention/attitude/obstacles_providing_oral_care\")"
   ]
  },
  {
   "cell_type": "code",
   "execution_count": null,
   "metadata": {},
   "outputs": [],
   "source": [
    "col = self_reporting.columns[11]\n",
    "\n",
    "distributions(self_reporting[col], \n",
    "              \"Sources of Dental-Related Information\",\n",
    "              figsize=(9, 5),\n",
    "              rotate_xlabels=45,\n",
    "              filepath=\"../images/pre_intervention/demographics/sources_of_information\")"
   ]
  },
  {
   "cell_type": "code",
   "execution_count": null,
   "metadata": {},
   "outputs": [],
   "source": [
    "col = self_reporting.columns[12]\n",
    "\n",
    "distributions(self_reporting[col], \n",
    "              \"Oral Health Care Training Obstacles\",\n",
    "              figsize=(15, 7),\n",
    "              rotate_xlabels=45,\n",
    "              #legend_outside = True,\n",
    "              filepath=\"../images/pre_intervention/demographics/training_obstacles\")"
   ]
  },
  {
   "cell_type": "code",
   "execution_count": null,
   "metadata": {},
   "outputs": [],
   "source": [
    "col = self_reporting.columns[13]\n",
    "\n",
    "distributions(self_reporting[col], \n",
    "              \"Confidence Building Resources\",\n",
    "              figsize=(14, 7),\n",
    "              rotate_xlabels=45,\n",
    "              filepath=\"../images/pre_intervention/self_reporting/confidence_building_resources\")"
   ]
  },
  {
   "cell_type": "code",
   "execution_count": null,
   "metadata": {},
   "outputs": [],
   "source": [
    "col = self_reporting.columns[14]\n",
    "\n",
    "distributions(self_reporting[col], \n",
    "              \"Previous Training on How to Provide Oral Health Care \\nfor Individuals with Special Health Care Needs?\",\n",
    "              title_fontsize=18,\n",
    "              figsize=(9, 5),\n",
    "              rotate_xlabels=45,\n",
    "              #legend_outside=True, \n",
    "              filepath=\"../images/pre_intervention/demographics/previous_training\")\n",
    "\n"
   ]
  },
  {
   "cell_type": "markdown",
   "metadata": {},
   "source": [
    "## HYPOTHESIS"
   ]
  },
  {
   "cell_type": "code",
   "execution_count": null,
   "metadata": {},
   "outputs": [],
   "source": [
    "eval_df = pd.read_pickle(\"../saved_data_frames/hypothesis_df.pkl\")\n",
    "eval_df.head()"
   ]
  },
  {
   "cell_type": "code",
   "execution_count": null,
   "metadata": {},
   "outputs": [],
   "source": [
    "col = eval_df.columns[2]\n",
    "\n",
    "distributions(eval_df[col], \n",
    "              \"Fluoridated Products Improve Oral Health\",\n",
    "              order='true_false',\n",
    "              title_fontsize=18,\n",
    "              figsize=(5,4),\n",
    "              filepath=\"../images/pre_intervention/knowledge/floridated_products\")\n",
    "\n"
   ]
  },
  {
   "cell_type": "code",
   "execution_count": null,
   "metadata": {},
   "outputs": [],
   "source": [
    "col = eval_df.columns[3]\n",
    "\n",
    "distributions(eval_df[col], \n",
    "              \"Healthy Gums Bleed When Brushing\",\n",
    "              figsize=(5,4),\n",
    "              title_fontsize=18,\n",
    "              order='true_false',\n",
    "              filepath=\"../images/pre_intervention/knowledge/healthy_gums\")"
   ]
  },
  {
   "cell_type": "code",
   "execution_count": null,
   "metadata": {},
   "outputs": [],
   "source": [
    "col = eval_df.columns[4]\n",
    "\n",
    "distributions(eval_df[col], \n",
    "              \"Dry Mouth Can Have a Negative Effect on Oral Health\",\n",
    "              figsize=(5,4),\n",
    "              title_fontsize=18,\n",
    "              order='true_false',\n",
    "              filepath=\"../images/pre_intervention/knowledge/dry_mouth\")"
   ]
  },
  {
   "cell_type": "code",
   "execution_count": null,
   "metadata": {},
   "outputs": [],
   "source": [
    "col = eval_df.columns[5]\n",
    "\n",
    "distributions(eval_df[col], \n",
    "              \"Snacking Can Have a Negative Effect on Oral Health\",\n",
    "              figsize=(5,4),\n",
    "              title_fontsize=18,\n",
    "              order='true_false', \n",
    "              filepath=\"../images/pre_intervention/knowledge/snacking_bad\")"
   ]
  },
  {
   "cell_type": "code",
   "execution_count": null,
   "metadata": {},
   "outputs": [],
   "source": [
    "col = eval_df.columns[15]\n",
    "\n",
    "distributions(eval_df[col], \n",
    "              \"How often should residents brush their teeth?\",\n",
    "              order=\"k_brush\", \n",
    "              figsize=(9,5),\n",
    "              rotate_xlabels=45,\n",
    "              filepath=\"../images/pre_intervention/knowledge/often_should_brush\")"
   ]
  },
  {
   "cell_type": "code",
   "execution_count": null,
   "metadata": {},
   "outputs": [],
   "source": [
    "col = eval_df.columns[16]\n",
    "\n",
    "distributions(eval_df[col], \n",
    "              \"How often should residents floss their teeth \",\n",
    "              order=\"frequency_floss\",\n",
    "              figsize=(9,5),\n",
    "              rotate_xlabels=45,\n",
    "              filepath=\"../images/pre_intervention/knowledge/often_should_floss\")"
   ]
  },
  {
   "cell_type": "code",
   "execution_count": null,
   "metadata": {},
   "outputs": [],
   "source": [
    "col = eval_df.columns[12]\n",
    "eval_df[col].value_counts()"
   ]
  },
  {
   "cell_type": "code",
   "execution_count": null,
   "metadata": {},
   "outputs": [],
   "source": [
    "col = eval_df.columns[12]\n",
    "\n",
    "eval_df[col] = eval_df[col].replace(none_dict)\n",
    "\n",
    "distributions(eval_df[col], \n",
    "              \"Percentage of Residents Who Experience PAIN when BRUSHING\",\n",
    "              order=\"percent\",\n",
    "              title_fontsize=18,\n",
    "              figsize=(9,5),\n",
    "              rotate_xlabels=45,\n",
    "              filepath=\"../images/pre_intervention/demographics/pain_when_brushing\")"
   ]
  },
  {
   "cell_type": "code",
   "execution_count": null,
   "metadata": {},
   "outputs": [],
   "source": [
    "col = eval_df.columns[13]\n",
    "\n",
    "eval_df[col] = eval_df[col].replace(none_dict)\n",
    "\n",
    "distributions(eval_df[col], \n",
    "              \"Percentage of Residents Who Experience PAIN when FLOSSING\",\n",
    "              order=\"percent\",\n",
    "              title_fontsize=18,\n",
    "              figsize=(9,5),\n",
    "              rotate_xlabels=45,\n",
    "              filepath=\"../images/pre_intervention/demographics/pain_when_flossing\")"
   ]
  },
  {
   "cell_type": "code",
   "execution_count": null,
   "metadata": {},
   "outputs": [],
   "source": [
    "col = eval_df.columns[14]\n",
    "\n",
    "eval_df[col] = eval_df[col].replace(none_dict)\n",
    "\n",
    "distributions(eval_df[col], \n",
    "              \"Percentage of Residents who Experience Dental Pain Throughout the Day\\n(when they are not brushing or flossing)\",\n",
    "              order=\"percent\",\n",
    "              title_fontsize=18,\n",
    "              figsize=(9,5),\n",
    "              rotate_xlabels=45,\n",
    "              filepath=\"../images/pre_intervention/demographics/pain_throughout_day\")"
   ]
  },
  {
   "cell_type": "code",
   "execution_count": null,
   "metadata": {},
   "outputs": [],
   "source": [
    "col = eval_df.columns[6]\n",
    "\n",
    "distributions(eval_df[col], \n",
    "              \"Respondents' Belief They Have Adequate Training\",\n",
    "               order=\"agree\",\n",
    "              title_fontsize=18,\n",
    "              figsize=(9,5),\n",
    "              rotate_xlabels=45,\n",
    "              filepath=\"../images/pre_intervention/attitude/adequate_training\")"
   ]
  },
  {
   "cell_type": "code",
   "execution_count": null,
   "metadata": {},
   "outputs": [],
   "source": [
    "col = eval_df.columns[7]\n",
    "\n",
    "distributions(eval_df[col], \n",
    "              \"Residents Have Oral Health Care Needs \\nWhich Require Further Training\",\n",
    "              order=\"agree\",\n",
    "              title_fontsize=18,\n",
    "              figsize=(9,5),\n",
    "              rotate_xlabels=45,\n",
    "              filepath=\"../images/pre_intervention/attitude/needed_further_training\")"
   ]
  },
  {
   "cell_type": "code",
   "execution_count": null,
   "metadata": {},
   "outputs": [],
   "source": [
    "col = eval_df.columns[8]\n",
    "\n",
    "distributions(eval_df[col], \n",
    "              \"Respondents' Belief They Have Effective Teeth Brushing \\nTechniques to Aid Residents\",\n",
    "               order=\"agree\",\n",
    "              title_fontsize=18,\n",
    "              figsize=(9,5),\n",
    "              rotate_xlabels=45,\n",
    "              filepath=\"../images/pre_intervention/attitude/effective_teeth_brushing_techniques\")"
   ]
  },
  {
   "cell_type": "code",
   "execution_count": null,
   "metadata": {},
   "outputs": [],
   "source": [
    "col = eval_df.columns[9]\n",
    "\n",
    "distributions(eval_df[col], \n",
    "              \"Respondents' Comfort Assisting Residents in the \\nSafe Use of Fluoridated Dental Products\", \n",
    "               order=\"agree\",\n",
    "              title_fontsize=18,\n",
    "              figsize=(9,5),\n",
    "              rotate_xlabels=45,\n",
    "              filepath=\"../images/pre_intervention/attitude/comfort_assisting\")"
   ]
  },
  {
   "cell_type": "code",
   "execution_count": null,
   "metadata": {},
   "outputs": [],
   "source": [
    "col = eval_df.columns[11]\n",
    "\n",
    "distributions(eval_df[col], \n",
    "              \"Respondents' Confidence They Have Adequate \\nKnowledge to Identify Residents' Oral Pain\", \n",
    "               order=\"agree\",\n",
    "              title_fontsize=18,\n",
    "              figsize=(9,5),\n",
    "              rotate_xlabels=45,\n",
    "              filepath=\"../images/pre_intervention/attitude/confidence_identify_oral_pain\")"
   ]
  },
  {
   "cell_type": "code",
   "execution_count": null,
   "metadata": {},
   "outputs": [],
   "source": [
    "col = eval_df.columns[10]\n",
    "\n",
    "distributions(eval_df[col], \n",
    "              \"Respondents' Confidence in Ability to Recognize \\nNon-Verbal Signs of Pain in Residents\", \n",
    "      \n",
    "              order=\"agree\",\n",
    "              title_fontsize=18,\n",
    "              figsize=(9,5),\n",
    "              rotate_xlabels=45,\n",
    "              filepath=\"../images/pre_intervention/attitude/confidence_identify_non_verbal_pain\")"
   ]
  },
  {
   "cell_type": "code",
   "execution_count": null,
   "metadata": {},
   "outputs": [],
   "source": [
    "index = 10\n",
    "\n",
    "print(eval_df.columns[index])\n",
    "print()\n",
    "eval_df[eval_df.columns[index]].value_counts()"
   ]
  }
 ],
 "metadata": {
  "kernelspec": {
   "display_name": "Python (learn-env)",
   "language": "python",
   "name": "learn-env"
  },
  "language_info": {
   "codemirror_mode": {
    "name": "ipython",
    "version": 3
   },
   "file_extension": ".py",
   "mimetype": "text/x-python",
   "name": "python",
   "nbconvert_exporter": "python",
   "pygments_lexer": "ipython3",
   "version": "3.8.5"
  },
  "toc": {
   "base_numbering": 1,
   "nav_menu": {},
   "number_sections": true,
   "sideBar": true,
   "skip_h1_title": false,
   "title_cell": "Table of Contents",
   "title_sidebar": "Contents",
   "toc_cell": false,
   "toc_position": {},
   "toc_section_display": true,
   "toc_window_display": false
  }
 },
 "nbformat": 4,
 "nbformat_minor": 4
}
